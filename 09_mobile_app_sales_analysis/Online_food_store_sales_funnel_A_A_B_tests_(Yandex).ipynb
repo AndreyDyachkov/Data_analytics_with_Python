{
  "nbformat": 4,
  "nbformat_minor": 0,
  "metadata": {
    "kernelspec": {
      "display_name": "Python 3",
      "language": "python",
      "name": "python3"
    },
    "language_info": {
      "codemirror_mode": {
        "name": "ipython",
        "version": 3
      },
      "file_extension": ".py",
      "mimetype": "text/x-python",
      "name": "python",
      "nbconvert_exporter": "python",
      "pygments_lexer": "ipython3",
      "version": "3.7.8"
    },
    "toc": {
      "base_numbering": 1,
      "nav_menu": {},
      "number_sections": true,
      "sideBar": true,
      "skip_h1_title": true,
      "title_cell": "Table of Contents",
      "title_sidebar": "Contents",
      "toc_cell": false,
      "toc_position": {
        "height": "calc(100% - 180px)",
        "left": "10px",
        "top": "150px",
        "width": "188.391px"
      },
      "toc_section_display": true,
      "toc_window_display": true
    },
    "colab": {
      "provenance": [],
      "collapsed_sections": [
        "tK-5BREdojK1",
        "wsFLGIhEojK2",
        "kmCGYOpeojK4",
        "n48sf1zvojK6",
        "ur7Z5iH7ojK8",
        "5rzAbrFcojK9",
        "jQD7olU9ojLA",
        "FDSPF49WojLF",
        "f6EeDSRwojLI",
        "6KmRQhx-ojLK",
        "lCkxoG-2ojLK",
        "LG66XL7-ojLM",
        "30ihXdrUojLN",
        "dLL0wuQNojLU",
        "gpYcUatxojLV",
        "pxatF7tYojLW",
        "sOOgUKyQojLX",
        "Bli-LIzyojLZ",
        "wcXMuIvxojLb",
        "MKLBbwEWojLh"
      ],
      "toc_visible": true,
      "include_colab_link": true
    }
  },
  "cells": [
    {
      "cell_type": "markdown",
      "metadata": {
        "id": "view-in-github",
        "colab_type": "text"
      },
      "source": [
        "<a href=\"https://colab.research.google.com/github/AndreyDyachkov/Data_analytics_with_Python/blob/main/09_mobile_app_sales_analysis/Online_food_store_sales_funnel_A_A_B_tests_(Yandex).ipynb\" target=\"_parent\"><img src=\"https://colab.research.google.com/assets/colab-badge.svg\" alt=\"Open In Colab\"/></a>"
      ]
    },
    {
      "cell_type": "code",
      "metadata": {
        "id": "zGYibvDzpZDj"
      },
      "source": [],
      "execution_count": null,
      "outputs": []
    },
    {
      "cell_type": "markdown",
      "metadata": {
        "id": "R9vlNlcWojKu"
      },
      "source": [
        "# Online food store sales funnel analysis. A/A/B tests (Yandex)"
      ]
    },
    {
      "cell_type": "markdown",
      "metadata": {
        "id": "Y_rgQ2WxojKu"
      },
      "source": [
        "<b>Task:</b>\n",
        "Understand user behaviour in a startup mobile application that sells food:\n",
        "1. Explore the sales funnel: how users reach the purchase; how many users reach the purchase; how much gets stuck in the previous steps? Which ones exactly?\n",
        "2. Examine the results of the A/A/B font replacement experiment and find out which font is better (2 control groups with old fonts and 1 experimental group with new ones)."
      ]
    },
    {
      "cell_type": "markdown",
      "metadata": {
        "id": "1WckRLdRojKv"
      },
      "source": [
        "<b>Data description: </b>\n",
        "Table logs_exp.csv - Each entry in the log is a user action, or event.\n",
        "- EventName — event name;\n",
        "- DeviceIDHash — unique user ID;\n",
        "- EventTimestamp — event time;\n",
        "- ExpId is the number of the experiment: 246 and 247 are the control groups, and 248 is the experimental group."
      ]
    },
    {
      "cell_type": "markdown",
      "metadata": {
        "id": "tMZttbqlojKx"
      },
      "source": [
        "### Stage 1. Getting data"
      ]
    },
    {
      "cell_type": "markdown",
      "metadata": {
        "id": "pNX7ocT-ojKx"
      },
      "source": [
        "#### Libraries"
      ]
    },
    {
      "cell_type": "code",
      "metadata": {
        "id": "q7dX2Ri0ojKy"
      },
      "source": [
        "import pandas as pd\n",
        "import numpy as np\n",
        "import math as mth\n",
        "from scipy import stats as st\n",
        "\n",
        "import matplotlib.pyplot as plt\n",
        "from plotly import graph_objects as go"
      ],
      "execution_count": 1,
      "outputs": []
    },
    {
      "cell_type": "markdown",
      "metadata": {
        "id": "aeDWtiIvojKy"
      },
      "source": [
        "#### Data"
      ]
    },
    {
      "cell_type": "code",
      "source": [
        "from google.colab import drive\n",
        "drive.mount('/content/drive')"
      ],
      "metadata": {
        "colab": {
          "base_uri": "https://localhost:8080/"
        },
        "id": "NYgeCADIWbPd",
        "outputId": "a8d441ac-71eb-40fc-d42b-296ccc8aea40"
      },
      "execution_count": 2,
      "outputs": [
        {
          "output_type": "stream",
          "name": "stdout",
          "text": [
            "Mounted at /content/drive\n"
          ]
        }
      ]
    },
    {
      "cell_type": "code",
      "metadata": {
        "id": "vthmPSSNojKz",
        "outputId": "7d59c911-60ef-43b0-f9ce-4e869d83cf87",
        "colab": {
          "base_uri": "https://localhost:8080/",
          "height": 206
        }
      },
      "source": [
        "df = pd.read_csv('/content/drive/MyDrive/Colab Notebooks/Y_Praktikum/data/logs_exp.csv')\n",
        "df.head()"
      ],
      "execution_count": 3,
      "outputs": [
        {
          "output_type": "execute_result",
          "data": {
            "text/plain": [
              "      EventName\\tDeviceIDHash\\tEventTimestamp\\tExpId\n",
              "0  MainScreenAppear\\t4575588528974610257\\t1564029...\n",
              "1  MainScreenAppear\\t7416695313311560658\\t1564053...\n",
              "2  PaymentScreenSuccessful\\t3518123091307005509\\t...\n",
              "3  CartScreenAppear\\t3518123091307005509\\t1564054...\n",
              "4  PaymentScreenSuccessful\\t6217807653094995999\\t..."
            ],
            "text/html": [
              "\n",
              "  <div id=\"df-8cf9a09b-380a-4642-a12b-22a58f4ec5d8\">\n",
              "    <div class=\"colab-df-container\">\n",
              "      <div>\n",
              "<style scoped>\n",
              "    .dataframe tbody tr th:only-of-type {\n",
              "        vertical-align: middle;\n",
              "    }\n",
              "\n",
              "    .dataframe tbody tr th {\n",
              "        vertical-align: top;\n",
              "    }\n",
              "\n",
              "    .dataframe thead th {\n",
              "        text-align: right;\n",
              "    }\n",
              "</style>\n",
              "<table border=\"1\" class=\"dataframe\">\n",
              "  <thead>\n",
              "    <tr style=\"text-align: right;\">\n",
              "      <th></th>\n",
              "      <th>EventName\\tDeviceIDHash\\tEventTimestamp\\tExpId</th>\n",
              "    </tr>\n",
              "  </thead>\n",
              "  <tbody>\n",
              "    <tr>\n",
              "      <th>0</th>\n",
              "      <td>MainScreenAppear\\t4575588528974610257\\t1564029...</td>\n",
              "    </tr>\n",
              "    <tr>\n",
              "      <th>1</th>\n",
              "      <td>MainScreenAppear\\t7416695313311560658\\t1564053...</td>\n",
              "    </tr>\n",
              "    <tr>\n",
              "      <th>2</th>\n",
              "      <td>PaymentScreenSuccessful\\t3518123091307005509\\t...</td>\n",
              "    </tr>\n",
              "    <tr>\n",
              "      <th>3</th>\n",
              "      <td>CartScreenAppear\\t3518123091307005509\\t1564054...</td>\n",
              "    </tr>\n",
              "    <tr>\n",
              "      <th>4</th>\n",
              "      <td>PaymentScreenSuccessful\\t6217807653094995999\\t...</td>\n",
              "    </tr>\n",
              "  </tbody>\n",
              "</table>\n",
              "</div>\n",
              "      <button class=\"colab-df-convert\" onclick=\"convertToInteractive('df-8cf9a09b-380a-4642-a12b-22a58f4ec5d8')\"\n",
              "              title=\"Convert this dataframe to an interactive table.\"\n",
              "              style=\"display:none;\">\n",
              "        \n",
              "  <svg xmlns=\"http://www.w3.org/2000/svg\" height=\"24px\"viewBox=\"0 0 24 24\"\n",
              "       width=\"24px\">\n",
              "    <path d=\"M0 0h24v24H0V0z\" fill=\"none\"/>\n",
              "    <path d=\"M18.56 5.44l.94 2.06.94-2.06 2.06-.94-2.06-.94-.94-2.06-.94 2.06-2.06.94zm-11 1L8.5 8.5l.94-2.06 2.06-.94-2.06-.94L8.5 2.5l-.94 2.06-2.06.94zm10 10l.94 2.06.94-2.06 2.06-.94-2.06-.94-.94-2.06-.94 2.06-2.06.94z\"/><path d=\"M17.41 7.96l-1.37-1.37c-.4-.4-.92-.59-1.43-.59-.52 0-1.04.2-1.43.59L10.3 9.45l-7.72 7.72c-.78.78-.78 2.05 0 2.83L4 21.41c.39.39.9.59 1.41.59.51 0 1.02-.2 1.41-.59l7.78-7.78 2.81-2.81c.8-.78.8-2.07 0-2.86zM5.41 20L4 18.59l7.72-7.72 1.47 1.35L5.41 20z\"/>\n",
              "  </svg>\n",
              "      </button>\n",
              "      \n",
              "  <style>\n",
              "    .colab-df-container {\n",
              "      display:flex;\n",
              "      flex-wrap:wrap;\n",
              "      gap: 12px;\n",
              "    }\n",
              "\n",
              "    .colab-df-convert {\n",
              "      background-color: #E8F0FE;\n",
              "      border: none;\n",
              "      border-radius: 50%;\n",
              "      cursor: pointer;\n",
              "      display: none;\n",
              "      fill: #1967D2;\n",
              "      height: 32px;\n",
              "      padding: 0 0 0 0;\n",
              "      width: 32px;\n",
              "    }\n",
              "\n",
              "    .colab-df-convert:hover {\n",
              "      background-color: #E2EBFA;\n",
              "      box-shadow: 0px 1px 2px rgba(60, 64, 67, 0.3), 0px 1px 3px 1px rgba(60, 64, 67, 0.15);\n",
              "      fill: #174EA6;\n",
              "    }\n",
              "\n",
              "    [theme=dark] .colab-df-convert {\n",
              "      background-color: #3B4455;\n",
              "      fill: #D2E3FC;\n",
              "    }\n",
              "\n",
              "    [theme=dark] .colab-df-convert:hover {\n",
              "      background-color: #434B5C;\n",
              "      box-shadow: 0px 1px 3px 1px rgba(0, 0, 0, 0.15);\n",
              "      filter: drop-shadow(0px 1px 2px rgba(0, 0, 0, 0.3));\n",
              "      fill: #FFFFFF;\n",
              "    }\n",
              "  </style>\n",
              "\n",
              "      <script>\n",
              "        const buttonEl =\n",
              "          document.querySelector('#df-8cf9a09b-380a-4642-a12b-22a58f4ec5d8 button.colab-df-convert');\n",
              "        buttonEl.style.display =\n",
              "          google.colab.kernel.accessAllowed ? 'block' : 'none';\n",
              "\n",
              "        async function convertToInteractive(key) {\n",
              "          const element = document.querySelector('#df-8cf9a09b-380a-4642-a12b-22a58f4ec5d8');\n",
              "          const dataTable =\n",
              "            await google.colab.kernel.invokeFunction('convertToInteractive',\n",
              "                                                     [key], {});\n",
              "          if (!dataTable) return;\n",
              "\n",
              "          const docLinkHtml = 'Like what you see? Visit the ' +\n",
              "            '<a target=\"_blank\" href=https://colab.research.google.com/notebooks/data_table.ipynb>data table notebook</a>'\n",
              "            + ' to learn more about interactive tables.';\n",
              "          element.innerHTML = '';\n",
              "          dataTable['output_type'] = 'display_data';\n",
              "          await google.colab.output.renderOutput(dataTable, element);\n",
              "          const docLink = document.createElement('div');\n",
              "          docLink.innerHTML = docLinkHtml;\n",
              "          element.appendChild(docLink);\n",
              "        }\n",
              "      </script>\n",
              "    </div>\n",
              "  </div>\n",
              "  "
            ]
          },
          "metadata": {},
          "execution_count": 3
        }
      ]
    },
    {
      "cell_type": "markdown",
      "metadata": {
        "id": "xgbrkD6bojK0"
      },
      "source": [
        "Changing the delimiter to \"/t\""
      ]
    },
    {
      "cell_type": "code",
      "metadata": {
        "id": "vwztrM8_ojK0",
        "outputId": "f59bf0bf-0854-4fb0-860c-d861a5d9ea2e",
        "colab": {
          "base_uri": "https://localhost:8080/",
          "height": 206
        }
      },
      "source": [
        "df = pd.read_csv('/content/drive/MyDrive/Colab Notebooks/Y_Praktikum/data/logs_exp.csv', sep='\\t')\n",
        "df.head()"
      ],
      "execution_count": 4,
      "outputs": [
        {
          "output_type": "execute_result",
          "data": {
            "text/plain": [
              "                 EventName         DeviceIDHash  EventTimestamp  ExpId\n",
              "0         MainScreenAppear  4575588528974610257      1564029816    246\n",
              "1         MainScreenAppear  7416695313311560658      1564053102    246\n",
              "2  PaymentScreenSuccessful  3518123091307005509      1564054127    248\n",
              "3         CartScreenAppear  3518123091307005509      1564054127    248\n",
              "4  PaymentScreenSuccessful  6217807653094995999      1564055322    248"
            ],
            "text/html": [
              "\n",
              "  <div id=\"df-f2c80548-f269-411a-b3a2-cba9912d5376\">\n",
              "    <div class=\"colab-df-container\">\n",
              "      <div>\n",
              "<style scoped>\n",
              "    .dataframe tbody tr th:only-of-type {\n",
              "        vertical-align: middle;\n",
              "    }\n",
              "\n",
              "    .dataframe tbody tr th {\n",
              "        vertical-align: top;\n",
              "    }\n",
              "\n",
              "    .dataframe thead th {\n",
              "        text-align: right;\n",
              "    }\n",
              "</style>\n",
              "<table border=\"1\" class=\"dataframe\">\n",
              "  <thead>\n",
              "    <tr style=\"text-align: right;\">\n",
              "      <th></th>\n",
              "      <th>EventName</th>\n",
              "      <th>DeviceIDHash</th>\n",
              "      <th>EventTimestamp</th>\n",
              "      <th>ExpId</th>\n",
              "    </tr>\n",
              "  </thead>\n",
              "  <tbody>\n",
              "    <tr>\n",
              "      <th>0</th>\n",
              "      <td>MainScreenAppear</td>\n",
              "      <td>4575588528974610257</td>\n",
              "      <td>1564029816</td>\n",
              "      <td>246</td>\n",
              "    </tr>\n",
              "    <tr>\n",
              "      <th>1</th>\n",
              "      <td>MainScreenAppear</td>\n",
              "      <td>7416695313311560658</td>\n",
              "      <td>1564053102</td>\n",
              "      <td>246</td>\n",
              "    </tr>\n",
              "    <tr>\n",
              "      <th>2</th>\n",
              "      <td>PaymentScreenSuccessful</td>\n",
              "      <td>3518123091307005509</td>\n",
              "      <td>1564054127</td>\n",
              "      <td>248</td>\n",
              "    </tr>\n",
              "    <tr>\n",
              "      <th>3</th>\n",
              "      <td>CartScreenAppear</td>\n",
              "      <td>3518123091307005509</td>\n",
              "      <td>1564054127</td>\n",
              "      <td>248</td>\n",
              "    </tr>\n",
              "    <tr>\n",
              "      <th>4</th>\n",
              "      <td>PaymentScreenSuccessful</td>\n",
              "      <td>6217807653094995999</td>\n",
              "      <td>1564055322</td>\n",
              "      <td>248</td>\n",
              "    </tr>\n",
              "  </tbody>\n",
              "</table>\n",
              "</div>\n",
              "      <button class=\"colab-df-convert\" onclick=\"convertToInteractive('df-f2c80548-f269-411a-b3a2-cba9912d5376')\"\n",
              "              title=\"Convert this dataframe to an interactive table.\"\n",
              "              style=\"display:none;\">\n",
              "        \n",
              "  <svg xmlns=\"http://www.w3.org/2000/svg\" height=\"24px\"viewBox=\"0 0 24 24\"\n",
              "       width=\"24px\">\n",
              "    <path d=\"M0 0h24v24H0V0z\" fill=\"none\"/>\n",
              "    <path d=\"M18.56 5.44l.94 2.06.94-2.06 2.06-.94-2.06-.94-.94-2.06-.94 2.06-2.06.94zm-11 1L8.5 8.5l.94-2.06 2.06-.94-2.06-.94L8.5 2.5l-.94 2.06-2.06.94zm10 10l.94 2.06.94-2.06 2.06-.94-2.06-.94-.94-2.06-.94 2.06-2.06.94z\"/><path d=\"M17.41 7.96l-1.37-1.37c-.4-.4-.92-.59-1.43-.59-.52 0-1.04.2-1.43.59L10.3 9.45l-7.72 7.72c-.78.78-.78 2.05 0 2.83L4 21.41c.39.39.9.59 1.41.59.51 0 1.02-.2 1.41-.59l7.78-7.78 2.81-2.81c.8-.78.8-2.07 0-2.86zM5.41 20L4 18.59l7.72-7.72 1.47 1.35L5.41 20z\"/>\n",
              "  </svg>\n",
              "      </button>\n",
              "      \n",
              "  <style>\n",
              "    .colab-df-container {\n",
              "      display:flex;\n",
              "      flex-wrap:wrap;\n",
              "      gap: 12px;\n",
              "    }\n",
              "\n",
              "    .colab-df-convert {\n",
              "      background-color: #E8F0FE;\n",
              "      border: none;\n",
              "      border-radius: 50%;\n",
              "      cursor: pointer;\n",
              "      display: none;\n",
              "      fill: #1967D2;\n",
              "      height: 32px;\n",
              "      padding: 0 0 0 0;\n",
              "      width: 32px;\n",
              "    }\n",
              "\n",
              "    .colab-df-convert:hover {\n",
              "      background-color: #E2EBFA;\n",
              "      box-shadow: 0px 1px 2px rgba(60, 64, 67, 0.3), 0px 1px 3px 1px rgba(60, 64, 67, 0.15);\n",
              "      fill: #174EA6;\n",
              "    }\n",
              "\n",
              "    [theme=dark] .colab-df-convert {\n",
              "      background-color: #3B4455;\n",
              "      fill: #D2E3FC;\n",
              "    }\n",
              "\n",
              "    [theme=dark] .colab-df-convert:hover {\n",
              "      background-color: #434B5C;\n",
              "      box-shadow: 0px 1px 3px 1px rgba(0, 0, 0, 0.15);\n",
              "      filter: drop-shadow(0px 1px 2px rgba(0, 0, 0, 0.3));\n",
              "      fill: #FFFFFF;\n",
              "    }\n",
              "  </style>\n",
              "\n",
              "      <script>\n",
              "        const buttonEl =\n",
              "          document.querySelector('#df-f2c80548-f269-411a-b3a2-cba9912d5376 button.colab-df-convert');\n",
              "        buttonEl.style.display =\n",
              "          google.colab.kernel.accessAllowed ? 'block' : 'none';\n",
              "\n",
              "        async function convertToInteractive(key) {\n",
              "          const element = document.querySelector('#df-f2c80548-f269-411a-b3a2-cba9912d5376');\n",
              "          const dataTable =\n",
              "            await google.colab.kernel.invokeFunction('convertToInteractive',\n",
              "                                                     [key], {});\n",
              "          if (!dataTable) return;\n",
              "\n",
              "          const docLinkHtml = 'Like what you see? Visit the ' +\n",
              "            '<a target=\"_blank\" href=https://colab.research.google.com/notebooks/data_table.ipynb>data table notebook</a>'\n",
              "            + ' to learn more about interactive tables.';\n",
              "          element.innerHTML = '';\n",
              "          dataTable['output_type'] = 'display_data';\n",
              "          await google.colab.output.renderOutput(dataTable, element);\n",
              "          const docLink = document.createElement('div');\n",
              "          docLink.innerHTML = docLinkHtml;\n",
              "          element.appendChild(docLink);\n",
              "        }\n",
              "      </script>\n",
              "    </div>\n",
              "  </div>\n",
              "  "
            ]
          },
          "metadata": {},
          "execution_count": 4
        }
      ]
    },
    {
      "cell_type": "markdown",
      "metadata": {
        "id": "MqCa3fFUojK1"
      },
      "source": [
        "### Stage 2. Data processing"
      ]
    },
    {
      "cell_type": "markdown",
      "metadata": {
        "id": "tK-5BREdojK1"
      },
      "source": [
        "#### Changing column names"
      ]
    },
    {
      "cell_type": "code",
      "metadata": {
        "id": "5eS2z7qdojK1"
      },
      "source": [
        "#df.columns = ['event_name','user_id','event_time_stamp','exp_id']\n",
        "#df.head()"
      ],
      "execution_count": 5,
      "outputs": []
    },
    {
      "cell_type": "markdown",
      "source": [
        "Alternative"
      ],
      "metadata": {
        "id": "U64wpR8LXegX"
      }
    },
    {
      "cell_type": "code",
      "metadata": {
        "id": "aWqS3VgHojK1",
        "outputId": "e218d8c1-15bb-4cca-896d-bd54058f2629",
        "colab": {
          "base_uri": "https://localhost:8080/",
          "height": 206
        }
      },
      "source": [
        "df.rename(columns = {'EventName':'event_name'\n",
        "                     ,'DeviceIDHash':'user_id'\n",
        "                     ,'EventTimestamp':'event_time_stamp'\n",
        "                     ,'ExpId':'exp_id'}\n",
        "          , inplace = True)\n",
        "df.head()"
      ],
      "execution_count": 6,
      "outputs": [
        {
          "output_type": "execute_result",
          "data": {
            "text/plain": [
              "                event_name              user_id  event_time_stamp  exp_id\n",
              "0         MainScreenAppear  4575588528974610257        1564029816     246\n",
              "1         MainScreenAppear  7416695313311560658        1564053102     246\n",
              "2  PaymentScreenSuccessful  3518123091307005509        1564054127     248\n",
              "3         CartScreenAppear  3518123091307005509        1564054127     248\n",
              "4  PaymentScreenSuccessful  6217807653094995999        1564055322     248"
            ],
            "text/html": [
              "\n",
              "  <div id=\"df-b832e030-e4dd-4c5d-81f5-09a499503ca6\">\n",
              "    <div class=\"colab-df-container\">\n",
              "      <div>\n",
              "<style scoped>\n",
              "    .dataframe tbody tr th:only-of-type {\n",
              "        vertical-align: middle;\n",
              "    }\n",
              "\n",
              "    .dataframe tbody tr th {\n",
              "        vertical-align: top;\n",
              "    }\n",
              "\n",
              "    .dataframe thead th {\n",
              "        text-align: right;\n",
              "    }\n",
              "</style>\n",
              "<table border=\"1\" class=\"dataframe\">\n",
              "  <thead>\n",
              "    <tr style=\"text-align: right;\">\n",
              "      <th></th>\n",
              "      <th>event_name</th>\n",
              "      <th>user_id</th>\n",
              "      <th>event_time_stamp</th>\n",
              "      <th>exp_id</th>\n",
              "    </tr>\n",
              "  </thead>\n",
              "  <tbody>\n",
              "    <tr>\n",
              "      <th>0</th>\n",
              "      <td>MainScreenAppear</td>\n",
              "      <td>4575588528974610257</td>\n",
              "      <td>1564029816</td>\n",
              "      <td>246</td>\n",
              "    </tr>\n",
              "    <tr>\n",
              "      <th>1</th>\n",
              "      <td>MainScreenAppear</td>\n",
              "      <td>7416695313311560658</td>\n",
              "      <td>1564053102</td>\n",
              "      <td>246</td>\n",
              "    </tr>\n",
              "    <tr>\n",
              "      <th>2</th>\n",
              "      <td>PaymentScreenSuccessful</td>\n",
              "      <td>3518123091307005509</td>\n",
              "      <td>1564054127</td>\n",
              "      <td>248</td>\n",
              "    </tr>\n",
              "    <tr>\n",
              "      <th>3</th>\n",
              "      <td>CartScreenAppear</td>\n",
              "      <td>3518123091307005509</td>\n",
              "      <td>1564054127</td>\n",
              "      <td>248</td>\n",
              "    </tr>\n",
              "    <tr>\n",
              "      <th>4</th>\n",
              "      <td>PaymentScreenSuccessful</td>\n",
              "      <td>6217807653094995999</td>\n",
              "      <td>1564055322</td>\n",
              "      <td>248</td>\n",
              "    </tr>\n",
              "  </tbody>\n",
              "</table>\n",
              "</div>\n",
              "      <button class=\"colab-df-convert\" onclick=\"convertToInteractive('df-b832e030-e4dd-4c5d-81f5-09a499503ca6')\"\n",
              "              title=\"Convert this dataframe to an interactive table.\"\n",
              "              style=\"display:none;\">\n",
              "        \n",
              "  <svg xmlns=\"http://www.w3.org/2000/svg\" height=\"24px\"viewBox=\"0 0 24 24\"\n",
              "       width=\"24px\">\n",
              "    <path d=\"M0 0h24v24H0V0z\" fill=\"none\"/>\n",
              "    <path d=\"M18.56 5.44l.94 2.06.94-2.06 2.06-.94-2.06-.94-.94-2.06-.94 2.06-2.06.94zm-11 1L8.5 8.5l.94-2.06 2.06-.94-2.06-.94L8.5 2.5l-.94 2.06-2.06.94zm10 10l.94 2.06.94-2.06 2.06-.94-2.06-.94-.94-2.06-.94 2.06-2.06.94z\"/><path d=\"M17.41 7.96l-1.37-1.37c-.4-.4-.92-.59-1.43-.59-.52 0-1.04.2-1.43.59L10.3 9.45l-7.72 7.72c-.78.78-.78 2.05 0 2.83L4 21.41c.39.39.9.59 1.41.59.51 0 1.02-.2 1.41-.59l7.78-7.78 2.81-2.81c.8-.78.8-2.07 0-2.86zM5.41 20L4 18.59l7.72-7.72 1.47 1.35L5.41 20z\"/>\n",
              "  </svg>\n",
              "      </button>\n",
              "      \n",
              "  <style>\n",
              "    .colab-df-container {\n",
              "      display:flex;\n",
              "      flex-wrap:wrap;\n",
              "      gap: 12px;\n",
              "    }\n",
              "\n",
              "    .colab-df-convert {\n",
              "      background-color: #E8F0FE;\n",
              "      border: none;\n",
              "      border-radius: 50%;\n",
              "      cursor: pointer;\n",
              "      display: none;\n",
              "      fill: #1967D2;\n",
              "      height: 32px;\n",
              "      padding: 0 0 0 0;\n",
              "      width: 32px;\n",
              "    }\n",
              "\n",
              "    .colab-df-convert:hover {\n",
              "      background-color: #E2EBFA;\n",
              "      box-shadow: 0px 1px 2px rgba(60, 64, 67, 0.3), 0px 1px 3px 1px rgba(60, 64, 67, 0.15);\n",
              "      fill: #174EA6;\n",
              "    }\n",
              "\n",
              "    [theme=dark] .colab-df-convert {\n",
              "      background-color: #3B4455;\n",
              "      fill: #D2E3FC;\n",
              "    }\n",
              "\n",
              "    [theme=dark] .colab-df-convert:hover {\n",
              "      background-color: #434B5C;\n",
              "      box-shadow: 0px 1px 3px 1px rgba(0, 0, 0, 0.15);\n",
              "      filter: drop-shadow(0px 1px 2px rgba(0, 0, 0, 0.3));\n",
              "      fill: #FFFFFF;\n",
              "    }\n",
              "  </style>\n",
              "\n",
              "      <script>\n",
              "        const buttonEl =\n",
              "          document.querySelector('#df-b832e030-e4dd-4c5d-81f5-09a499503ca6 button.colab-df-convert');\n",
              "        buttonEl.style.display =\n",
              "          google.colab.kernel.accessAllowed ? 'block' : 'none';\n",
              "\n",
              "        async function convertToInteractive(key) {\n",
              "          const element = document.querySelector('#df-b832e030-e4dd-4c5d-81f5-09a499503ca6');\n",
              "          const dataTable =\n",
              "            await google.colab.kernel.invokeFunction('convertToInteractive',\n",
              "                                                     [key], {});\n",
              "          if (!dataTable) return;\n",
              "\n",
              "          const docLinkHtml = 'Like what you see? Visit the ' +\n",
              "            '<a target=\"_blank\" href=https://colab.research.google.com/notebooks/data_table.ipynb>data table notebook</a>'\n",
              "            + ' to learn more about interactive tables.';\n",
              "          element.innerHTML = '';\n",
              "          dataTable['output_type'] = 'display_data';\n",
              "          await google.colab.output.renderOutput(dataTable, element);\n",
              "          const docLink = document.createElement('div');\n",
              "          docLink.innerHTML = docLinkHtml;\n",
              "          element.appendChild(docLink);\n",
              "        }\n",
              "      </script>\n",
              "    </div>\n",
              "  </div>\n",
              "  "
            ]
          },
          "metadata": {},
          "execution_count": 6
        }
      ]
    },
    {
      "cell_type": "markdown",
      "metadata": {
        "id": "wsFLGIhEojK2"
      },
      "source": [
        "#### Checking for duplicates, missing values, wrong data types "
      ]
    },
    {
      "cell_type": "code",
      "metadata": {
        "id": "dY5Kg3ZbojK3",
        "outputId": "64f168eb-3cf9-4278-eb8b-2e4003703e9c",
        "colab": {
          "base_uri": "https://localhost:8080/"
        }
      },
      "source": [
        "df.info()"
      ],
      "execution_count": 7,
      "outputs": [
        {
          "output_type": "stream",
          "name": "stdout",
          "text": [
            "<class 'pandas.core.frame.DataFrame'>\n",
            "RangeIndex: 244126 entries, 0 to 244125\n",
            "Data columns (total 4 columns):\n",
            " #   Column            Non-Null Count   Dtype \n",
            "---  ------            --------------   ----- \n",
            " 0   event_name        244126 non-null  object\n",
            " 1   user_id           244126 non-null  int64 \n",
            " 2   event_time_stamp  244126 non-null  int64 \n",
            " 3   exp_id            244126 non-null  int64 \n",
            "dtypes: int64(3), object(1)\n",
            "memory usage: 7.5+ MB\n"
          ]
        }
      ]
    },
    {
      "cell_type": "markdown",
      "metadata": {
        "id": "poFqoIhbojK3"
      },
      "source": [
        "There is no missing values or wrong data types. Event_time_stamp column has a unix time format."
      ]
    },
    {
      "cell_type": "code",
      "metadata": {
        "id": "4eiFwyK6ojK3",
        "outputId": "b989e06a-d268-49a0-b1c7-9c2f18186a72",
        "colab": {
          "base_uri": "https://localhost:8080/"
        }
      },
      "source": [
        "df.duplicated().sum()"
      ],
      "execution_count": 8,
      "outputs": [
        {
          "output_type": "execute_result",
          "data": {
            "text/plain": [
              "413"
            ]
          },
          "metadata": {},
          "execution_count": 8
        }
      ]
    },
    {
      "cell_type": "markdown",
      "metadata": {
        "id": "4it3tHobojK3"
      },
      "source": [
        "We found 413 duplicates, let's remove them."
      ]
    },
    {
      "cell_type": "code",
      "metadata": {
        "id": "MEtEL2AYojK4",
        "outputId": "c381deb2-267c-4fd3-b9aa-30df89fdd985",
        "colab": {
          "base_uri": "https://localhost:8080/"
        }
      },
      "source": [
        "df = df.drop_duplicates().reset_index(drop=True)\n",
        "df.duplicated().sum()"
      ],
      "execution_count": 9,
      "outputs": [
        {
          "output_type": "execute_result",
          "data": {
            "text/plain": [
              "0"
            ]
          },
          "metadata": {},
          "execution_count": 9
        }
      ]
    },
    {
      "cell_type": "markdown",
      "metadata": {
        "id": "kmCGYOpeojK4"
      },
      "source": [
        "#### Adding a date column and a date and time column"
      ]
    },
    {
      "cell_type": "code",
      "metadata": {
        "id": "xXP8ZtPEojK4",
        "outputId": "5311fea6-ef69-436c-8872-189223079687",
        "colab": {
          "base_uri": "https://localhost:8080/",
          "height": 206
        }
      },
      "source": [
        "df['event_datetime']= pd.to_datetime(df['event_time_stamp'], unit='s')\n",
        "df.head()"
      ],
      "execution_count": 10,
      "outputs": [
        {
          "output_type": "execute_result",
          "data": {
            "text/plain": [
              "                event_name              user_id  event_time_stamp  exp_id  \\\n",
              "0         MainScreenAppear  4575588528974610257        1564029816     246   \n",
              "1         MainScreenAppear  7416695313311560658        1564053102     246   \n",
              "2  PaymentScreenSuccessful  3518123091307005509        1564054127     248   \n",
              "3         CartScreenAppear  3518123091307005509        1564054127     248   \n",
              "4  PaymentScreenSuccessful  6217807653094995999        1564055322     248   \n",
              "\n",
              "       event_datetime  \n",
              "0 2019-07-25 04:43:36  \n",
              "1 2019-07-25 11:11:42  \n",
              "2 2019-07-25 11:28:47  \n",
              "3 2019-07-25 11:28:47  \n",
              "4 2019-07-25 11:48:42  "
            ],
            "text/html": [
              "\n",
              "  <div id=\"df-b7c4b6a6-b784-4889-a0bb-1dc7b6733ed2\">\n",
              "    <div class=\"colab-df-container\">\n",
              "      <div>\n",
              "<style scoped>\n",
              "    .dataframe tbody tr th:only-of-type {\n",
              "        vertical-align: middle;\n",
              "    }\n",
              "\n",
              "    .dataframe tbody tr th {\n",
              "        vertical-align: top;\n",
              "    }\n",
              "\n",
              "    .dataframe thead th {\n",
              "        text-align: right;\n",
              "    }\n",
              "</style>\n",
              "<table border=\"1\" class=\"dataframe\">\n",
              "  <thead>\n",
              "    <tr style=\"text-align: right;\">\n",
              "      <th></th>\n",
              "      <th>event_name</th>\n",
              "      <th>user_id</th>\n",
              "      <th>event_time_stamp</th>\n",
              "      <th>exp_id</th>\n",
              "      <th>event_datetime</th>\n",
              "    </tr>\n",
              "  </thead>\n",
              "  <tbody>\n",
              "    <tr>\n",
              "      <th>0</th>\n",
              "      <td>MainScreenAppear</td>\n",
              "      <td>4575588528974610257</td>\n",
              "      <td>1564029816</td>\n",
              "      <td>246</td>\n",
              "      <td>2019-07-25 04:43:36</td>\n",
              "    </tr>\n",
              "    <tr>\n",
              "      <th>1</th>\n",
              "      <td>MainScreenAppear</td>\n",
              "      <td>7416695313311560658</td>\n",
              "      <td>1564053102</td>\n",
              "      <td>246</td>\n",
              "      <td>2019-07-25 11:11:42</td>\n",
              "    </tr>\n",
              "    <tr>\n",
              "      <th>2</th>\n",
              "      <td>PaymentScreenSuccessful</td>\n",
              "      <td>3518123091307005509</td>\n",
              "      <td>1564054127</td>\n",
              "      <td>248</td>\n",
              "      <td>2019-07-25 11:28:47</td>\n",
              "    </tr>\n",
              "    <tr>\n",
              "      <th>3</th>\n",
              "      <td>CartScreenAppear</td>\n",
              "      <td>3518123091307005509</td>\n",
              "      <td>1564054127</td>\n",
              "      <td>248</td>\n",
              "      <td>2019-07-25 11:28:47</td>\n",
              "    </tr>\n",
              "    <tr>\n",
              "      <th>4</th>\n",
              "      <td>PaymentScreenSuccessful</td>\n",
              "      <td>6217807653094995999</td>\n",
              "      <td>1564055322</td>\n",
              "      <td>248</td>\n",
              "      <td>2019-07-25 11:48:42</td>\n",
              "    </tr>\n",
              "  </tbody>\n",
              "</table>\n",
              "</div>\n",
              "      <button class=\"colab-df-convert\" onclick=\"convertToInteractive('df-b7c4b6a6-b784-4889-a0bb-1dc7b6733ed2')\"\n",
              "              title=\"Convert this dataframe to an interactive table.\"\n",
              "              style=\"display:none;\">\n",
              "        \n",
              "  <svg xmlns=\"http://www.w3.org/2000/svg\" height=\"24px\"viewBox=\"0 0 24 24\"\n",
              "       width=\"24px\">\n",
              "    <path d=\"M0 0h24v24H0V0z\" fill=\"none\"/>\n",
              "    <path d=\"M18.56 5.44l.94 2.06.94-2.06 2.06-.94-2.06-.94-.94-2.06-.94 2.06-2.06.94zm-11 1L8.5 8.5l.94-2.06 2.06-.94-2.06-.94L8.5 2.5l-.94 2.06-2.06.94zm10 10l.94 2.06.94-2.06 2.06-.94-2.06-.94-.94-2.06-.94 2.06-2.06.94z\"/><path d=\"M17.41 7.96l-1.37-1.37c-.4-.4-.92-.59-1.43-.59-.52 0-1.04.2-1.43.59L10.3 9.45l-7.72 7.72c-.78.78-.78 2.05 0 2.83L4 21.41c.39.39.9.59 1.41.59.51 0 1.02-.2 1.41-.59l7.78-7.78 2.81-2.81c.8-.78.8-2.07 0-2.86zM5.41 20L4 18.59l7.72-7.72 1.47 1.35L5.41 20z\"/>\n",
              "  </svg>\n",
              "      </button>\n",
              "      \n",
              "  <style>\n",
              "    .colab-df-container {\n",
              "      display:flex;\n",
              "      flex-wrap:wrap;\n",
              "      gap: 12px;\n",
              "    }\n",
              "\n",
              "    .colab-df-convert {\n",
              "      background-color: #E8F0FE;\n",
              "      border: none;\n",
              "      border-radius: 50%;\n",
              "      cursor: pointer;\n",
              "      display: none;\n",
              "      fill: #1967D2;\n",
              "      height: 32px;\n",
              "      padding: 0 0 0 0;\n",
              "      width: 32px;\n",
              "    }\n",
              "\n",
              "    .colab-df-convert:hover {\n",
              "      background-color: #E2EBFA;\n",
              "      box-shadow: 0px 1px 2px rgba(60, 64, 67, 0.3), 0px 1px 3px 1px rgba(60, 64, 67, 0.15);\n",
              "      fill: #174EA6;\n",
              "    }\n",
              "\n",
              "    [theme=dark] .colab-df-convert {\n",
              "      background-color: #3B4455;\n",
              "      fill: #D2E3FC;\n",
              "    }\n",
              "\n",
              "    [theme=dark] .colab-df-convert:hover {\n",
              "      background-color: #434B5C;\n",
              "      box-shadow: 0px 1px 3px 1px rgba(0, 0, 0, 0.15);\n",
              "      filter: drop-shadow(0px 1px 2px rgba(0, 0, 0, 0.3));\n",
              "      fill: #FFFFFF;\n",
              "    }\n",
              "  </style>\n",
              "\n",
              "      <script>\n",
              "        const buttonEl =\n",
              "          document.querySelector('#df-b7c4b6a6-b784-4889-a0bb-1dc7b6733ed2 button.colab-df-convert');\n",
              "        buttonEl.style.display =\n",
              "          google.colab.kernel.accessAllowed ? 'block' : 'none';\n",
              "\n",
              "        async function convertToInteractive(key) {\n",
              "          const element = document.querySelector('#df-b7c4b6a6-b784-4889-a0bb-1dc7b6733ed2');\n",
              "          const dataTable =\n",
              "            await google.colab.kernel.invokeFunction('convertToInteractive',\n",
              "                                                     [key], {});\n",
              "          if (!dataTable) return;\n",
              "\n",
              "          const docLinkHtml = 'Like what you see? Visit the ' +\n",
              "            '<a target=\"_blank\" href=https://colab.research.google.com/notebooks/data_table.ipynb>data table notebook</a>'\n",
              "            + ' to learn more about interactive tables.';\n",
              "          element.innerHTML = '';\n",
              "          dataTable['output_type'] = 'display_data';\n",
              "          await google.colab.output.renderOutput(dataTable, element);\n",
              "          const docLink = document.createElement('div');\n",
              "          docLink.innerHTML = docLinkHtml;\n",
              "          element.appendChild(docLink);\n",
              "        }\n",
              "      </script>\n",
              "    </div>\n",
              "  </div>\n",
              "  "
            ]
          },
          "metadata": {},
          "execution_count": 10
        }
      ]
    },
    {
      "cell_type": "code",
      "metadata": {
        "id": "QVx8SXfLojK5"
      },
      "source": [
        "#df['event_date']= df['event_datetime'].dt.normalize()\n",
        "#df.head()"
      ],
      "execution_count": 11,
      "outputs": []
    },
    {
      "cell_type": "code",
      "metadata": {
        "id": "-gyx4E76ojK5",
        "outputId": "a14f0d0a-ae80-4a91-9ae2-4546f1c00533",
        "colab": {
          "base_uri": "https://localhost:8080/",
          "height": 206
        }
      },
      "source": [
        "df['event_date'] = df['event_datetime'].dt.floor('1D')\n",
        "df.head()"
      ],
      "execution_count": 12,
      "outputs": [
        {
          "output_type": "execute_result",
          "data": {
            "text/plain": [
              "                event_name              user_id  event_time_stamp  exp_id  \\\n",
              "0         MainScreenAppear  4575588528974610257        1564029816     246   \n",
              "1         MainScreenAppear  7416695313311560658        1564053102     246   \n",
              "2  PaymentScreenSuccessful  3518123091307005509        1564054127     248   \n",
              "3         CartScreenAppear  3518123091307005509        1564054127     248   \n",
              "4  PaymentScreenSuccessful  6217807653094995999        1564055322     248   \n",
              "\n",
              "       event_datetime event_date  \n",
              "0 2019-07-25 04:43:36 2019-07-25  \n",
              "1 2019-07-25 11:11:42 2019-07-25  \n",
              "2 2019-07-25 11:28:47 2019-07-25  \n",
              "3 2019-07-25 11:28:47 2019-07-25  \n",
              "4 2019-07-25 11:48:42 2019-07-25  "
            ],
            "text/html": [
              "\n",
              "  <div id=\"df-de82ca59-9f25-42cb-9981-a037a5e4e1b3\">\n",
              "    <div class=\"colab-df-container\">\n",
              "      <div>\n",
              "<style scoped>\n",
              "    .dataframe tbody tr th:only-of-type {\n",
              "        vertical-align: middle;\n",
              "    }\n",
              "\n",
              "    .dataframe tbody tr th {\n",
              "        vertical-align: top;\n",
              "    }\n",
              "\n",
              "    .dataframe thead th {\n",
              "        text-align: right;\n",
              "    }\n",
              "</style>\n",
              "<table border=\"1\" class=\"dataframe\">\n",
              "  <thead>\n",
              "    <tr style=\"text-align: right;\">\n",
              "      <th></th>\n",
              "      <th>event_name</th>\n",
              "      <th>user_id</th>\n",
              "      <th>event_time_stamp</th>\n",
              "      <th>exp_id</th>\n",
              "      <th>event_datetime</th>\n",
              "      <th>event_date</th>\n",
              "    </tr>\n",
              "  </thead>\n",
              "  <tbody>\n",
              "    <tr>\n",
              "      <th>0</th>\n",
              "      <td>MainScreenAppear</td>\n",
              "      <td>4575588528974610257</td>\n",
              "      <td>1564029816</td>\n",
              "      <td>246</td>\n",
              "      <td>2019-07-25 04:43:36</td>\n",
              "      <td>2019-07-25</td>\n",
              "    </tr>\n",
              "    <tr>\n",
              "      <th>1</th>\n",
              "      <td>MainScreenAppear</td>\n",
              "      <td>7416695313311560658</td>\n",
              "      <td>1564053102</td>\n",
              "      <td>246</td>\n",
              "      <td>2019-07-25 11:11:42</td>\n",
              "      <td>2019-07-25</td>\n",
              "    </tr>\n",
              "    <tr>\n",
              "      <th>2</th>\n",
              "      <td>PaymentScreenSuccessful</td>\n",
              "      <td>3518123091307005509</td>\n",
              "      <td>1564054127</td>\n",
              "      <td>248</td>\n",
              "      <td>2019-07-25 11:28:47</td>\n",
              "      <td>2019-07-25</td>\n",
              "    </tr>\n",
              "    <tr>\n",
              "      <th>3</th>\n",
              "      <td>CartScreenAppear</td>\n",
              "      <td>3518123091307005509</td>\n",
              "      <td>1564054127</td>\n",
              "      <td>248</td>\n",
              "      <td>2019-07-25 11:28:47</td>\n",
              "      <td>2019-07-25</td>\n",
              "    </tr>\n",
              "    <tr>\n",
              "      <th>4</th>\n",
              "      <td>PaymentScreenSuccessful</td>\n",
              "      <td>6217807653094995999</td>\n",
              "      <td>1564055322</td>\n",
              "      <td>248</td>\n",
              "      <td>2019-07-25 11:48:42</td>\n",
              "      <td>2019-07-25</td>\n",
              "    </tr>\n",
              "  </tbody>\n",
              "</table>\n",
              "</div>\n",
              "      <button class=\"colab-df-convert\" onclick=\"convertToInteractive('df-de82ca59-9f25-42cb-9981-a037a5e4e1b3')\"\n",
              "              title=\"Convert this dataframe to an interactive table.\"\n",
              "              style=\"display:none;\">\n",
              "        \n",
              "  <svg xmlns=\"http://www.w3.org/2000/svg\" height=\"24px\"viewBox=\"0 0 24 24\"\n",
              "       width=\"24px\">\n",
              "    <path d=\"M0 0h24v24H0V0z\" fill=\"none\"/>\n",
              "    <path d=\"M18.56 5.44l.94 2.06.94-2.06 2.06-.94-2.06-.94-.94-2.06-.94 2.06-2.06.94zm-11 1L8.5 8.5l.94-2.06 2.06-.94-2.06-.94L8.5 2.5l-.94 2.06-2.06.94zm10 10l.94 2.06.94-2.06 2.06-.94-2.06-.94-.94-2.06-.94 2.06-2.06.94z\"/><path d=\"M17.41 7.96l-1.37-1.37c-.4-.4-.92-.59-1.43-.59-.52 0-1.04.2-1.43.59L10.3 9.45l-7.72 7.72c-.78.78-.78 2.05 0 2.83L4 21.41c.39.39.9.59 1.41.59.51 0 1.02-.2 1.41-.59l7.78-7.78 2.81-2.81c.8-.78.8-2.07 0-2.86zM5.41 20L4 18.59l7.72-7.72 1.47 1.35L5.41 20z\"/>\n",
              "  </svg>\n",
              "      </button>\n",
              "      \n",
              "  <style>\n",
              "    .colab-df-container {\n",
              "      display:flex;\n",
              "      flex-wrap:wrap;\n",
              "      gap: 12px;\n",
              "    }\n",
              "\n",
              "    .colab-df-convert {\n",
              "      background-color: #E8F0FE;\n",
              "      border: none;\n",
              "      border-radius: 50%;\n",
              "      cursor: pointer;\n",
              "      display: none;\n",
              "      fill: #1967D2;\n",
              "      height: 32px;\n",
              "      padding: 0 0 0 0;\n",
              "      width: 32px;\n",
              "    }\n",
              "\n",
              "    .colab-df-convert:hover {\n",
              "      background-color: #E2EBFA;\n",
              "      box-shadow: 0px 1px 2px rgba(60, 64, 67, 0.3), 0px 1px 3px 1px rgba(60, 64, 67, 0.15);\n",
              "      fill: #174EA6;\n",
              "    }\n",
              "\n",
              "    [theme=dark] .colab-df-convert {\n",
              "      background-color: #3B4455;\n",
              "      fill: #D2E3FC;\n",
              "    }\n",
              "\n",
              "    [theme=dark] .colab-df-convert:hover {\n",
              "      background-color: #434B5C;\n",
              "      box-shadow: 0px 1px 3px 1px rgba(0, 0, 0, 0.15);\n",
              "      filter: drop-shadow(0px 1px 2px rgba(0, 0, 0, 0.3));\n",
              "      fill: #FFFFFF;\n",
              "    }\n",
              "  </style>\n",
              "\n",
              "      <script>\n",
              "        const buttonEl =\n",
              "          document.querySelector('#df-de82ca59-9f25-42cb-9981-a037a5e4e1b3 button.colab-df-convert');\n",
              "        buttonEl.style.display =\n",
              "          google.colab.kernel.accessAllowed ? 'block' : 'none';\n",
              "\n",
              "        async function convertToInteractive(key) {\n",
              "          const element = document.querySelector('#df-de82ca59-9f25-42cb-9981-a037a5e4e1b3');\n",
              "          const dataTable =\n",
              "            await google.colab.kernel.invokeFunction('convertToInteractive',\n",
              "                                                     [key], {});\n",
              "          if (!dataTable) return;\n",
              "\n",
              "          const docLinkHtml = 'Like what you see? Visit the ' +\n",
              "            '<a target=\"_blank\" href=https://colab.research.google.com/notebooks/data_table.ipynb>data table notebook</a>'\n",
              "            + ' to learn more about interactive tables.';\n",
              "          element.innerHTML = '';\n",
              "          dataTable['output_type'] = 'display_data';\n",
              "          await google.colab.output.renderOutput(dataTable, element);\n",
              "          const docLink = document.createElement('div');\n",
              "          docLink.innerHTML = docLinkHtml;\n",
              "          element.appendChild(docLink);\n",
              "        }\n",
              "      </script>\n",
              "    </div>\n",
              "  </div>\n",
              "  "
            ]
          },
          "metadata": {},
          "execution_count": 12
        }
      ]
    },
    {
      "cell_type": "markdown",
      "metadata": {
        "id": "pYa4EJihojK6"
      },
      "source": [
        "### Stage 3. EDA"
      ]
    },
    {
      "cell_type": "markdown",
      "metadata": {
        "id": "n48sf1zvojK6"
      },
      "source": [
        "#### Total number of events in the log"
      ]
    },
    {
      "cell_type": "markdown",
      "metadata": {
        "id": "Pmv2mn1jojK6"
      },
      "source": [
        "One row = one event. Total number of events:"
      ]
    },
    {
      "cell_type": "code",
      "metadata": {
        "id": "9b7i-lexojK7",
        "outputId": "1f8415f4-e863-4659-e6b1-ac7f00a96afb",
        "colab": {
          "base_uri": "https://localhost:8080/"
        }
      },
      "source": [
        "len(df)"
      ],
      "execution_count": 13,
      "outputs": [
        {
          "output_type": "execute_result",
          "data": {
            "text/plain": [
              "243713"
            ]
          },
          "metadata": {},
          "execution_count": 13
        }
      ]
    },
    {
      "cell_type": "markdown",
      "metadata": {
        "id": "lRdjzNPlojK7"
      },
      "source": [
        "Let's also look at the names of the events:"
      ]
    },
    {
      "cell_type": "code",
      "metadata": {
        "id": "Zyy-sGdGojK7",
        "outputId": "8d26dfb7-1780-42e4-b7c2-8aba76bbe323",
        "colab": {
          "base_uri": "https://localhost:8080/"
        }
      },
      "source": [
        "df['event_name'].value_counts()"
      ],
      "execution_count": 14,
      "outputs": [
        {
          "output_type": "execute_result",
          "data": {
            "text/plain": [
              "MainScreenAppear           119101\n",
              "OffersScreenAppear          46808\n",
              "CartScreenAppear            42668\n",
              "PaymentScreenSuccessful     34118\n",
              "Tutorial                     1018\n",
              "Name: event_name, dtype: int64"
            ]
          },
          "metadata": {},
          "execution_count": 14
        }
      ]
    },
    {
      "cell_type": "markdown",
      "metadata": {
        "id": "_JUuRHPlojK7"
      },
      "source": [
        "We can already see the funnel: the main screen - the cart screen - the payment. Offer screen could be also included in the funnel. Few people watch the tutorial, so it's definitely not in a funnel."
      ]
    },
    {
      "cell_type": "markdown",
      "metadata": {
        "id": "ur7Z5iH7ojK8"
      },
      "source": [
        "#### Total number of users in the log"
      ]
    },
    {
      "cell_type": "code",
      "metadata": {
        "id": "JIpifcOIojK8",
        "outputId": "2bbf6284-215a-492b-ad61-6822fbf76aeb",
        "colab": {
          "base_uri": "https://localhost:8080/"
        }
      },
      "source": [
        "df['user_id'].nunique()"
      ],
      "execution_count": 15,
      "outputs": [
        {
          "output_type": "execute_result",
          "data": {
            "text/plain": [
              "7551"
            ]
          },
          "metadata": {},
          "execution_count": 15
        }
      ]
    },
    {
      "cell_type": "markdown",
      "metadata": {
        "id": "BYm-HspGojK8"
      },
      "source": [
        "The log has 7551 users"
      ]
    },
    {
      "cell_type": "markdown",
      "metadata": {
        "id": "5rzAbrFcojK9"
      },
      "source": [
        "#### Average number of events per user"
      ]
    },
    {
      "cell_type": "code",
      "metadata": {
        "id": "whFdHUWJojK9",
        "outputId": "d2b9adc8-a501-4d49-83d1-878532ab6d49",
        "colab": {
          "base_uri": "https://localhost:8080/"
        }
      },
      "source": [
        "len(df) / df['user_id'].nunique()"
      ],
      "execution_count": 16,
      "outputs": [
        {
          "output_type": "execute_result",
          "data": {
            "text/plain": [
              "32.27559263673685"
            ]
          },
          "metadata": {},
          "execution_count": 16
        }
      ]
    },
    {
      "cell_type": "markdown",
      "metadata": {
        "id": "tfEyYNKbojK9"
      },
      "source": [
        "32 events on average. Let's look at the descriptive statistics"
      ]
    },
    {
      "cell_type": "code",
      "metadata": {
        "id": "rZs5826kojK9",
        "outputId": "c46d34f5-807f-4b0b-eeaa-76d46f3be218",
        "colab": {
          "base_uri": "https://localhost:8080/"
        }
      },
      "source": [
        "df.groupby('user_id')['user_id'].count().describe()"
      ],
      "execution_count": 17,
      "outputs": [
        {
          "output_type": "execute_result",
          "data": {
            "text/plain": [
              "count    7551.000000\n",
              "mean       32.275593\n",
              "std        65.154219\n",
              "min         1.000000\n",
              "25%         9.000000\n",
              "50%        20.000000\n",
              "75%        37.000000\n",
              "max      2307.000000\n",
              "Name: user_id, dtype: float64"
            ]
          },
          "metadata": {},
          "execution_count": 17
        }
      ]
    },
    {
      "cell_type": "markdown",
      "metadata": {
        "id": "ZbHwgEFgojK-"
      },
      "source": [
        "The maximum value is very high. The mean is much higher than the median. Probably there is a rigth-skewed distribution. Let's look"
      ]
    },
    {
      "cell_type": "code",
      "metadata": {
        "id": "LVo0bbodojK-",
        "outputId": "1201702b-9820-4616-d1fe-8e26903165db",
        "colab": {
          "base_uri": "https://localhost:8080/",
          "height": 404
        }
      },
      "source": [
        "df.groupby('user_id')['user_id'].count().hist(bins=100, figsize=(12,6))\n",
        "plt.title('Number of events per user')\n",
        "plt.xlabel('Number of events')\n",
        "plt.ylabel('Number of users')\n",
        "plt.show()"
      ],
      "execution_count": 18,
      "outputs": [
        {
          "output_type": "display_data",
          "data": {
            "text/plain": [
              "<Figure size 864x432 with 1 Axes>"
            ],
            "image/png": "[encoded data removed]"
          },
          "metadata": {
            "needs_background": "light"
          }
        }
      ]
    },
    {
      "cell_type": "code",
      "metadata": {
        "id": "d7Sx_e7jojK-",
        "outputId": "437da45b-9955-46d7-e8bc-0d1beb7f1f27",
        "colab": {
          "base_uri": "https://localhost:8080/",
          "height": 717
        }
      },
      "source": [
        "df.groupby('user_id')['user_id'].count().plot(kind='box', figsize=(6,12))\n",
        "plt.title('Number of events per user')\n",
        "plt.ylabel('Number of users')\n",
        "plt.show()"
      ],
      "execution_count": 19,
      "outputs": [
        {
          "output_type": "display_data",
          "data": {
            "text/plain": [
              "<Figure size 432x864 with 1 Axes>"
            ],
            "image/png": "[encoded data removed]"
          },
          "metadata": {
            "needs_background": "light"
          }
        }
      ]
    },
    {
      "cell_type": "markdown",
      "metadata": {
        "id": "EZj8FvRJojK_"
      },
      "source": [
        "Let's check users with the maximum number of events"
      ]
    },
    {
      "cell_type": "code",
      "metadata": {
        "id": "t5Fe9coRojK_",
        "outputId": "76e96e74-830a-4004-e74a-26237f158721",
        "colab": {
          "base_uri": "https://localhost:8080/"
        }
      },
      "source": [
        "df.groupby('user_id')['user_id'].count().sort_values(ascending=False).head(5)"
      ],
      "execution_count": 20,
      "outputs": [
        {
          "output_type": "execute_result",
          "data": {
            "text/plain": [
              "user_id\n",
              "6304868067479728361    2307\n",
              "197027893265565660     1998\n",
              "4623191541214045580    1768\n",
              "6932517045703054087    1439\n",
              "1754140665440434215    1221\n",
              "Name: user_id, dtype: int64"
            ]
          },
          "metadata": {},
          "execution_count": 20
        }
      ]
    },
    {
      "cell_type": "code",
      "metadata": {
        "id": "mcPjhSG-ojK_",
        "outputId": "1a1dced0-ed0e-476b-bf70-2c8840387b26",
        "colab": {
          "base_uri": "https://localhost:8080/",
          "height": 1000
        }
      },
      "source": [
        "df[df['user_id']==6304868067479728361].head(50).sort_values(by='event_datetime')"
      ],
      "execution_count": 21,
      "outputs": [
        {
          "output_type": "execute_result",
          "data": {
            "text/plain": [
              "                    event_name              user_id  event_time_stamp  exp_id  \\\n",
              "32882         MainScreenAppear  6304868067479728361        1564682485     248   \n",
              "32893         CartScreenAppear  6304868067479728361        1564682503     248   \n",
              "32894  PaymentScreenSuccessful  6304868067479728361        1564682503     248   \n",
              "32896         MainScreenAppear  6304868067479728361        1564682504     248   \n",
              "32897       OffersScreenAppear  6304868067479728361        1564682512     248   \n",
              "32905       OffersScreenAppear  6304868067479728361        1564682526     248   \n",
              "32961       OffersScreenAppear  6304868067479728361        1564682655     248   \n",
              "32964  PaymentScreenSuccessful  6304868067479728361        1564682659     248   \n",
              "32965         CartScreenAppear  6304868067479728361        1564682659     248   \n",
              "32981  PaymentScreenSuccessful  6304868067479728361        1564682692     248   \n",
              "32982         CartScreenAppear  6304868067479728361        1564682693     248   \n",
              "33013  PaymentScreenSuccessful  6304868067479728361        1564682742     248   \n",
              "33014         CartScreenAppear  6304868067479728361        1564682743     248   \n",
              "33064  PaymentScreenSuccessful  6304868067479728361        1564682805     248   \n",
              "33066         CartScreenAppear  6304868067479728361        1564682806     248   \n",
              "33094  PaymentScreenSuccessful  6304868067479728361        1564682853     248   \n",
              "33096         CartScreenAppear  6304868067479728361        1564682854     248   \n",
              "33155         CartScreenAppear  6304868067479728361        1564682963     248   \n",
              "34125         MainScreenAppear  6304868067479728361        1564684490     248   \n",
              "34129  PaymentScreenSuccessful  6304868067479728361        1564684499     248   \n",
              "34131         CartScreenAppear  6304868067479728361        1564684500     248   \n",
              "34136         MainScreenAppear  6304868067479728361        1564684501     248   \n",
              "34139       OffersScreenAppear  6304868067479728361        1564684507     248   \n",
              "34153  PaymentScreenSuccessful  6304868067479728361        1564684528     248   \n",
              "34154         CartScreenAppear  6304868067479728361        1564684529     248   \n",
              "34249  PaymentScreenSuccessful  6304868067479728361        1564684696     248   \n",
              "34250         CartScreenAppear  6304868067479728361        1564684697     248   \n",
              "34639         CartScreenAppear  6304868067479728361        1564685464     248   \n",
              "34640  PaymentScreenSuccessful  6304868067479728361        1564685464     248   \n",
              "34652       OffersScreenAppear  6304868067479728361        1564685478     248   \n",
              "34670  PaymentScreenSuccessful  6304868067479728361        1564685501     248   \n",
              "34671         CartScreenAppear  6304868067479728361        1564685502     248   \n",
              "34679  PaymentScreenSuccessful  6304868067479728361        1564685518     248   \n",
              "34680         CartScreenAppear  6304868067479728361        1564685519     248   \n",
              "37043         MainScreenAppear  6304868067479728361        1564690503     248   \n",
              "37049         MainScreenAppear  6304868067479728361        1564690506     248   \n",
              "37051         CartScreenAppear  6304868067479728361        1564690506     248   \n",
              "37055       OffersScreenAppear  6304868067479728361        1564690512     248   \n",
              "37073       OffersScreenAppear  6304868067479728361        1564690533     248   \n",
              "37099       OffersScreenAppear  6304868067479728361        1564690588     248   \n",
              "38705         MainScreenAppear  6304868067479728361        1564700272     248   \n",
              "38709         CartScreenAppear  6304868067479728361        1564700294     248   \n",
              "38710         MainScreenAppear  6304868067479728361        1564700295     248   \n",
              "38711         CartScreenAppear  6304868067479728361        1564700331     248   \n",
              "38722         CartScreenAppear  6304868067479728361        1564700400     248   \n",
              "38723       OffersScreenAppear  6304868067479728361        1564700401     248   \n",
              "38740         MainScreenAppear  6304868067479728361        1564700604     248   \n",
              "38744         CartScreenAppear  6304868067479728361        1564700668     248   \n",
              "38944       OffersScreenAppear  6304868067479728361        1564703830     248   \n",
              "38945         CartScreenAppear  6304868067479728361        1564703851     248   \n",
              "\n",
              "           event_datetime event_date  \n",
              "32882 2019-08-01 18:01:25 2019-08-01  \n",
              "32893 2019-08-01 18:01:43 2019-08-01  \n",
              "32894 2019-08-01 18:01:43 2019-08-01  \n",
              "32896 2019-08-01 18:01:44 2019-08-01  \n",
              "32897 2019-08-01 18:01:52 2019-08-01  \n",
              "32905 2019-08-01 18:02:06 2019-08-01  \n",
              "32961 2019-08-01 18:04:15 2019-08-01  \n",
              "32964 2019-08-01 18:04:19 2019-08-01  \n",
              "32965 2019-08-01 18:04:19 2019-08-01  \n",
              "32981 2019-08-01 18:04:52 2019-08-01  \n",
              "32982 2019-08-01 18:04:53 2019-08-01  \n",
              "33013 2019-08-01 18:05:42 2019-08-01  \n",
              "33014 2019-08-01 18:05:43 2019-08-01  \n",
              "33064 2019-08-01 18:06:45 2019-08-01  \n",
              "33066 2019-08-01 18:06:46 2019-08-01  \n",
              "33094 2019-08-01 18:07:33 2019-08-01  \n",
              "33096 2019-08-01 18:07:34 2019-08-01  \n",
              "33155 2019-08-01 18:09:23 2019-08-01  \n",
              "34125 2019-08-01 18:34:50 2019-08-01  \n",
              "34129 2019-08-01 18:34:59 2019-08-01  \n",
              "34131 2019-08-01 18:35:00 2019-08-01  \n",
              "34136 2019-08-01 18:35:01 2019-08-01  \n",
              "34139 2019-08-01 18:35:07 2019-08-01  \n",
              "34153 2019-08-01 18:35:28 2019-08-01  \n",
              "34154 2019-08-01 18:35:29 2019-08-01  \n",
              "34249 2019-08-01 18:38:16 2019-08-01  \n",
              "34250 2019-08-01 18:38:17 2019-08-01  \n",
              "34639 2019-08-01 18:51:04 2019-08-01  \n",
              "34640 2019-08-01 18:51:04 2019-08-01  \n",
              "34652 2019-08-01 18:51:18 2019-08-01  \n",
              "34670 2019-08-01 18:51:41 2019-08-01  \n",
              "34671 2019-08-01 18:51:42 2019-08-01  \n",
              "34679 2019-08-01 18:51:58 2019-08-01  \n",
              "34680 2019-08-01 18:51:59 2019-08-01  \n",
              "37043 2019-08-01 20:15:03 2019-08-01  \n",
              "37049 2019-08-01 20:15:06 2019-08-01  \n",
              "37051 2019-08-01 20:15:06 2019-08-01  \n",
              "37055 2019-08-01 20:15:12 2019-08-01  \n",
              "37073 2019-08-01 20:15:33 2019-08-01  \n",
              "37099 2019-08-01 20:16:28 2019-08-01  \n",
              "38705 2019-08-01 22:57:52 2019-08-01  \n",
              "38709 2019-08-01 22:58:14 2019-08-01  \n",
              "38710 2019-08-01 22:58:15 2019-08-01  \n",
              "38711 2019-08-01 22:58:51 2019-08-01  \n",
              "38722 2019-08-01 23:00:00 2019-08-01  \n",
              "38723 2019-08-01 23:00:01 2019-08-01  \n",
              "38740 2019-08-01 23:03:24 2019-08-01  \n",
              "38744 2019-08-01 23:04:28 2019-08-01  \n",
              "38944 2019-08-01 23:57:10 2019-08-01  \n",
              "38945 2019-08-01 23:57:31 2019-08-01  "
            ],
            "text/html": [
              "\n",
              "  <div id=\"df-1a4f86ce-9de5-4f65-be59-f66e59755b7c\">\n",
              "    <div class=\"colab-df-container\">\n",
              "      <div>\n",
              "<style scoped>\n",
              "    .dataframe tbody tr th:only-of-type {\n",
              "        vertical-align: middle;\n",
              "    }\n",
              "\n",
              "    .dataframe tbody tr th {\n",
              "        vertical-align: top;\n",
              "    }\n",
              "\n",
              "    .dataframe thead th {\n",
              "        text-align: right;\n",
              "    }\n",
              "</style>\n",
              "<table border=\"1\" class=\"dataframe\">\n",
              "  <thead>\n",
              "    <tr style=\"text-align: right;\">\n",
              "      <th></th>\n",
              "      <th>event_name</th>\n",
              "      <th>user_id</th>\n",
              "      <th>event_time_stamp</th>\n",
              "      <th>exp_id</th>\n",
              "      <th>event_datetime</th>\n",
              "      <th>event_date</th>\n",
              "    </tr>\n",
              "  </thead>\n",
              "  <tbody>\n",
              "    <tr>\n",
              "      <th>32882</th>\n",
              "      <td>MainScreenAppear</td>\n",
              "      <td>6304868067479728361</td>\n",
              "      <td>1564682485</td>\n",
              "      <td>248</td>\n",
              "      <td>2019-08-01 18:01:25</td>\n",
              "      <td>2019-08-01</td>\n",
              "    </tr>\n",
              "    <tr>\n",
              "      <th>32893</th>\n",
              "      <td>CartScreenAppear</td>\n",
              "      <td>6304868067479728361</td>\n",
              "      <td>1564682503</td>\n",
              "      <td>248</td>\n",
              "      <td>2019-08-01 18:01:43</td>\n",
              "      <td>2019-08-01</td>\n",
              "    </tr>\n",
              "    <tr>\n",
              "      <th>32894</th>\n",
              "      <td>PaymentScreenSuccessful</td>\n",
              "      <td>6304868067479728361</td>\n",
              "      <td>1564682503</td>\n",
              "      <td>248</td>\n",
              "      <td>2019-08-01 18:01:43</td>\n",
              "      <td>2019-08-01</td>\n",
              "    </tr>\n",
              "    <tr>\n",
              "      <th>32896</th>\n",
              "      <td>MainScreenAppear</td>\n",
              "      <td>6304868067479728361</td>\n",
              "      <td>1564682504</td>\n",
              "      <td>248</td>\n",
              "      <td>2019-08-01 18:01:44</td>\n",
              "      <td>2019-08-01</td>\n",
              "    </tr>\n",
              "    <tr>\n",
              "      <th>32897</th>\n",
              "      <td>OffersScreenAppear</td>\n",
              "      <td>6304868067479728361</td>\n",
              "      <td>1564682512</td>\n",
              "      <td>248</td>\n",
              "      <td>2019-08-01 18:01:52</td>\n",
              "      <td>2019-08-01</td>\n",
              "    </tr>\n",
              "    <tr>\n",
              "      <th>32905</th>\n",
              "      <td>OffersScreenAppear</td>\n",
              "      <td>6304868067479728361</td>\n",
              "      <td>1564682526</td>\n",
              "      <td>248</td>\n",
              "      <td>2019-08-01 18:02:06</td>\n",
              "      <td>2019-08-01</td>\n",
              "    </tr>\n",
              "    <tr>\n",
              "      <th>32961</th>\n",
              "      <td>OffersScreenAppear</td>\n",
              "      <td>6304868067479728361</td>\n",
              "      <td>1564682655</td>\n",
              "      <td>248</td>\n",
              "      <td>2019-08-01 18:04:15</td>\n",
              "      <td>2019-08-01</td>\n",
              "    </tr>\n",
              "    <tr>\n",
              "      <th>32964</th>\n",
              "      <td>PaymentScreenSuccessful</td>\n",
              "      <td>6304868067479728361</td>\n",
              "      <td>1564682659</td>\n",
              "      <td>248</td>\n",
              "      <td>2019-08-01 18:04:19</td>\n",
              "      <td>2019-08-01</td>\n",
              "    </tr>\n",
              "    <tr>\n",
              "      <th>32965</th>\n",
              "      <td>CartScreenAppear</td>\n",
              "      <td>6304868067479728361</td>\n",
              "      <td>1564682659</td>\n",
              "      <td>248</td>\n",
              "      <td>2019-08-01 18:04:19</td>\n",
              "      <td>2019-08-01</td>\n",
              "    </tr>\n",
              "    <tr>\n",
              "      <th>32981</th>\n",
              "      <td>PaymentScreenSuccessful</td>\n",
              "      <td>6304868067479728361</td>\n",
              "      <td>1564682692</td>\n",
              "      <td>248</td>\n",
              "      <td>2019-08-01 18:04:52</td>\n",
              "      <td>2019-08-01</td>\n",
              "    </tr>\n",
              "    <tr>\n",
              "      <th>32982</th>\n",
              "      <td>CartScreenAppear</td>\n",
              "      <td>6304868067479728361</td>\n",
              "      <td>1564682693</td>\n",
              "      <td>248</td>\n",
              "      <td>2019-08-01 18:04:53</td>\n",
              "      <td>2019-08-01</td>\n",
              "    </tr>\n",
              "    <tr>\n",
              "      <th>33013</th>\n",
              "      <td>PaymentScreenSuccessful</td>\n",
              "      <td>6304868067479728361</td>\n",
              "      <td>1564682742</td>\n",
              "      <td>248</td>\n",
              "      <td>2019-08-01 18:05:42</td>\n",
              "      <td>2019-08-01</td>\n",
              "    </tr>\n",
              "    <tr>\n",
              "      <th>33014</th>\n",
              "      <td>CartScreenAppear</td>\n",
              "      <td>6304868067479728361</td>\n",
              "      <td>1564682743</td>\n",
              "      <td>248</td>\n",
              "      <td>2019-08-01 18:05:43</td>\n",
              "      <td>2019-08-01</td>\n",
              "    </tr>\n",
              "    <tr>\n",
              "      <th>33064</th>\n",
              "      <td>PaymentScreenSuccessful</td>\n",
              "      <td>6304868067479728361</td>\n",
              "      <td>1564682805</td>\n",
              "      <td>248</td>\n",
              "      <td>2019-08-01 18:06:45</td>\n",
              "      <td>2019-08-01</td>\n",
              "    </tr>\n",
              "    <tr>\n",
              "      <th>33066</th>\n",
              "      <td>CartScreenAppear</td>\n",
              "      <td>6304868067479728361</td>\n",
              "      <td>1564682806</td>\n",
              "      <td>248</td>\n",
              "      <td>2019-08-01 18:06:46</td>\n",
              "      <td>2019-08-01</td>\n",
              "    </tr>\n",
              "    <tr>\n",
              "      <th>33094</th>\n",
              "      <td>PaymentScreenSuccessful</td>\n",
              "      <td>6304868067479728361</td>\n",
              "      <td>1564682853</td>\n",
              "      <td>248</td>\n",
              "      <td>2019-08-01 18:07:33</td>\n",
              "      <td>2019-08-01</td>\n",
              "    </tr>\n",
              "    <tr>\n",
              "      <th>33096</th>\n",
              "      <td>CartScreenAppear</td>\n",
              "      <td>6304868067479728361</td>\n",
              "      <td>1564682854</td>\n",
              "      <td>248</td>\n",
              "      <td>2019-08-01 18:07:34</td>\n",
              "      <td>2019-08-01</td>\n",
              "    </tr>\n",
              "    <tr>\n",
              "      <th>33155</th>\n",
              "      <td>CartScreenAppear</td>\n",
              "      <td>6304868067479728361</td>\n",
              "      <td>1564682963</td>\n",
              "      <td>248</td>\n",
              "      <td>2019-08-01 18:09:23</td>\n",
              "      <td>2019-08-01</td>\n",
              "    </tr>\n",
              "    <tr>\n",
              "      <th>34125</th>\n",
              "      <td>MainScreenAppear</td>\n",
              "      <td>6304868067479728361</td>\n",
              "      <td>1564684490</td>\n",
              "      <td>248</td>\n",
              "      <td>2019-08-01 18:34:50</td>\n",
              "      <td>2019-08-01</td>\n",
              "    </tr>\n",
              "    <tr>\n",
              "      <th>34129</th>\n",
              "      <td>PaymentScreenSuccessful</td>\n",
              "      <td>6304868067479728361</td>\n",
              "      <td>1564684499</td>\n",
              "      <td>248</td>\n",
              "      <td>2019-08-01 18:34:59</td>\n",
              "      <td>2019-08-01</td>\n",
              "    </tr>\n",
              "    <tr>\n",
              "      <th>34131</th>\n",
              "      <td>CartScreenAppear</td>\n",
              "      <td>6304868067479728361</td>\n",
              "      <td>1564684500</td>\n",
              "      <td>248</td>\n",
              "      <td>2019-08-01 18:35:00</td>\n",
              "      <td>2019-08-01</td>\n",
              "    </tr>\n",
              "    <tr>\n",
              "      <th>34136</th>\n",
              "      <td>MainScreenAppear</td>\n",
              "      <td>6304868067479728361</td>\n",
              "      <td>1564684501</td>\n",
              "      <td>248</td>\n",
              "      <td>2019-08-01 18:35:01</td>\n",
              "      <td>2019-08-01</td>\n",
              "    </tr>\n",
              "    <tr>\n",
              "      <th>34139</th>\n",
              "      <td>OffersScreenAppear</td>\n",
              "      <td>6304868067479728361</td>\n",
              "      <td>1564684507</td>\n",
              "      <td>248</td>\n",
              "      <td>2019-08-01 18:35:07</td>\n",
              "      <td>2019-08-01</td>\n",
              "    </tr>\n",
              "    <tr>\n",
              "      <th>34153</th>\n",
              "      <td>PaymentScreenSuccessful</td>\n",
              "      <td>6304868067479728361</td>\n",
              "      <td>1564684528</td>\n",
              "      <td>248</td>\n",
              "      <td>2019-08-01 18:35:28</td>\n",
              "      <td>2019-08-01</td>\n",
              "    </tr>\n",
              "    <tr>\n",
              "      <th>34154</th>\n",
              "      <td>CartScreenAppear</td>\n",
              "      <td>6304868067479728361</td>\n",
              "      <td>1564684529</td>\n",
              "      <td>248</td>\n",
              "      <td>2019-08-01 18:35:29</td>\n",
              "      <td>2019-08-01</td>\n",
              "    </tr>\n",
              "    <tr>\n",
              "      <th>34249</th>\n",
              "      <td>PaymentScreenSuccessful</td>\n",
              "      <td>6304868067479728361</td>\n",
              "      <td>1564684696</td>\n",
              "      <td>248</td>\n",
              "      <td>2019-08-01 18:38:16</td>\n",
              "      <td>2019-08-01</td>\n",
              "    </tr>\n",
              "    <tr>\n",
              "      <th>34250</th>\n",
              "      <td>CartScreenAppear</td>\n",
              "      <td>6304868067479728361</td>\n",
              "      <td>1564684697</td>\n",
              "      <td>248</td>\n",
              "      <td>2019-08-01 18:38:17</td>\n",
              "      <td>2019-08-01</td>\n",
              "    </tr>\n",
              "    <tr>\n",
              "      <th>34639</th>\n",
              "      <td>CartScreenAppear</td>\n",
              "      <td>6304868067479728361</td>\n",
              "      <td>1564685464</td>\n",
              "      <td>248</td>\n",
              "      <td>2019-08-01 18:51:04</td>\n",
              "      <td>2019-08-01</td>\n",
              "    </tr>\n",
              "    <tr>\n",
              "      <th>34640</th>\n",
              "      <td>PaymentScreenSuccessful</td>\n",
              "      <td>6304868067479728361</td>\n",
              "      <td>1564685464</td>\n",
              "      <td>248</td>\n",
              "      <td>2019-08-01 18:51:04</td>\n",
              "      <td>2019-08-01</td>\n",
              "    </tr>\n",
              "    <tr>\n",
              "      <th>34652</th>\n",
              "      <td>OffersScreenAppear</td>\n",
              "      <td>6304868067479728361</td>\n",
              "      <td>1564685478</td>\n",
              "      <td>248</td>\n",
              "      <td>2019-08-01 18:51:18</td>\n",
              "      <td>2019-08-01</td>\n",
              "    </tr>\n",
              "    <tr>\n",
              "      <th>34670</th>\n",
              "      <td>PaymentScreenSuccessful</td>\n",
              "      <td>6304868067479728361</td>\n",
              "      <td>1564685501</td>\n",
              "      <td>248</td>\n",
              "      <td>2019-08-01 18:51:41</td>\n",
              "      <td>2019-08-01</td>\n",
              "    </tr>\n",
              "    <tr>\n",
              "      <th>34671</th>\n",
              "      <td>CartScreenAppear</td>\n",
              "      <td>6304868067479728361</td>\n",
              "      <td>1564685502</td>\n",
              "      <td>248</td>\n",
              "      <td>2019-08-01 18:51:42</td>\n",
              "      <td>2019-08-01</td>\n",
              "    </tr>\n",
              "    <tr>\n",
              "      <th>34679</th>\n",
              "      <td>PaymentScreenSuccessful</td>\n",
              "      <td>6304868067479728361</td>\n",
              "      <td>1564685518</td>\n",
              "      <td>248</td>\n",
              "      <td>2019-08-01 18:51:58</td>\n",
              "      <td>2019-08-01</td>\n",
              "    </tr>\n",
              "    <tr>\n",
              "      <th>34680</th>\n",
              "      <td>CartScreenAppear</td>\n",
              "      <td>6304868067479728361</td>\n",
              "      <td>1564685519</td>\n",
              "      <td>248</td>\n",
              "      <td>2019-08-01 18:51:59</td>\n",
              "      <td>2019-08-01</td>\n",
              "    </tr>\n",
              "    <tr>\n",
              "      <th>37043</th>\n",
              "      <td>MainScreenAppear</td>\n",
              "      <td>6304868067479728361</td>\n",
              "      <td>1564690503</td>\n",
              "      <td>248</td>\n",
              "      <td>2019-08-01 20:15:03</td>\n",
              "      <td>2019-08-01</td>\n",
              "    </tr>\n",
              "    <tr>\n",
              "      <th>37049</th>\n",
              "      <td>MainScreenAppear</td>\n",
              "      <td>6304868067479728361</td>\n",
              "      <td>1564690506</td>\n",
              "      <td>248</td>\n",
              "      <td>2019-08-01 20:15:06</td>\n",
              "      <td>2019-08-01</td>\n",
              "    </tr>\n",
              "    <tr>\n",
              "      <th>37051</th>\n",
              "      <td>CartScreenAppear</td>\n",
              "      <td>6304868067479728361</td>\n",
              "      <td>1564690506</td>\n",
              "      <td>248</td>\n",
              "      <td>2019-08-01 20:15:06</td>\n",
              "      <td>2019-08-01</td>\n",
              "    </tr>\n",
              "    <tr>\n",
              "      <th>37055</th>\n",
              "      <td>OffersScreenAppear</td>\n",
              "      <td>6304868067479728361</td>\n",
              "      <td>1564690512</td>\n",
              "      <td>248</td>\n",
              "      <td>2019-08-01 20:15:12</td>\n",
              "      <td>2019-08-01</td>\n",
              "    </tr>\n",
              "    <tr>\n",
              "      <th>37073</th>\n",
              "      <td>OffersScreenAppear</td>\n",
              "      <td>6304868067479728361</td>\n",
              "      <td>1564690533</td>\n",
              "      <td>248</td>\n",
              "      <td>2019-08-01 20:15:33</td>\n",
              "      <td>2019-08-01</td>\n",
              "    </tr>\n",
              "    <tr>\n",
              "      <th>37099</th>\n",
              "      <td>OffersScreenAppear</td>\n",
              "      <td>6304868067479728361</td>\n",
              "      <td>1564690588</td>\n",
              "      <td>248</td>\n",
              "      <td>2019-08-01 20:16:28</td>\n",
              "      <td>2019-08-01</td>\n",
              "    </tr>\n",
              "    <tr>\n",
              "      <th>38705</th>\n",
              "      <td>MainScreenAppear</td>\n",
              "      <td>6304868067479728361</td>\n",
              "      <td>1564700272</td>\n",
              "      <td>248</td>\n",
              "      <td>2019-08-01 22:57:52</td>\n",
              "      <td>2019-08-01</td>\n",
              "    </tr>\n",
              "    <tr>\n",
              "      <th>38709</th>\n",
              "      <td>CartScreenAppear</td>\n",
              "      <td>6304868067479728361</td>\n",
              "      <td>1564700294</td>\n",
              "      <td>248</td>\n",
              "      <td>2019-08-01 22:58:14</td>\n",
              "      <td>2019-08-01</td>\n",
              "    </tr>\n",
              "    <tr>\n",
              "      <th>38710</th>\n",
              "      <td>MainScreenAppear</td>\n",
              "      <td>6304868067479728361</td>\n",
              "      <td>1564700295</td>\n",
              "      <td>248</td>\n",
              "      <td>2019-08-01 22:58:15</td>\n",
              "      <td>2019-08-01</td>\n",
              "    </tr>\n",
              "    <tr>\n",
              "      <th>38711</th>\n",
              "      <td>CartScreenAppear</td>\n",
              "      <td>6304868067479728361</td>\n",
              "      <td>1564700331</td>\n",
              "      <td>248</td>\n",
              "      <td>2019-08-01 22:58:51</td>\n",
              "      <td>2019-08-01</td>\n",
              "    </tr>\n",
              "    <tr>\n",
              "      <th>38722</th>\n",
              "      <td>CartScreenAppear</td>\n",
              "      <td>6304868067479728361</td>\n",
              "      <td>1564700400</td>\n",
              "      <td>248</td>\n",
              "      <td>2019-08-01 23:00:00</td>\n",
              "      <td>2019-08-01</td>\n",
              "    </tr>\n",
              "    <tr>\n",
              "      <th>38723</th>\n",
              "      <td>OffersScreenAppear</td>\n",
              "      <td>6304868067479728361</td>\n",
              "      <td>1564700401</td>\n",
              "      <td>248</td>\n",
              "      <td>2019-08-01 23:00:01</td>\n",
              "      <td>2019-08-01</td>\n",
              "    </tr>\n",
              "    <tr>\n",
              "      <th>38740</th>\n",
              "      <td>MainScreenAppear</td>\n",
              "      <td>6304868067479728361</td>\n",
              "      <td>1564700604</td>\n",
              "      <td>248</td>\n",
              "      <td>2019-08-01 23:03:24</td>\n",
              "      <td>2019-08-01</td>\n",
              "    </tr>\n",
              "    <tr>\n",
              "      <th>38744</th>\n",
              "      <td>CartScreenAppear</td>\n",
              "      <td>6304868067479728361</td>\n",
              "      <td>1564700668</td>\n",
              "      <td>248</td>\n",
              "      <td>2019-08-01 23:04:28</td>\n",
              "      <td>2019-08-01</td>\n",
              "    </tr>\n",
              "    <tr>\n",
              "      <th>38944</th>\n",
              "      <td>OffersScreenAppear</td>\n",
              "      <td>6304868067479728361</td>\n",
              "      <td>1564703830</td>\n",
              "      <td>248</td>\n",
              "      <td>2019-08-01 23:57:10</td>\n",
              "      <td>2019-08-01</td>\n",
              "    </tr>\n",
              "    <tr>\n",
              "      <th>38945</th>\n",
              "      <td>CartScreenAppear</td>\n",
              "      <td>6304868067479728361</td>\n",
              "      <td>1564703851</td>\n",
              "      <td>248</td>\n",
              "      <td>2019-08-01 23:57:31</td>\n",
              "      <td>2019-08-01</td>\n",
              "    </tr>\n",
              "  </tbody>\n",
              "</table>\n",
              "</div>\n",
              "      <button class=\"colab-df-convert\" onclick=\"convertToInteractive('df-1a4f86ce-9de5-4f65-be59-f66e59755b7c')\"\n",
              "              title=\"Convert this dataframe to an interactive table.\"\n",
              "              style=\"display:none;\">\n",
              "        \n",
              "  <svg xmlns=\"http://www.w3.org/2000/svg\" height=\"24px\"viewBox=\"0 0 24 24\"\n",
              "       width=\"24px\">\n",
              "    <path d=\"M0 0h24v24H0V0z\" fill=\"none\"/>\n",
              "    <path d=\"M18.56 5.44l.94 2.06.94-2.06 2.06-.94-2.06-.94-.94-2.06-.94 2.06-2.06.94zm-11 1L8.5 8.5l.94-2.06 2.06-.94-2.06-.94L8.5 2.5l-.94 2.06-2.06.94zm10 10l.94 2.06.94-2.06 2.06-.94-2.06-.94-.94-2.06-.94 2.06-2.06.94z\"/><path d=\"M17.41 7.96l-1.37-1.37c-.4-.4-.92-.59-1.43-.59-.52 0-1.04.2-1.43.59L10.3 9.45l-7.72 7.72c-.78.78-.78 2.05 0 2.83L4 21.41c.39.39.9.59 1.41.59.51 0 1.02-.2 1.41-.59l7.78-7.78 2.81-2.81c.8-.78.8-2.07 0-2.86zM5.41 20L4 18.59l7.72-7.72 1.47 1.35L5.41 20z\"/>\n",
              "  </svg>\n",
              "      </button>\n",
              "      \n",
              "  <style>\n",
              "    .colab-df-container {\n",
              "      display:flex;\n",
              "      flex-wrap:wrap;\n",
              "      gap: 12px;\n",
              "    }\n",
              "\n",
              "    .colab-df-convert {\n",
              "      background-color: #E8F0FE;\n",
              "      border: none;\n",
              "      border-radius: 50%;\n",
              "      cursor: pointer;\n",
              "      display: none;\n",
              "      fill: #1967D2;\n",
              "      height: 32px;\n",
              "      padding: 0 0 0 0;\n",
              "      width: 32px;\n",
              "    }\n",
              "\n",
              "    .colab-df-convert:hover {\n",
              "      background-color: #E2EBFA;\n",
              "      box-shadow: 0px 1px 2px rgba(60, 64, 67, 0.3), 0px 1px 3px 1px rgba(60, 64, 67, 0.15);\n",
              "      fill: #174EA6;\n",
              "    }\n",
              "\n",
              "    [theme=dark] .colab-df-convert {\n",
              "      background-color: #3B4455;\n",
              "      fill: #D2E3FC;\n",
              "    }\n",
              "\n",
              "    [theme=dark] .colab-df-convert:hover {\n",
              "      background-color: #434B5C;\n",
              "      box-shadow: 0px 1px 3px 1px rgba(0, 0, 0, 0.15);\n",
              "      filter: drop-shadow(0px 1px 2px rgba(0, 0, 0, 0.3));\n",
              "      fill: #FFFFFF;\n",
              "    }\n",
              "  </style>\n",
              "\n",
              "      <script>\n",
              "        const buttonEl =\n",
              "          document.querySelector('#df-1a4f86ce-9de5-4f65-be59-f66e59755b7c button.colab-df-convert');\n",
              "        buttonEl.style.display =\n",
              "          google.colab.kernel.accessAllowed ? 'block' : 'none';\n",
              "\n",
              "        async function convertToInteractive(key) {\n",
              "          const element = document.querySelector('#df-1a4f86ce-9de5-4f65-be59-f66e59755b7c');\n",
              "          const dataTable =\n",
              "            await google.colab.kernel.invokeFunction('convertToInteractive',\n",
              "                                                     [key], {});\n",
              "          if (!dataTable) return;\n",
              "\n",
              "          const docLinkHtml = 'Like what you see? Visit the ' +\n",
              "            '<a target=\"_blank\" href=https://colab.research.google.com/notebooks/data_table.ipynb>data table notebook</a>'\n",
              "            + ' to learn more about interactive tables.';\n",
              "          element.innerHTML = '';\n",
              "          dataTable['output_type'] = 'display_data';\n",
              "          await google.colab.output.renderOutput(dataTable, element);\n",
              "          const docLink = document.createElement('div');\n",
              "          docLink.innerHTML = docLinkHtml;\n",
              "          element.appendChild(docLink);\n",
              "        }\n",
              "      </script>\n",
              "    </div>\n",
              "  </div>\n",
              "  "
            ]
          },
          "metadata": {},
          "execution_count": 21
        }
      ]
    },
    {
      "cell_type": "markdown",
      "metadata": {
        "id": "tQIDmNPAojLA"
      },
      "source": [
        "Too many purchases per user. Perhaps these are technical errors in assigning id to users."
      ]
    },
    {
      "cell_type": "markdown",
      "metadata": {
        "id": "QB7oA32PojLA"
      },
      "source": [
        "<b>Results:</b> On average, there are 32 events per user, median 20, distribution is right-skewed. There are outliers, users with a very large number of events"
      ]
    },
    {
      "cell_type": "markdown",
      "metadata": {
        "id": "jQD7olU9ojLA"
      },
      "source": [
        "#### Checking the period we have data for"
      ]
    },
    {
      "cell_type": "code",
      "metadata": {
        "id": "mUQahbcPojLB",
        "outputId": "2c8f346f-8f72-4ff2-f65d-65be8105232b",
        "colab": {
          "base_uri": "https://localhost:8080/"
        }
      },
      "source": [
        "df['event_date'].describe(datetime_is_numeric=True)"
      ],
      "execution_count": 22,
      "outputs": [
        {
          "output_type": "execute_result",
          "data": {
            "text/plain": [
              "count                           243713\n",
              "mean     2019-08-03 21:33:56.735012096\n",
              "min                2019-07-25 00:00:00\n",
              "25%                2019-08-02 00:00:00\n",
              "50%                2019-08-04 00:00:00\n",
              "75%                2019-08-06 00:00:00\n",
              "max                2019-08-07 00:00:00\n",
              "Name: event_date, dtype: object"
            ]
          },
          "metadata": {},
          "execution_count": 22
        }
      ]
    },
    {
      "cell_type": "markdown",
      "metadata": {
        "id": "_9RFkx1hojLC"
      },
      "source": [
        "A 14-day period, from 07/25/2019 to 08/07/2019 inclusive"
      ]
    },
    {
      "cell_type": "markdown",
      "metadata": {
        "id": "pvx2k8qaojLC"
      },
      "source": [
        "Number of events per date and time"
      ]
    },
    {
      "cell_type": "code",
      "metadata": {
        "id": "Lyz2xTVVojLC",
        "outputId": "44b32a79-1f6c-46e7-ae1d-e83bc4fe8c1c",
        "colab": {
          "base_uri": "https://localhost:8080/",
          "height": 567
        }
      },
      "source": [
        "df['event_datetime'].hist(bins = 360, figsize=(16,9))\n",
        "plt.title('Number of events per date and time')\n",
        "plt.xlabel('Date and time')\n",
        "plt.ylabel('Number of events')\n",
        "plt.show()"
      ],
      "execution_count": 23,
      "outputs": [
        {
          "output_type": "display_data",
          "data": {
            "text/plain": [
              "<Figure size 1152x648 with 1 Axes>"
            ],
            "image/png": "[encoded data removed]"
          },
          "metadata": {
            "needs_background": "light"
          }
        }
      ]
    },
    {
      "cell_type": "code",
      "metadata": {
        "id": "dZFtOLtfojLC",
        "outputId": "cfe305a1-8d4e-4c99-fb3c-b8fc36144bde",
        "colab": {
          "base_uri": "https://localhost:8080/"
        }
      },
      "source": [
        "df['event_date'].value_counts().sort_index()"
      ],
      "execution_count": 24,
      "outputs": [
        {
          "output_type": "execute_result",
          "data": {
            "text/plain": [
              "2019-07-25        9\n",
              "2019-07-26       31\n",
              "2019-07-27       55\n",
              "2019-07-28      105\n",
              "2019-07-29      184\n",
              "2019-07-30      412\n",
              "2019-07-31     2030\n",
              "2019-08-01    36141\n",
              "2019-08-02    35554\n",
              "2019-08-03    33282\n",
              "2019-08-04    32968\n",
              "2019-08-05    36058\n",
              "2019-08-06    35788\n",
              "2019-08-07    31096\n",
              "Name: event_date, dtype: int64"
            ]
          },
          "metadata": {},
          "execution_count": 24
        }
      ]
    },
    {
      "cell_type": "markdown",
      "metadata": {
        "id": "Xce1Q8l6ojLD"
      },
      "source": [
        "There is much less data until 2019-08-01. It could be a technical error or the service was practically not used. It makes sense to take only August from the 1st to the 7th. Let's create a dataset with these dates"
      ]
    },
    {
      "cell_type": "code",
      "metadata": {
        "id": "I4j_z5njojLE",
        "outputId": "9c0680e3-34bb-4beb-ad3e-2c3c19a6a548",
        "colab": {
          "base_uri": "https://localhost:8080/",
          "height": 206
        }
      },
      "source": [
        "df_fixed = df.query('event_date >= \"2019-08-01\"')\n",
        "df_fixed.head()"
      ],
      "execution_count": 25,
      "outputs": [
        {
          "output_type": "execute_result",
          "data": {
            "text/plain": [
              "              event_name              user_id  event_time_stamp  exp_id  \\\n",
              "2826            Tutorial  3737462046622621720        1564618048     246   \n",
              "2827    MainScreenAppear  3737462046622621720        1564618080     246   \n",
              "2828    MainScreenAppear  3737462046622621720        1564618135     246   \n",
              "2829  OffersScreenAppear  3737462046622621720        1564618138     246   \n",
              "2830    MainScreenAppear  1433840883824088890        1564618139     247   \n",
              "\n",
              "          event_datetime event_date  \n",
              "2826 2019-08-01 00:07:28 2019-08-01  \n",
              "2827 2019-08-01 00:08:00 2019-08-01  \n",
              "2828 2019-08-01 00:08:55 2019-08-01  \n",
              "2829 2019-08-01 00:08:58 2019-08-01  \n",
              "2830 2019-08-01 00:08:59 2019-08-01  "
            ],
            "text/html": [
              "\n",
              "  <div id=\"df-9bf98ac3-4cbd-4115-9d6b-6541efccdbc6\">\n",
              "    <div class=\"colab-df-container\">\n",
              "      <div>\n",
              "<style scoped>\n",
              "    .dataframe tbody tr th:only-of-type {\n",
              "        vertical-align: middle;\n",
              "    }\n",
              "\n",
              "    .dataframe tbody tr th {\n",
              "        vertical-align: top;\n",
              "    }\n",
              "\n",
              "    .dataframe thead th {\n",
              "        text-align: right;\n",
              "    }\n",
              "</style>\n",
              "<table border=\"1\" class=\"dataframe\">\n",
              "  <thead>\n",
              "    <tr style=\"text-align: right;\">\n",
              "      <th></th>\n",
              "      <th>event_name</th>\n",
              "      <th>user_id</th>\n",
              "      <th>event_time_stamp</th>\n",
              "      <th>exp_id</th>\n",
              "      <th>event_datetime</th>\n",
              "      <th>event_date</th>\n",
              "    </tr>\n",
              "  </thead>\n",
              "  <tbody>\n",
              "    <tr>\n",
              "      <th>2826</th>\n",
              "      <td>Tutorial</td>\n",
              "      <td>3737462046622621720</td>\n",
              "      <td>1564618048</td>\n",
              "      <td>246</td>\n",
              "      <td>2019-08-01 00:07:28</td>\n",
              "      <td>2019-08-01</td>\n",
              "    </tr>\n",
              "    <tr>\n",
              "      <th>2827</th>\n",
              "      <td>MainScreenAppear</td>\n",
              "      <td>3737462046622621720</td>\n",
              "      <td>1564618080</td>\n",
              "      <td>246</td>\n",
              "      <td>2019-08-01 00:08:00</td>\n",
              "      <td>2019-08-01</td>\n",
              "    </tr>\n",
              "    <tr>\n",
              "      <th>2828</th>\n",
              "      <td>MainScreenAppear</td>\n",
              "      <td>3737462046622621720</td>\n",
              "      <td>1564618135</td>\n",
              "      <td>246</td>\n",
              "      <td>2019-08-01 00:08:55</td>\n",
              "      <td>2019-08-01</td>\n",
              "    </tr>\n",
              "    <tr>\n",
              "      <th>2829</th>\n",
              "      <td>OffersScreenAppear</td>\n",
              "      <td>3737462046622621720</td>\n",
              "      <td>1564618138</td>\n",
              "      <td>246</td>\n",
              "      <td>2019-08-01 00:08:58</td>\n",
              "      <td>2019-08-01</td>\n",
              "    </tr>\n",
              "    <tr>\n",
              "      <th>2830</th>\n",
              "      <td>MainScreenAppear</td>\n",
              "      <td>1433840883824088890</td>\n",
              "      <td>1564618139</td>\n",
              "      <td>247</td>\n",
              "      <td>2019-08-01 00:08:59</td>\n",
              "      <td>2019-08-01</td>\n",
              "    </tr>\n",
              "  </tbody>\n",
              "</table>\n",
              "</div>\n",
              "      <button class=\"colab-df-convert\" onclick=\"convertToInteractive('df-9bf98ac3-4cbd-4115-9d6b-6541efccdbc6')\"\n",
              "              title=\"Convert this dataframe to an interactive table.\"\n",
              "              style=\"display:none;\">\n",
              "        \n",
              "  <svg xmlns=\"http://www.w3.org/2000/svg\" height=\"24px\"viewBox=\"0 0 24 24\"\n",
              "       width=\"24px\">\n",
              "    <path d=\"M0 0h24v24H0V0z\" fill=\"none\"/>\n",
              "    <path d=\"M18.56 5.44l.94 2.06.94-2.06 2.06-.94-2.06-.94-.94-2.06-.94 2.06-2.06.94zm-11 1L8.5 8.5l.94-2.06 2.06-.94-2.06-.94L8.5 2.5l-.94 2.06-2.06.94zm10 10l.94 2.06.94-2.06 2.06-.94-2.06-.94-.94-2.06-.94 2.06-2.06.94z\"/><path d=\"M17.41 7.96l-1.37-1.37c-.4-.4-.92-.59-1.43-.59-.52 0-1.04.2-1.43.59L10.3 9.45l-7.72 7.72c-.78.78-.78 2.05 0 2.83L4 21.41c.39.39.9.59 1.41.59.51 0 1.02-.2 1.41-.59l7.78-7.78 2.81-2.81c.8-.78.8-2.07 0-2.86zM5.41 20L4 18.59l7.72-7.72 1.47 1.35L5.41 20z\"/>\n",
              "  </svg>\n",
              "      </button>\n",
              "      \n",
              "  <style>\n",
              "    .colab-df-container {\n",
              "      display:flex;\n",
              "      flex-wrap:wrap;\n",
              "      gap: 12px;\n",
              "    }\n",
              "\n",
              "    .colab-df-convert {\n",
              "      background-color: #E8F0FE;\n",
              "      border: none;\n",
              "      border-radius: 50%;\n",
              "      cursor: pointer;\n",
              "      display: none;\n",
              "      fill: #1967D2;\n",
              "      height: 32px;\n",
              "      padding: 0 0 0 0;\n",
              "      width: 32px;\n",
              "    }\n",
              "\n",
              "    .colab-df-convert:hover {\n",
              "      background-color: #E2EBFA;\n",
              "      box-shadow: 0px 1px 2px rgba(60, 64, 67, 0.3), 0px 1px 3px 1px rgba(60, 64, 67, 0.15);\n",
              "      fill: #174EA6;\n",
              "    }\n",
              "\n",
              "    [theme=dark] .colab-df-convert {\n",
              "      background-color: #3B4455;\n",
              "      fill: #D2E3FC;\n",
              "    }\n",
              "\n",
              "    [theme=dark] .colab-df-convert:hover {\n",
              "      background-color: #434B5C;\n",
              "      box-shadow: 0px 1px 3px 1px rgba(0, 0, 0, 0.15);\n",
              "      filter: drop-shadow(0px 1px 2px rgba(0, 0, 0, 0.3));\n",
              "      fill: #FFFFFF;\n",
              "    }\n",
              "  </style>\n",
              "\n",
              "      <script>\n",
              "        const buttonEl =\n",
              "          document.querySelector('#df-9bf98ac3-4cbd-4115-9d6b-6541efccdbc6 button.colab-df-convert');\n",
              "        buttonEl.style.display =\n",
              "          google.colab.kernel.accessAllowed ? 'block' : 'none';\n",
              "\n",
              "        async function convertToInteractive(key) {\n",
              "          const element = document.querySelector('#df-9bf98ac3-4cbd-4115-9d6b-6541efccdbc6');\n",
              "          const dataTable =\n",
              "            await google.colab.kernel.invokeFunction('convertToInteractive',\n",
              "                                                     [key], {});\n",
              "          if (!dataTable) return;\n",
              "\n",
              "          const docLinkHtml = 'Like what you see? Visit the ' +\n",
              "            '<a target=\"_blank\" href=https://colab.research.google.com/notebooks/data_table.ipynb>data table notebook</a>'\n",
              "            + ' to learn more about interactive tables.';\n",
              "          element.innerHTML = '';\n",
              "          dataTable['output_type'] = 'display_data';\n",
              "          await google.colab.output.renderOutput(dataTable, element);\n",
              "          const docLink = document.createElement('div');\n",
              "          docLink.innerHTML = docLinkHtml;\n",
              "          element.appendChild(docLink);\n",
              "        }\n",
              "      </script>\n",
              "    </div>\n",
              "  </div>\n",
              "  "
            ]
          },
          "metadata": {},
          "execution_count": 25
        }
      ]
    },
    {
      "cell_type": "code",
      "metadata": {
        "id": "t_TalyCtojLE",
        "outputId": "ba6ab256-74dc-42e2-85b3-59f0e1fde6f5",
        "colab": {
          "base_uri": "https://localhost:8080/"
        }
      },
      "source": [
        "df_fixed['event_date'].describe(datetime_is_numeric=True)"
      ],
      "execution_count": 26,
      "outputs": [
        {
          "output_type": "execute_result",
          "data": {
            "text/plain": [
              "count                           240887\n",
              "mean     2019-08-03 22:48:55.002718976\n",
              "min                2019-08-01 00:00:00\n",
              "25%                2019-08-02 00:00:00\n",
              "50%                2019-08-04 00:00:00\n",
              "75%                2019-08-06 00:00:00\n",
              "max                2019-08-07 00:00:00\n",
              "Name: event_date, dtype: object"
            ]
          },
          "metadata": {},
          "execution_count": 26
        }
      ]
    },
    {
      "cell_type": "markdown",
      "metadata": {
        "id": "8yMHtORmojLF"
      },
      "source": [
        "So we have a 7-day period"
      ]
    },
    {
      "cell_type": "markdown",
      "metadata": {
        "id": "wUoxrIP6ojLF"
      },
      "source": [
        "Number of events we lost:"
      ]
    },
    {
      "cell_type": "code",
      "metadata": {
        "id": "uUSNfFF2ojLF",
        "outputId": "5e5f6cda-bb7f-46c9-ed1c-ce30ca240836",
        "colab": {
          "base_uri": "https://localhost:8080/"
        }
      },
      "source": [
        "len(df_fixed) - len(df)"
      ],
      "execution_count": 27,
      "outputs": [
        {
          "output_type": "execute_result",
          "data": {
            "text/plain": [
              "-2826"
            ]
          },
          "metadata": {},
          "execution_count": 27
        }
      ]
    },
    {
      "cell_type": "code",
      "metadata": {
        "id": "W6ERIf93ojLG",
        "outputId": "c7cebcde-a4e1-462e-b4db-3216e2d88b47",
        "colab": {
          "base_uri": "https://localhost:8080/"
        }
      },
      "source": [
        "len(df_fixed) / len(df) -1 "
      ],
      "execution_count": 28,
      "outputs": [
        {
          "output_type": "execute_result",
          "data": {
            "text/plain": [
              "-0.01159560630741896"
            ]
          },
          "metadata": {},
          "execution_count": 28
        }
      ]
    },
    {
      "cell_type": "markdown",
      "metadata": {
        "id": "SA0hHwH_ojLG"
      },
      "source": [
        "We lost as little as 1.2%"
      ]
    },
    {
      "cell_type": "markdown",
      "metadata": {
        "id": "M4vmyBxrojLG"
      },
      "source": [
        "Lost users:"
      ]
    },
    {
      "cell_type": "code",
      "metadata": {
        "id": "h6O-ErqDojLG",
        "outputId": "bf4e4dcb-e5f9-49cc-9f07-068cc2feb254",
        "colab": {
          "base_uri": "https://localhost:8080/"
        }
      },
      "source": [
        "df_fixed['user_id'].nunique() - df['user_id'].nunique()"
      ],
      "execution_count": 29,
      "outputs": [
        {
          "output_type": "execute_result",
          "data": {
            "text/plain": [
              "-17"
            ]
          },
          "metadata": {},
          "execution_count": 29
        }
      ]
    },
    {
      "cell_type": "code",
      "metadata": {
        "id": "-mEZCtcnojLH",
        "outputId": "0fdb336c-e648-40f8-d32d-30b53dabc41d",
        "colab": {
          "base_uri": "https://localhost:8080/"
        }
      },
      "source": [
        "df_fixed['user_id'].nunique() / df['user_id'].nunique() -1"
      ],
      "execution_count": 30,
      "outputs": [
        {
          "output_type": "execute_result",
          "data": {
            "text/plain": [
              "-0.0022513574361011646"
            ]
          },
          "metadata": {},
          "execution_count": 30
        }
      ]
    },
    {
      "cell_type": "markdown",
      "metadata": {
        "id": "5wumOOdhojLH"
      },
      "source": [
        "We lost only 0.2% of the total number of users"
      ]
    },
    {
      "cell_type": "markdown",
      "metadata": {
        "id": "laEYTi8LojLH"
      },
      "source": [
        "<b>Results:</b> we did not lose a significant number of events and users by trimming the dataset"
      ]
    },
    {
      "cell_type": "markdown",
      "metadata": {
        "id": "f6EeDSRwojLI"
      },
      "source": [
        "#### Checking the distribution of users among groups"
      ]
    },
    {
      "cell_type": "code",
      "metadata": {
        "id": "hq3lkMG7ojLI",
        "outputId": "4d550190-1c8c-4792-d2a4-5de6a50f98af",
        "colab": {
          "base_uri": "https://localhost:8080/"
        }
      },
      "source": [
        "df_fixed.groupby('exp_id')['user_id'].nunique()"
      ],
      "execution_count": 31,
      "outputs": [
        {
          "output_type": "execute_result",
          "data": {
            "text/plain": [
              "exp_id\n",
              "246    2484\n",
              "247    2513\n",
              "248    2537\n",
              "Name: user_id, dtype: int64"
            ]
          },
          "metadata": {},
          "execution_count": 31
        }
      ]
    },
    {
      "cell_type": "markdown",
      "metadata": {
        "id": "qBuQEbYIojLI"
      },
      "source": [
        "Let's check the uniqueness of users in each group. There should not be users assigned to 2 or more groups"
      ]
    },
    {
      "cell_type": "code",
      "metadata": {
        "id": "gtQRG_bVojLI",
        "outputId": "7b8a35ff-22f9-438c-b3c2-272c4b9fb358",
        "colab": {
          "base_uri": "https://localhost:8080/",
          "height": 49
        }
      },
      "source": [
        "t = df_fixed.groupby('user_id')['exp_id'].nunique().reset_index()\n",
        "t[t['exp_id']>1]"
      ],
      "execution_count": 32,
      "outputs": [
        {
          "output_type": "execute_result",
          "data": {
            "text/plain": [
              "Empty DataFrame\n",
              "Columns: [user_id, exp_id]\n",
              "Index: []"
            ],
            "text/html": [
              "\n",
              "  <div id=\"df-119fc189-5364-4035-b5f9-7a04e99c2f10\">\n",
              "    <div class=\"colab-df-container\">\n",
              "      <div>\n",
              "<style scoped>\n",
              "    .dataframe tbody tr th:only-of-type {\n",
              "        vertical-align: middle;\n",
              "    }\n",
              "\n",
              "    .dataframe tbody tr th {\n",
              "        vertical-align: top;\n",
              "    }\n",
              "\n",
              "    .dataframe thead th {\n",
              "        text-align: right;\n",
              "    }\n",
              "</style>\n",
              "<table border=\"1\" class=\"dataframe\">\n",
              "  <thead>\n",
              "    <tr style=\"text-align: right;\">\n",
              "      <th></th>\n",
              "      <th>user_id</th>\n",
              "      <th>exp_id</th>\n",
              "    </tr>\n",
              "  </thead>\n",
              "  <tbody>\n",
              "  </tbody>\n",
              "</table>\n",
              "</div>\n",
              "      <button class=\"colab-df-convert\" onclick=\"convertToInteractive('df-119fc189-5364-4035-b5f9-7a04e99c2f10')\"\n",
              "              title=\"Convert this dataframe to an interactive table.\"\n",
              "              style=\"display:none;\">\n",
              "        \n",
              "  <svg xmlns=\"http://www.w3.org/2000/svg\" height=\"24px\"viewBox=\"0 0 24 24\"\n",
              "       width=\"24px\">\n",
              "    <path d=\"M0 0h24v24H0V0z\" fill=\"none\"/>\n",
              "    <path d=\"M18.56 5.44l.94 2.06.94-2.06 2.06-.94-2.06-.94-.94-2.06-.94 2.06-2.06.94zm-11 1L8.5 8.5l.94-2.06 2.06-.94-2.06-.94L8.5 2.5l-.94 2.06-2.06.94zm10 10l.94 2.06.94-2.06 2.06-.94-2.06-.94-.94-2.06-.94 2.06-2.06.94z\"/><path d=\"M17.41 7.96l-1.37-1.37c-.4-.4-.92-.59-1.43-.59-.52 0-1.04.2-1.43.59L10.3 9.45l-7.72 7.72c-.78.78-.78 2.05 0 2.83L4 21.41c.39.39.9.59 1.41.59.51 0 1.02-.2 1.41-.59l7.78-7.78 2.81-2.81c.8-.78.8-2.07 0-2.86zM5.41 20L4 18.59l7.72-7.72 1.47 1.35L5.41 20z\"/>\n",
              "  </svg>\n",
              "      </button>\n",
              "      \n",
              "  <style>\n",
              "    .colab-df-container {\n",
              "      display:flex;\n",
              "      flex-wrap:wrap;\n",
              "      gap: 12px;\n",
              "    }\n",
              "\n",
              "    .colab-df-convert {\n",
              "      background-color: #E8F0FE;\n",
              "      border: none;\n",
              "      border-radius: 50%;\n",
              "      cursor: pointer;\n",
              "      display: none;\n",
              "      fill: #1967D2;\n",
              "      height: 32px;\n",
              "      padding: 0 0 0 0;\n",
              "      width: 32px;\n",
              "    }\n",
              "\n",
              "    .colab-df-convert:hover {\n",
              "      background-color: #E2EBFA;\n",
              "      box-shadow: 0px 1px 2px rgba(60, 64, 67, 0.3), 0px 1px 3px 1px rgba(60, 64, 67, 0.15);\n",
              "      fill: #174EA6;\n",
              "    }\n",
              "\n",
              "    [theme=dark] .colab-df-convert {\n",
              "      background-color: #3B4455;\n",
              "      fill: #D2E3FC;\n",
              "    }\n",
              "\n",
              "    [theme=dark] .colab-df-convert:hover {\n",
              "      background-color: #434B5C;\n",
              "      box-shadow: 0px 1px 3px 1px rgba(0, 0, 0, 0.15);\n",
              "      filter: drop-shadow(0px 1px 2px rgba(0, 0, 0, 0.3));\n",
              "      fill: #FFFFFF;\n",
              "    }\n",
              "  </style>\n",
              "\n",
              "      <script>\n",
              "        const buttonEl =\n",
              "          document.querySelector('#df-119fc189-5364-4035-b5f9-7a04e99c2f10 button.colab-df-convert');\n",
              "        buttonEl.style.display =\n",
              "          google.colab.kernel.accessAllowed ? 'block' : 'none';\n",
              "\n",
              "        async function convertToInteractive(key) {\n",
              "          const element = document.querySelector('#df-119fc189-5364-4035-b5f9-7a04e99c2f10');\n",
              "          const dataTable =\n",
              "            await google.colab.kernel.invokeFunction('convertToInteractive',\n",
              "                                                     [key], {});\n",
              "          if (!dataTable) return;\n",
              "\n",
              "          const docLinkHtml = 'Like what you see? Visit the ' +\n",
              "            '<a target=\"_blank\" href=https://colab.research.google.com/notebooks/data_table.ipynb>data table notebook</a>'\n",
              "            + ' to learn more about interactive tables.';\n",
              "          element.innerHTML = '';\n",
              "          dataTable['output_type'] = 'display_data';\n",
              "          await google.colab.output.renderOutput(dataTable, element);\n",
              "          const docLink = document.createElement('div');\n",
              "          docLink.innerHTML = docLinkHtml;\n",
              "          element.appendChild(docLink);\n",
              "        }\n",
              "      </script>\n",
              "    </div>\n",
              "  </div>\n",
              "  "
            ]
          },
          "metadata": {},
          "execution_count": 32
        }
      ]
    },
    {
      "cell_type": "markdown",
      "metadata": {
        "id": "d3oRU-atojLJ"
      },
      "source": [
        "Users are grouped correctly"
      ]
    },
    {
      "cell_type": "markdown",
      "metadata": {
        "id": "rYAHF53fojLJ"
      },
      "source": [
        "### Stage 4. Funnel analysis"
      ]
    },
    {
      "cell_type": "markdown",
      "metadata": {
        "id": "6KmRQhx-ojLK"
      },
      "source": [
        "Event log"
      ]
    },
    {
      "cell_type": "code",
      "metadata": {
        "id": "mcqNNcyCojLK",
        "outputId": "1d8fa2a5-0609-4084-b6eb-e36cfe5783d8",
        "colab": {
          "base_uri": "https://localhost:8080/"
        }
      },
      "source": [
        "df_fixed['event_name'].value_counts()"
      ],
      "execution_count": 33,
      "outputs": [
        {
          "output_type": "execute_result",
          "data": {
            "text/plain": [
              "MainScreenAppear           117328\n",
              "OffersScreenAppear          46333\n",
              "CartScreenAppear            42303\n",
              "PaymentScreenSuccessful     33918\n",
              "Tutorial                     1005\n",
              "Name: event_name, dtype: int64"
            ]
          },
          "metadata": {},
          "execution_count": 33
        }
      ]
    },
    {
      "cell_type": "markdown",
      "metadata": {
        "id": "6b0coxANojLK"
      },
      "source": [
        "MainScreenAppear is the most frequent event, which is logical. Tutorial is the rarest, which is also logical, few people read it. The number of successful payments (PaymentScreenSuccessful) is less than the number of cart screens (CartScreenAppear)."
      ]
    },
    {
      "cell_type": "markdown",
      "metadata": {
        "id": "lCkxoG-2ojLK"
      },
      "source": [
        "Let's count how many users did each of these events and calculate the proportion of users who have made an event at least once."
      ]
    },
    {
      "cell_type": "code",
      "metadata": {
        "id": "48hXpGJkojLK",
        "outputId": "54ac7284-b34d-4526-89bb-634434bf1e65",
        "colab": {
          "base_uri": "https://localhost:8080/",
          "height": 206
        }
      },
      "source": [
        "t = df_fixed.groupby('event_name')['user_id'].nunique().sort_values(ascending=False).reset_index()\n",
        "t['user_id%'] = ((t['user_id'] / df_fixed['user_id'].nunique())*100).round(2)\n",
        "t"
      ],
      "execution_count": 34,
      "outputs": [
        {
          "output_type": "execute_result",
          "data": {
            "text/plain": [
              "                event_name  user_id  user_id%\n",
              "0         MainScreenAppear     7419     98.47\n",
              "1       OffersScreenAppear     4593     60.96\n",
              "2         CartScreenAppear     3734     49.56\n",
              "3  PaymentScreenSuccessful     3539     46.97\n",
              "4                 Tutorial      840     11.15"
            ],
            "text/html": [
              "\n",
              "  <div id=\"df-abb4a4e8-7130-4b68-baec-46ffe5f54615\">\n",
              "    <div class=\"colab-df-container\">\n",
              "      <div>\n",
              "<style scoped>\n",
              "    .dataframe tbody tr th:only-of-type {\n",
              "        vertical-align: middle;\n",
              "    }\n",
              "\n",
              "    .dataframe tbody tr th {\n",
              "        vertical-align: top;\n",
              "    }\n",
              "\n",
              "    .dataframe thead th {\n",
              "        text-align: right;\n",
              "    }\n",
              "</style>\n",
              "<table border=\"1\" class=\"dataframe\">\n",
              "  <thead>\n",
              "    <tr style=\"text-align: right;\">\n",
              "      <th></th>\n",
              "      <th>event_name</th>\n",
              "      <th>user_id</th>\n",
              "      <th>user_id%</th>\n",
              "    </tr>\n",
              "  </thead>\n",
              "  <tbody>\n",
              "    <tr>\n",
              "      <th>0</th>\n",
              "      <td>MainScreenAppear</td>\n",
              "      <td>7419</td>\n",
              "      <td>98.47</td>\n",
              "    </tr>\n",
              "    <tr>\n",
              "      <th>1</th>\n",
              "      <td>OffersScreenAppear</td>\n",
              "      <td>4593</td>\n",
              "      <td>60.96</td>\n",
              "    </tr>\n",
              "    <tr>\n",
              "      <th>2</th>\n",
              "      <td>CartScreenAppear</td>\n",
              "      <td>3734</td>\n",
              "      <td>49.56</td>\n",
              "    </tr>\n",
              "    <tr>\n",
              "      <th>3</th>\n",
              "      <td>PaymentScreenSuccessful</td>\n",
              "      <td>3539</td>\n",
              "      <td>46.97</td>\n",
              "    </tr>\n",
              "    <tr>\n",
              "      <th>4</th>\n",
              "      <td>Tutorial</td>\n",
              "      <td>840</td>\n",
              "      <td>11.15</td>\n",
              "    </tr>\n",
              "  </tbody>\n",
              "</table>\n",
              "</div>\n",
              "      <button class=\"colab-df-convert\" onclick=\"convertToInteractive('df-abb4a4e8-7130-4b68-baec-46ffe5f54615')\"\n",
              "              title=\"Convert this dataframe to an interactive table.\"\n",
              "              style=\"display:none;\">\n",
              "        \n",
              "  <svg xmlns=\"http://www.w3.org/2000/svg\" height=\"24px\"viewBox=\"0 0 24 24\"\n",
              "       width=\"24px\">\n",
              "    <path d=\"M0 0h24v24H0V0z\" fill=\"none\"/>\n",
              "    <path d=\"M18.56 5.44l.94 2.06.94-2.06 2.06-.94-2.06-.94-.94-2.06-.94 2.06-2.06.94zm-11 1L8.5 8.5l.94-2.06 2.06-.94-2.06-.94L8.5 2.5l-.94 2.06-2.06.94zm10 10l.94 2.06.94-2.06 2.06-.94-2.06-.94-.94-2.06-.94 2.06-2.06.94z\"/><path d=\"M17.41 7.96l-1.37-1.37c-.4-.4-.92-.59-1.43-.59-.52 0-1.04.2-1.43.59L10.3 9.45l-7.72 7.72c-.78.78-.78 2.05 0 2.83L4 21.41c.39.39.9.59 1.41.59.51 0 1.02-.2 1.41-.59l7.78-7.78 2.81-2.81c.8-.78.8-2.07 0-2.86zM5.41 20L4 18.59l7.72-7.72 1.47 1.35L5.41 20z\"/>\n",
              "  </svg>\n",
              "      </button>\n",
              "      \n",
              "  <style>\n",
              "    .colab-df-container {\n",
              "      display:flex;\n",
              "      flex-wrap:wrap;\n",
              "      gap: 12px;\n",
              "    }\n",
              "\n",
              "    .colab-df-convert {\n",
              "      background-color: #E8F0FE;\n",
              "      border: none;\n",
              "      border-radius: 50%;\n",
              "      cursor: pointer;\n",
              "      display: none;\n",
              "      fill: #1967D2;\n",
              "      height: 32px;\n",
              "      padding: 0 0 0 0;\n",
              "      width: 32px;\n",
              "    }\n",
              "\n",
              "    .colab-df-convert:hover {\n",
              "      background-color: #E2EBFA;\n",
              "      box-shadow: 0px 1px 2px rgba(60, 64, 67, 0.3), 0px 1px 3px 1px rgba(60, 64, 67, 0.15);\n",
              "      fill: #174EA6;\n",
              "    }\n",
              "\n",
              "    [theme=dark] .colab-df-convert {\n",
              "      background-color: #3B4455;\n",
              "      fill: #D2E3FC;\n",
              "    }\n",
              "\n",
              "    [theme=dark] .colab-df-convert:hover {\n",
              "      background-color: #434B5C;\n",
              "      box-shadow: 0px 1px 3px 1px rgba(0, 0, 0, 0.15);\n",
              "      filter: drop-shadow(0px 1px 2px rgba(0, 0, 0, 0.3));\n",
              "      fill: #FFFFFF;\n",
              "    }\n",
              "  </style>\n",
              "\n",
              "      <script>\n",
              "        const buttonEl =\n",
              "          document.querySelector('#df-abb4a4e8-7130-4b68-baec-46ffe5f54615 button.colab-df-convert');\n",
              "        buttonEl.style.display =\n",
              "          google.colab.kernel.accessAllowed ? 'block' : 'none';\n",
              "\n",
              "        async function convertToInteractive(key) {\n",
              "          const element = document.querySelector('#df-abb4a4e8-7130-4b68-baec-46ffe5f54615');\n",
              "          const dataTable =\n",
              "            await google.colab.kernel.invokeFunction('convertToInteractive',\n",
              "                                                     [key], {});\n",
              "          if (!dataTable) return;\n",
              "\n",
              "          const docLinkHtml = 'Like what you see? Visit the ' +\n",
              "            '<a target=\"_blank\" href=https://colab.research.google.com/notebooks/data_table.ipynb>data table notebook</a>'\n",
              "            + ' to learn more about interactive tables.';\n",
              "          element.innerHTML = '';\n",
              "          dataTable['output_type'] = 'display_data';\n",
              "          await google.colab.output.renderOutput(dataTable, element);\n",
              "          const docLink = document.createElement('div');\n",
              "          docLink.innerHTML = docLinkHtml;\n",
              "          element.appendChild(docLink);\n",
              "        }\n",
              "      </script>\n",
              "    </div>\n",
              "  </div>\n",
              "  "
            ]
          },
          "metadata": {},
          "execution_count": 34
        }
      ]
    },
    {
      "cell_type": "markdown",
      "metadata": {
        "id": "1j15oSccojLL"
      },
      "source": [
        "The distribution of unique users by event type corresponds to the distribution of event frequency: MainScreenAppear is the most popular screen among users. Tutorial is the rarest. There are fewer successful payments (PaymentScreenSuccessful) than cart screens (CartScreenAppear)."
      ]
    },
    {
      "cell_type": "markdown",
      "metadata": {
        "id": "LG66XL7-ojLM"
      },
      "source": [
        "The order of events"
      ]
    },
    {
      "cell_type": "markdown",
      "metadata": {
        "id": "BJ5wkGxoojLM"
      },
      "source": [
        "The funnel will look like: MainScreenAppear - OffersScreenAppear - CartScreenAppear - PaymentScreenSuccessful. Tutorial should not be included in the funnel."
      ]
    },
    {
      "cell_type": "markdown",
      "metadata": {
        "id": "30ihXdrUojLN"
      },
      "source": [
        "Using the funnel of events, let's calculate the percentage of users who go to the next step of the funnel (from the number of users on the previous one)"
      ]
    },
    {
      "cell_type": "markdown",
      "metadata": {
        "id": "hqTs9vxKojLN"
      },
      "source": [
        "We create a table with conversion rates for 4 funnel events and add the first stage with the total number of users"
      ]
    },
    {
      "cell_type": "code",
      "metadata": {
        "id": "VFlJ5YxrojLN",
        "outputId": "dd6e5cef-ce7f-4f0a-fa88-fba1a4b76a1b",
        "colab": {
          "base_uri": "https://localhost:8080/",
          "height": 175
        }
      },
      "source": [
        "target_events = ['MainScreenAppear','OffersScreenAppear','CartScreenAppear','PaymentScreenSuccessful']\n",
        "\n",
        "funnel = df_fixed.query('event_name in @target_events').groupby('event_name')['user_id'].nunique().sort_values(ascending=False).reset_index()\n",
        "funnel"
      ],
      "execution_count": 35,
      "outputs": [
        {
          "output_type": "execute_result",
          "data": {
            "text/plain": [
              "                event_name  user_id\n",
              "0         MainScreenAppear     7419\n",
              "1       OffersScreenAppear     4593\n",
              "2         CartScreenAppear     3734\n",
              "3  PaymentScreenSuccessful     3539"
            ],
            "text/html": [
              "\n",
              "  <div id=\"df-e6e2cfe6-6818-44d0-b7e1-307b00209a18\">\n",
              "    <div class=\"colab-df-container\">\n",
              "      <div>\n",
              "<style scoped>\n",
              "    .dataframe tbody tr th:only-of-type {\n",
              "        vertical-align: middle;\n",
              "    }\n",
              "\n",
              "    .dataframe tbody tr th {\n",
              "        vertical-align: top;\n",
              "    }\n",
              "\n",
              "    .dataframe thead th {\n",
              "        text-align: right;\n",
              "    }\n",
              "</style>\n",
              "<table border=\"1\" class=\"dataframe\">\n",
              "  <thead>\n",
              "    <tr style=\"text-align: right;\">\n",
              "      <th></th>\n",
              "      <th>event_name</th>\n",
              "      <th>user_id</th>\n",
              "    </tr>\n",
              "  </thead>\n",
              "  <tbody>\n",
              "    <tr>\n",
              "      <th>0</th>\n",
              "      <td>MainScreenAppear</td>\n",
              "      <td>7419</td>\n",
              "    </tr>\n",
              "    <tr>\n",
              "      <th>1</th>\n",
              "      <td>OffersScreenAppear</td>\n",
              "      <td>4593</td>\n",
              "    </tr>\n",
              "    <tr>\n",
              "      <th>2</th>\n",
              "      <td>CartScreenAppear</td>\n",
              "      <td>3734</td>\n",
              "    </tr>\n",
              "    <tr>\n",
              "      <th>3</th>\n",
              "      <td>PaymentScreenSuccessful</td>\n",
              "      <td>3539</td>\n",
              "    </tr>\n",
              "  </tbody>\n",
              "</table>\n",
              "</div>\n",
              "      <button class=\"colab-df-convert\" onclick=\"convertToInteractive('df-e6e2cfe6-6818-44d0-b7e1-307b00209a18')\"\n",
              "              title=\"Convert this dataframe to an interactive table.\"\n",
              "              style=\"display:none;\">\n",
              "        \n",
              "  <svg xmlns=\"http://www.w3.org/2000/svg\" height=\"24px\"viewBox=\"0 0 24 24\"\n",
              "       width=\"24px\">\n",
              "    <path d=\"M0 0h24v24H0V0z\" fill=\"none\"/>\n",
              "    <path d=\"M18.56 5.44l.94 2.06.94-2.06 2.06-.94-2.06-.94-.94-2.06-.94 2.06-2.06.94zm-11 1L8.5 8.5l.94-2.06 2.06-.94-2.06-.94L8.5 2.5l-.94 2.06-2.06.94zm10 10l.94 2.06.94-2.06 2.06-.94-2.06-.94-.94-2.06-.94 2.06-2.06.94z\"/><path d=\"M17.41 7.96l-1.37-1.37c-.4-.4-.92-.59-1.43-.59-.52 0-1.04.2-1.43.59L10.3 9.45l-7.72 7.72c-.78.78-.78 2.05 0 2.83L4 21.41c.39.39.9.59 1.41.59.51 0 1.02-.2 1.41-.59l7.78-7.78 2.81-2.81c.8-.78.8-2.07 0-2.86zM5.41 20L4 18.59l7.72-7.72 1.47 1.35L5.41 20z\"/>\n",
              "  </svg>\n",
              "      </button>\n",
              "      \n",
              "  <style>\n",
              "    .colab-df-container {\n",
              "      display:flex;\n",
              "      flex-wrap:wrap;\n",
              "      gap: 12px;\n",
              "    }\n",
              "\n",
              "    .colab-df-convert {\n",
              "      background-color: #E8F0FE;\n",
              "      border: none;\n",
              "      border-radius: 50%;\n",
              "      cursor: pointer;\n",
              "      display: none;\n",
              "      fill: #1967D2;\n",
              "      height: 32px;\n",
              "      padding: 0 0 0 0;\n",
              "      width: 32px;\n",
              "    }\n",
              "\n",
              "    .colab-df-convert:hover {\n",
              "      background-color: #E2EBFA;\n",
              "      box-shadow: 0px 1px 2px rgba(60, 64, 67, 0.3), 0px 1px 3px 1px rgba(60, 64, 67, 0.15);\n",
              "      fill: #174EA6;\n",
              "    }\n",
              "\n",
              "    [theme=dark] .colab-df-convert {\n",
              "      background-color: #3B4455;\n",
              "      fill: #D2E3FC;\n",
              "    }\n",
              "\n",
              "    [theme=dark] .colab-df-convert:hover {\n",
              "      background-color: #434B5C;\n",
              "      box-shadow: 0px 1px 3px 1px rgba(0, 0, 0, 0.15);\n",
              "      filter: drop-shadow(0px 1px 2px rgba(0, 0, 0, 0.3));\n",
              "      fill: #FFFFFF;\n",
              "    }\n",
              "  </style>\n",
              "\n",
              "      <script>\n",
              "        const buttonEl =\n",
              "          document.querySelector('#df-e6e2cfe6-6818-44d0-b7e1-307b00209a18 button.colab-df-convert');\n",
              "        buttonEl.style.display =\n",
              "          google.colab.kernel.accessAllowed ? 'block' : 'none';\n",
              "\n",
              "        async function convertToInteractive(key) {\n",
              "          const element = document.querySelector('#df-e6e2cfe6-6818-44d0-b7e1-307b00209a18');\n",
              "          const dataTable =\n",
              "            await google.colab.kernel.invokeFunction('convertToInteractive',\n",
              "                                                     [key], {});\n",
              "          if (!dataTable) return;\n",
              "\n",
              "          const docLinkHtml = 'Like what you see? Visit the ' +\n",
              "            '<a target=\"_blank\" href=https://colab.research.google.com/notebooks/data_table.ipynb>data table notebook</a>'\n",
              "            + ' to learn more about interactive tables.';\n",
              "          element.innerHTML = '';\n",
              "          dataTable['output_type'] = 'display_data';\n",
              "          await google.colab.output.renderOutput(dataTable, element);\n",
              "          const docLink = document.createElement('div');\n",
              "          docLink.innerHTML = docLinkHtml;\n",
              "          element.appendChild(docLink);\n",
              "        }\n",
              "      </script>\n",
              "    </div>\n",
              "  </div>\n",
              "  "
            ]
          },
          "metadata": {},
          "execution_count": 35
        }
      ]
    },
    {
      "cell_type": "code",
      "metadata": {
        "id": "CqPRVT6SojLO",
        "outputId": "8bcccbdc-0821-4feb-a883-8b6a4a4186c8",
        "colab": {
          "base_uri": "https://localhost:8080/",
          "height": 206
        }
      },
      "source": [
        "new_row = {'event_name':'FirstStage', 'user_id':df_fixed['user_id'].nunique()}\n",
        "funnel = funnel.append(new_row, ignore_index=True).sort_values(by='user_id', ascending=False).reset_index()\n",
        "funnel"
      ],
      "execution_count": 36,
      "outputs": [
        {
          "output_type": "execute_result",
          "data": {
            "text/plain": [
              "   index               event_name  user_id\n",
              "0      4               FirstStage     7534\n",
              "1      0         MainScreenAppear     7419\n",
              "2      1       OffersScreenAppear     4593\n",
              "3      2         CartScreenAppear     3734\n",
              "4      3  PaymentScreenSuccessful     3539"
            ],
            "text/html": [
              "\n",
              "  <div id=\"df-e0f05b81-83de-4183-b463-d8f497f182ac\">\n",
              "    <div class=\"colab-df-container\">\n",
              "      <div>\n",
              "<style scoped>\n",
              "    .dataframe tbody tr th:only-of-type {\n",
              "        vertical-align: middle;\n",
              "    }\n",
              "\n",
              "    .dataframe tbody tr th {\n",
              "        vertical-align: top;\n",
              "    }\n",
              "\n",
              "    .dataframe thead th {\n",
              "        text-align: right;\n",
              "    }\n",
              "</style>\n",
              "<table border=\"1\" class=\"dataframe\">\n",
              "  <thead>\n",
              "    <tr style=\"text-align: right;\">\n",
              "      <th></th>\n",
              "      <th>index</th>\n",
              "      <th>event_name</th>\n",
              "      <th>user_id</th>\n",
              "    </tr>\n",
              "  </thead>\n",
              "  <tbody>\n",
              "    <tr>\n",
              "      <th>0</th>\n",
              "      <td>4</td>\n",
              "      <td>FirstStage</td>\n",
              "      <td>7534</td>\n",
              "    </tr>\n",
              "    <tr>\n",
              "      <th>1</th>\n",
              "      <td>0</td>\n",
              "      <td>MainScreenAppear</td>\n",
              "      <td>7419</td>\n",
              "    </tr>\n",
              "    <tr>\n",
              "      <th>2</th>\n",
              "      <td>1</td>\n",
              "      <td>OffersScreenAppear</td>\n",
              "      <td>4593</td>\n",
              "    </tr>\n",
              "    <tr>\n",
              "      <th>3</th>\n",
              "      <td>2</td>\n",
              "      <td>CartScreenAppear</td>\n",
              "      <td>3734</td>\n",
              "    </tr>\n",
              "    <tr>\n",
              "      <th>4</th>\n",
              "      <td>3</td>\n",
              "      <td>PaymentScreenSuccessful</td>\n",
              "      <td>3539</td>\n",
              "    </tr>\n",
              "  </tbody>\n",
              "</table>\n",
              "</div>\n",
              "      <button class=\"colab-df-convert\" onclick=\"convertToInteractive('df-e0f05b81-83de-4183-b463-d8f497f182ac')\"\n",
              "              title=\"Convert this dataframe to an interactive table.\"\n",
              "              style=\"display:none;\">\n",
              "        \n",
              "  <svg xmlns=\"http://www.w3.org/2000/svg\" height=\"24px\"viewBox=\"0 0 24 24\"\n",
              "       width=\"24px\">\n",
              "    <path d=\"M0 0h24v24H0V0z\" fill=\"none\"/>\n",
              "    <path d=\"M18.56 5.44l.94 2.06.94-2.06 2.06-.94-2.06-.94-.94-2.06-.94 2.06-2.06.94zm-11 1L8.5 8.5l.94-2.06 2.06-.94-2.06-.94L8.5 2.5l-.94 2.06-2.06.94zm10 10l.94 2.06.94-2.06 2.06-.94-2.06-.94-.94-2.06-.94 2.06-2.06.94z\"/><path d=\"M17.41 7.96l-1.37-1.37c-.4-.4-.92-.59-1.43-.59-.52 0-1.04.2-1.43.59L10.3 9.45l-7.72 7.72c-.78.78-.78 2.05 0 2.83L4 21.41c.39.39.9.59 1.41.59.51 0 1.02-.2 1.41-.59l7.78-7.78 2.81-2.81c.8-.78.8-2.07 0-2.86zM5.41 20L4 18.59l7.72-7.72 1.47 1.35L5.41 20z\"/>\n",
              "  </svg>\n",
              "      </button>\n",
              "      \n",
              "  <style>\n",
              "    .colab-df-container {\n",
              "      display:flex;\n",
              "      flex-wrap:wrap;\n",
              "      gap: 12px;\n",
              "    }\n",
              "\n",
              "    .colab-df-convert {\n",
              "      background-color: #E8F0FE;\n",
              "      border: none;\n",
              "      border-radius: 50%;\n",
              "      cursor: pointer;\n",
              "      display: none;\n",
              "      fill: #1967D2;\n",
              "      height: 32px;\n",
              "      padding: 0 0 0 0;\n",
              "      width: 32px;\n",
              "    }\n",
              "\n",
              "    .colab-df-convert:hover {\n",
              "      background-color: #E2EBFA;\n",
              "      box-shadow: 0px 1px 2px rgba(60, 64, 67, 0.3), 0px 1px 3px 1px rgba(60, 64, 67, 0.15);\n",
              "      fill: #174EA6;\n",
              "    }\n",
              "\n",
              "    [theme=dark] .colab-df-convert {\n",
              "      background-color: #3B4455;\n",
              "      fill: #D2E3FC;\n",
              "    }\n",
              "\n",
              "    [theme=dark] .colab-df-convert:hover {\n",
              "      background-color: #434B5C;\n",
              "      box-shadow: 0px 1px 3px 1px rgba(0, 0, 0, 0.15);\n",
              "      filter: drop-shadow(0px 1px 2px rgba(0, 0, 0, 0.3));\n",
              "      fill: #FFFFFF;\n",
              "    }\n",
              "  </style>\n",
              "\n",
              "      <script>\n",
              "        const buttonEl =\n",
              "          document.querySelector('#df-e0f05b81-83de-4183-b463-d8f497f182ac button.colab-df-convert');\n",
              "        buttonEl.style.display =\n",
              "          google.colab.kernel.accessAllowed ? 'block' : 'none';\n",
              "\n",
              "        async function convertToInteractive(key) {\n",
              "          const element = document.querySelector('#df-e0f05b81-83de-4183-b463-d8f497f182ac');\n",
              "          const dataTable =\n",
              "            await google.colab.kernel.invokeFunction('convertToInteractive',\n",
              "                                                     [key], {});\n",
              "          if (!dataTable) return;\n",
              "\n",
              "          const docLinkHtml = 'Like what you see? Visit the ' +\n",
              "            '<a target=\"_blank\" href=https://colab.research.google.com/notebooks/data_table.ipynb>data table notebook</a>'\n",
              "            + ' to learn more about interactive tables.';\n",
              "          element.innerHTML = '';\n",
              "          dataTable['output_type'] = 'display_data';\n",
              "          await google.colab.output.renderOutput(dataTable, element);\n",
              "          const docLink = document.createElement('div');\n",
              "          docLink.innerHTML = docLinkHtml;\n",
              "          element.appendChild(docLink);\n",
              "        }\n",
              "      </script>\n",
              "    </div>\n",
              "  </div>\n",
              "  "
            ]
          },
          "metadata": {},
          "execution_count": 36
        }
      ]
    },
    {
      "cell_type": "code",
      "metadata": {
        "id": "fGGZo69kojLO"
      },
      "source": [
        "funnel['final_conversion%'] = (funnel['user_id'] / funnel['user_id'].max() * 100).round(2)\n",
        "funnel['next_step_conversion%'] = ((funnel['user_id'].pct_change()+1) * 100).round(2)"
      ],
      "execution_count": 37,
      "outputs": []
    },
    {
      "cell_type": "code",
      "metadata": {
        "id": "AA3ahjezojLO",
        "outputId": "bde9e4fc-ee7f-4e26-9ce7-03852ca2182c",
        "colab": {
          "base_uri": "https://localhost:8080/",
          "height": 206
        }
      },
      "source": [
        "funnel"
      ],
      "execution_count": 38,
      "outputs": [
        {
          "output_type": "execute_result",
          "data": {
            "text/plain": [
              "   index               event_name  user_id  final_conversion%  \\\n",
              "0      4               FirstStage     7534             100.00   \n",
              "1      0         MainScreenAppear     7419              98.47   \n",
              "2      1       OffersScreenAppear     4593              60.96   \n",
              "3      2         CartScreenAppear     3734              49.56   \n",
              "4      3  PaymentScreenSuccessful     3539              46.97   \n",
              "\n",
              "   next_step_conversion%  \n",
              "0                    NaN  \n",
              "1                  98.47  \n",
              "2                  61.91  \n",
              "3                  81.30  \n",
              "4                  94.78  "
            ],
            "text/html": [
              "\n",
              "  <div id=\"df-3cb60943-cb7b-4469-ba45-2329c1e289ec\">\n",
              "    <div class=\"colab-df-container\">\n",
              "      <div>\n",
              "<style scoped>\n",
              "    .dataframe tbody tr th:only-of-type {\n",
              "        vertical-align: middle;\n",
              "    }\n",
              "\n",
              "    .dataframe tbody tr th {\n",
              "        vertical-align: top;\n",
              "    }\n",
              "\n",
              "    .dataframe thead th {\n",
              "        text-align: right;\n",
              "    }\n",
              "</style>\n",
              "<table border=\"1\" class=\"dataframe\">\n",
              "  <thead>\n",
              "    <tr style=\"text-align: right;\">\n",
              "      <th></th>\n",
              "      <th>index</th>\n",
              "      <th>event_name</th>\n",
              "      <th>user_id</th>\n",
              "      <th>final_conversion%</th>\n",
              "      <th>next_step_conversion%</th>\n",
              "    </tr>\n",
              "  </thead>\n",
              "  <tbody>\n",
              "    <tr>\n",
              "      <th>0</th>\n",
              "      <td>4</td>\n",
              "      <td>FirstStage</td>\n",
              "      <td>7534</td>\n",
              "      <td>100.00</td>\n",
              "      <td>NaN</td>\n",
              "    </tr>\n",
              "    <tr>\n",
              "      <th>1</th>\n",
              "      <td>0</td>\n",
              "      <td>MainScreenAppear</td>\n",
              "      <td>7419</td>\n",
              "      <td>98.47</td>\n",
              "      <td>98.47</td>\n",
              "    </tr>\n",
              "    <tr>\n",
              "      <th>2</th>\n",
              "      <td>1</td>\n",
              "      <td>OffersScreenAppear</td>\n",
              "      <td>4593</td>\n",
              "      <td>60.96</td>\n",
              "      <td>61.91</td>\n",
              "    </tr>\n",
              "    <tr>\n",
              "      <th>3</th>\n",
              "      <td>2</td>\n",
              "      <td>CartScreenAppear</td>\n",
              "      <td>3734</td>\n",
              "      <td>49.56</td>\n",
              "      <td>81.30</td>\n",
              "    </tr>\n",
              "    <tr>\n",
              "      <th>4</th>\n",
              "      <td>3</td>\n",
              "      <td>PaymentScreenSuccessful</td>\n",
              "      <td>3539</td>\n",
              "      <td>46.97</td>\n",
              "      <td>94.78</td>\n",
              "    </tr>\n",
              "  </tbody>\n",
              "</table>\n",
              "</div>\n",
              "      <button class=\"colab-df-convert\" onclick=\"convertToInteractive('df-3cb60943-cb7b-4469-ba45-2329c1e289ec')\"\n",
              "              title=\"Convert this dataframe to an interactive table.\"\n",
              "              style=\"display:none;\">\n",
              "        \n",
              "  <svg xmlns=\"http://www.w3.org/2000/svg\" height=\"24px\"viewBox=\"0 0 24 24\"\n",
              "       width=\"24px\">\n",
              "    <path d=\"M0 0h24v24H0V0z\" fill=\"none\"/>\n",
              "    <path d=\"M18.56 5.44l.94 2.06.94-2.06 2.06-.94-2.06-.94-.94-2.06-.94 2.06-2.06.94zm-11 1L8.5 8.5l.94-2.06 2.06-.94-2.06-.94L8.5 2.5l-.94 2.06-2.06.94zm10 10l.94 2.06.94-2.06 2.06-.94-2.06-.94-.94-2.06-.94 2.06-2.06.94z\"/><path d=\"M17.41 7.96l-1.37-1.37c-.4-.4-.92-.59-1.43-.59-.52 0-1.04.2-1.43.59L10.3 9.45l-7.72 7.72c-.78.78-.78 2.05 0 2.83L4 21.41c.39.39.9.59 1.41.59.51 0 1.02-.2 1.41-.59l7.78-7.78 2.81-2.81c.8-.78.8-2.07 0-2.86zM5.41 20L4 18.59l7.72-7.72 1.47 1.35L5.41 20z\"/>\n",
              "  </svg>\n",
              "      </button>\n",
              "      \n",
              "  <style>\n",
              "    .colab-df-container {\n",
              "      display:flex;\n",
              "      flex-wrap:wrap;\n",
              "      gap: 12px;\n",
              "    }\n",
              "\n",
              "    .colab-df-convert {\n",
              "      background-color: #E8F0FE;\n",
              "      border: none;\n",
              "      border-radius: 50%;\n",
              "      cursor: pointer;\n",
              "      display: none;\n",
              "      fill: #1967D2;\n",
              "      height: 32px;\n",
              "      padding: 0 0 0 0;\n",
              "      width: 32px;\n",
              "    }\n",
              "\n",
              "    .colab-df-convert:hover {\n",
              "      background-color: #E2EBFA;\n",
              "      box-shadow: 0px 1px 2px rgba(60, 64, 67, 0.3), 0px 1px 3px 1px rgba(60, 64, 67, 0.15);\n",
              "      fill: #174EA6;\n",
              "    }\n",
              "\n",
              "    [theme=dark] .colab-df-convert {\n",
              "      background-color: #3B4455;\n",
              "      fill: #D2E3FC;\n",
              "    }\n",
              "\n",
              "    [theme=dark] .colab-df-convert:hover {\n",
              "      background-color: #434B5C;\n",
              "      box-shadow: 0px 1px 3px 1px rgba(0, 0, 0, 0.15);\n",
              "      filter: drop-shadow(0px 1px 2px rgba(0, 0, 0, 0.3));\n",
              "      fill: #FFFFFF;\n",
              "    }\n",
              "  </style>\n",
              "\n",
              "      <script>\n",
              "        const buttonEl =\n",
              "          document.querySelector('#df-3cb60943-cb7b-4469-ba45-2329c1e289ec button.colab-df-convert');\n",
              "        buttonEl.style.display =\n",
              "          google.colab.kernel.accessAllowed ? 'block' : 'none';\n",
              "\n",
              "        async function convertToInteractive(key) {\n",
              "          const element = document.querySelector('#df-3cb60943-cb7b-4469-ba45-2329c1e289ec');\n",
              "          const dataTable =\n",
              "            await google.colab.kernel.invokeFunction('convertToInteractive',\n",
              "                                                     [key], {});\n",
              "          if (!dataTable) return;\n",
              "\n",
              "          const docLinkHtml = 'Like what you see? Visit the ' +\n",
              "            '<a target=\"_blank\" href=https://colab.research.google.com/notebooks/data_table.ipynb>data table notebook</a>'\n",
              "            + ' to learn more about interactive tables.';\n",
              "          element.innerHTML = '';\n",
              "          dataTable['output_type'] = 'display_data';\n",
              "          await google.colab.output.renderOutput(dataTable, element);\n",
              "          const docLink = document.createElement('div');\n",
              "          docLink.innerHTML = docLinkHtml;\n",
              "          element.appendChild(docLink);\n",
              "        }\n",
              "      </script>\n",
              "    </div>\n",
              "  </div>\n",
              "  "
            ]
          },
          "metadata": {},
          "execution_count": 38
        }
      ]
    },
    {
      "cell_type": "markdown",
      "metadata": {
        "id": "LQsoyCEVojLP"
      },
      "source": [
        "Let's draw a graph"
      ]
    },
    {
      "cell_type": "code",
      "metadata": {
        "id": "XNPSLlMCojLP",
        "outputId": "0486e38c-c63a-433b-f819-0a2c047f3b3b",
        "colab": {
          "base_uri": "https://localhost:8080/",
          "height": 542
        }
      },
      "source": [
        "fig = go.Figure(go.Funnel(\n",
        "    y = funnel['event_name'],\n",
        "    x = funnel['user_id']))\n",
        "\n",
        "fig.update_layout(\n",
        "    title={\n",
        "        'text': \"Online food store funnel\",\n",
        "        'y':0.9,\n",
        "        'x':0.5})\n",
        "\n",
        "fig.show()"
      ],
      "execution_count": 39,
      "outputs": [
        {
          "output_type": "display_data",
          "data": {
            "text/html": [
              "<html>\n",
              "<head><meta charset=\"utf-8\" /></head>\n",
              "<body>\n",
              "    <div>            <script src=\"https://cdnjs.cloudflare.com/ajax/libs/mathjax/2.7.5/MathJax.js?config=TeX-AMS-MML_SVG\"></script><script type=\"text/javascript\">if (window.MathJax) {MathJax.Hub.Config({SVG: {font: \"STIX-Web\"}});}</script>                <script type=\"text/javascript\">window.PlotlyConfig = {MathJaxConfig: 'local'};</script>\n",
              "        <script src=\"https://cdn.plot.ly/plotly-2.8.3.min.js\"></script>                <div id=\"f05bfebe-d2bc-4c89-8257-e55802d9bae0\" class=\"plotly-graph-div\" style=\"height:525px; width:100%;\"></div>            <script type=\"text/javascript\">                                    window.PLOTLYENV=window.PLOTLYENV || {};                                    if (document.getElementById(\"f05bfebe-d2bc-4c89-8257-e55802d9bae0\")) {                    Plotly.newPlot(                        \"f05bfebe-d2bc-4c89-8257-e55802d9bae0\",                        [{\"x\":[7534,7419,4593,3734,3539],\"y\":[\"FirstStage\",\"MainScreenAppear\",\"OffersScreenAppear\",\"CartScreenAppear\",\"PaymentScreenSuccessful\"],\"type\":\"funnel\"}],                        {\"template\":{\"data\":{\"bar\":[{\"error_x\":{\"color\":\"#2a3f5f\"},\"error_y\":{\"color\":\"#2a3f5f\"},\"marker\":{\"line\":{\"color\":\"#E5ECF6\",\"width\":0.5},\"pattern\":{\"fillmode\":\"overlay\",\"size\":10,\"solidity\":0.2}},\"type\":\"bar\"}],\"barpolar\":[{\"marker\":{\"line\":{\"color\":\"#E5ECF6\",\"width\":0.5},\"pattern\":{\"fillmode\":\"overlay\",\"size\":10,\"solidity\":0.2}},\"type\":\"barpolar\"}],\"carpet\":[{\"aaxis\":{\"endlinecolor\":\"#2a3f5f\",\"gridcolor\":\"white\",\"linecolor\":\"white\",\"minorgridcolor\":\"white\",\"startlinecolor\":\"#2a3f5f\"},\"baxis\":{\"endlinecolor\":\"#2a3f5f\",\"gridcolor\":\"white\",\"linecolor\":\"white\",\"minorgridcolor\":\"white\",\"startlinecolor\":\"#2a3f5f\"},\"type\":\"carpet\"}],\"choropleth\":[{\"colorbar\":{\"outlinewidth\":0,\"ticks\":\"\"},\"type\":\"choropleth\"}],\"contour\":[{\"colorbar\":{\"outlinewidth\":0,\"ticks\":\"\"},\"colorscale\":[[0.0,\"#0d0887\"],[0.1111111111111111,\"#46039f\"],[0.2222222222222222,\"#7201a8\"],[0.3333333333333333,\"#9c179e\"],[0.4444444444444444,\"#bd3786\"],[0.5555555555555556,\"#d8576b\"],[0.6666666666666666,\"#ed7953\"],[0.7777777777777778,\"#fb9f3a\"],[0.8888888888888888,\"#fdca26\"],[1.0,\"#f0f921\"]],\"type\":\"contour\"}],\"contourcarpet\":[{\"colorbar\":{\"outlinewidth\":0,\"ticks\":\"\"},\"type\":\"contourcarpet\"}],\"heatmap\":[{\"colorbar\":{\"outlinewidth\":0,\"ticks\":\"\"},\"colorscale\":[[0.0,\"#0d0887\"],[0.1111111111111111,\"#46039f\"],[0.2222222222222222,\"#7201a8\"],[0.3333333333333333,\"#9c179e\"],[0.4444444444444444,\"#bd3786\"],[0.5555555555555556,\"#d8576b\"],[0.6666666666666666,\"#ed7953\"],[0.7777777777777778,\"#fb9f3a\"],[0.8888888888888888,\"#fdca26\"],[1.0,\"#f0f921\"]],\"type\":\"heatmap\"}],\"heatmapgl\":[{\"colorbar\":{\"outlinewidth\":0,\"ticks\":\"\"},\"colorscale\":[[0.0,\"#0d0887\"],[0.1111111111111111,\"#46039f\"],[0.2222222222222222,\"#7201a8\"],[0.3333333333333333,\"#9c179e\"],[0.4444444444444444,\"#bd3786\"],[0.5555555555555556,\"#d8576b\"],[0.6666666666666666,\"#ed7953\"],[0.7777777777777778,\"#fb9f3a\"],[0.8888888888888888,\"#fdca26\"],[1.0,\"#f0f921\"]],\"type\":\"heatmapgl\"}],\"histogram\":[{\"marker\":{\"pattern\":{\"fillmode\":\"overlay\",\"size\":10,\"solidity\":0.2}},\"type\":\"histogram\"}],\"histogram2d\":[{\"colorbar\":{\"outlinewidth\":0,\"ticks\":\"\"},\"colorscale\":[[0.0,\"#0d0887\"],[0.1111111111111111,\"#46039f\"],[0.2222222222222222,\"#7201a8\"],[0.3333333333333333,\"#9c179e\"],[0.4444444444444444,\"#bd3786\"],[0.5555555555555556,\"#d8576b\"],[0.6666666666666666,\"#ed7953\"],[0.7777777777777778,\"#fb9f3a\"],[0.8888888888888888,\"#fdca26\"],[1.0,\"#f0f921\"]],\"type\":\"histogram2d\"}],\"histogram2dcontour\":[{\"colorbar\":{\"outlinewidth\":0,\"ticks\":\"\"},\"colorscale\":[[0.0,\"#0d0887\"],[0.1111111111111111,\"#46039f\"],[0.2222222222222222,\"#7201a8\"],[0.3333333333333333,\"#9c179e\"],[0.4444444444444444,\"#bd3786\"],[0.5555555555555556,\"#d8576b\"],[0.6666666666666666,\"#ed7953\"],[0.7777777777777778,\"#fb9f3a\"],[0.8888888888888888,\"#fdca26\"],[1.0,\"#f0f921\"]],\"type\":\"histogram2dcontour\"}],\"mesh3d\":[{\"colorbar\":{\"outlinewidth\":0,\"ticks\":\"\"},\"type\":\"mesh3d\"}],\"parcoords\":[{\"line\":{\"colorbar\":{\"outlinewidth\":0,\"ticks\":\"\"}},\"type\":\"parcoords\"}],\"pie\":[{\"automargin\":true,\"type\":\"pie\"}],\"scatter\":[{\"marker\":{\"colorbar\":{\"outlinewidth\":0,\"ticks\":\"\"}},\"type\":\"scatter\"}],\"scatter3d\":[{\"line\":{\"colorbar\":{\"outlinewidth\":0,\"ticks\":\"\"}},\"marker\":{\"colorbar\":{\"outlinewidth\":0,\"ticks\":\"\"}},\"type\":\"scatter3d\"}],\"scattercarpet\":[{\"marker\":{\"colorbar\":{\"outlinewidth\":0,\"ticks\":\"\"}},\"type\":\"scattercarpet\"}],\"scattergeo\":[{\"marker\":{\"colorbar\":{\"outlinewidth\":0,\"ticks\":\"\"}},\"type\":\"scattergeo\"}],\"scattergl\":[{\"marker\":{\"colorbar\":{\"outlinewidth\":0,\"ticks\":\"\"}},\"type\":\"scattergl\"}],\"scattermapbox\":[{\"marker\":{\"colorbar\":{\"outlinewidth\":0,\"ticks\":\"\"}},\"type\":\"scattermapbox\"}],\"scatterpolar\":[{\"marker\":{\"colorbar\":{\"outlinewidth\":0,\"ticks\":\"\"}},\"type\":\"scatterpolar\"}],\"scatterpolargl\":[{\"marker\":{\"colorbar\":{\"outlinewidth\":0,\"ticks\":\"\"}},\"type\":\"scatterpolargl\"}],\"scatterternary\":[{\"marker\":{\"colorbar\":{\"outlinewidth\":0,\"ticks\":\"\"}},\"type\":\"scatterternary\"}],\"surface\":[{\"colorbar\":{\"outlinewidth\":0,\"ticks\":\"\"},\"colorscale\":[[0.0,\"#0d0887\"],[0.1111111111111111,\"#46039f\"],[0.2222222222222222,\"#7201a8\"],[0.3333333333333333,\"#9c179e\"],[0.4444444444444444,\"#bd3786\"],[0.5555555555555556,\"#d8576b\"],[0.6666666666666666,\"#ed7953\"],[0.7777777777777778,\"#fb9f3a\"],[0.8888888888888888,\"#fdca26\"],[1.0,\"#f0f921\"]],\"type\":\"surface\"}],\"table\":[{\"cells\":{\"fill\":{\"color\":\"#EBF0F8\"},\"line\":{\"color\":\"white\"}},\"header\":{\"fill\":{\"color\":\"#C8D4E3\"},\"line\":{\"color\":\"white\"}},\"type\":\"table\"}]},\"layout\":{\"annotationdefaults\":{\"arrowcolor\":\"#2a3f5f\",\"arrowhead\":0,\"arrowwidth\":1},\"autotypenumbers\":\"strict\",\"coloraxis\":{\"colorbar\":{\"outlinewidth\":0,\"ticks\":\"\"}},\"colorscale\":{\"diverging\":[[0,\"#8e0152\"],[0.1,\"#c51b7d\"],[0.2,\"#de77ae\"],[0.3,\"#f1b6da\"],[0.4,\"#fde0ef\"],[0.5,\"#f7f7f7\"],[0.6,\"#e6f5d0\"],[0.7,\"#b8e186\"],[0.8,\"#7fbc41\"],[0.9,\"#4d9221\"],[1,\"#276419\"]],\"sequential\":[[0.0,\"#0d0887\"],[0.1111111111111111,\"#46039f\"],[0.2222222222222222,\"#7201a8\"],[0.3333333333333333,\"#9c179e\"],[0.4444444444444444,\"#bd3786\"],[0.5555555555555556,\"#d8576b\"],[0.6666666666666666,\"#ed7953\"],[0.7777777777777778,\"#fb9f3a\"],[0.8888888888888888,\"#fdca26\"],[1.0,\"#f0f921\"]],\"sequentialminus\":[[0.0,\"#0d0887\"],[0.1111111111111111,\"#46039f\"],[0.2222222222222222,\"#7201a8\"],[0.3333333333333333,\"#9c179e\"],[0.4444444444444444,\"#bd3786\"],[0.5555555555555556,\"#d8576b\"],[0.6666666666666666,\"#ed7953\"],[0.7777777777777778,\"#fb9f3a\"],[0.8888888888888888,\"#fdca26\"],[1.0,\"#f0f921\"]]},\"colorway\":[\"#636efa\",\"#EF553B\",\"#00cc96\",\"#ab63fa\",\"#FFA15A\",\"#19d3f3\",\"#FF6692\",\"#B6E880\",\"#FF97FF\",\"#FECB52\"],\"font\":{\"color\":\"#2a3f5f\"},\"geo\":{\"bgcolor\":\"white\",\"lakecolor\":\"white\",\"landcolor\":\"#E5ECF6\",\"showlakes\":true,\"showland\":true,\"subunitcolor\":\"white\"},\"hoverlabel\":{\"align\":\"left\"},\"hovermode\":\"closest\",\"mapbox\":{\"style\":\"light\"},\"paper_bgcolor\":\"white\",\"plot_bgcolor\":\"#E5ECF6\",\"polar\":{\"angularaxis\":{\"gridcolor\":\"white\",\"linecolor\":\"white\",\"ticks\":\"\"},\"bgcolor\":\"#E5ECF6\",\"radialaxis\":{\"gridcolor\":\"white\",\"linecolor\":\"white\",\"ticks\":\"\"}},\"scene\":{\"xaxis\":{\"backgroundcolor\":\"#E5ECF6\",\"gridcolor\":\"white\",\"gridwidth\":2,\"linecolor\":\"white\",\"showbackground\":true,\"ticks\":\"\",\"zerolinecolor\":\"white\"},\"yaxis\":{\"backgroundcolor\":\"#E5ECF6\",\"gridcolor\":\"white\",\"gridwidth\":2,\"linecolor\":\"white\",\"showbackground\":true,\"ticks\":\"\",\"zerolinecolor\":\"white\"},\"zaxis\":{\"backgroundcolor\":\"#E5ECF6\",\"gridcolor\":\"white\",\"gridwidth\":2,\"linecolor\":\"white\",\"showbackground\":true,\"ticks\":\"\",\"zerolinecolor\":\"white\"}},\"shapedefaults\":{\"line\":{\"color\":\"#2a3f5f\"}},\"ternary\":{\"aaxis\":{\"gridcolor\":\"white\",\"linecolor\":\"white\",\"ticks\":\"\"},\"baxis\":{\"gridcolor\":\"white\",\"linecolor\":\"white\",\"ticks\":\"\"},\"bgcolor\":\"#E5ECF6\",\"caxis\":{\"gridcolor\":\"white\",\"linecolor\":\"white\",\"ticks\":\"\"}},\"title\":{\"x\":0.05},\"xaxis\":{\"automargin\":true,\"gridcolor\":\"white\",\"linecolor\":\"white\",\"ticks\":\"\",\"title\":{\"standoff\":15},\"zerolinecolor\":\"white\",\"zerolinewidth\":2},\"yaxis\":{\"automargin\":true,\"gridcolor\":\"white\",\"linecolor\":\"white\",\"ticks\":\"\",\"title\":{\"standoff\":15},\"zerolinecolor\":\"white\",\"zerolinewidth\":2}}},\"title\":{\"text\":\"Online food store funnel\",\"y\":0.9,\"x\":0.5}},                        {\"responsive\": true}                    ).then(function(){\n",
              "                            \n",
              "var gd = document.getElementById('f05bfebe-d2bc-4c89-8257-e55802d9bae0');\n",
              "var x = new MutationObserver(function (mutations, observer) {{\n",
              "        var display = window.getComputedStyle(gd).display;\n",
              "        if (!display || display === 'none') {{\n",
              "            console.log([gd, 'removed!']);\n",
              "            Plotly.purge(gd);\n",
              "            observer.disconnect();\n",
              "        }}\n",
              "}});\n",
              "\n",
              "// Listen for the removal of the full notebook cells\n",
              "var notebookContainer = gd.closest('#notebook-container');\n",
              "if (notebookContainer) {{\n",
              "    x.observe(notebookContainer, {childList: true});\n",
              "}}\n",
              "\n",
              "// Listen for the clearing of the current output cell\n",
              "var outputEl = gd.closest('.output');\n",
              "if (outputEl) {{\n",
              "    x.observe(outputEl, {childList: true});\n",
              "}}\n",
              "\n",
              "                        })                };                            </script>        </div>\n",
              "</body>\n",
              "</html>"
            ]
          },
          "metadata": {}
        }
      ]
    },
    {
      "cell_type": "markdown",
      "metadata": {
        "id": "Qe2xcmBLojLU"
      },
      "source": [
        "<b>Results:</b> According to the funnel: 98.5% of users see the Main screen. 61.9% of them go to the Offer screen - this is 61% of all users. Next, Cart screen is seen by 81.3% of users who have seen Offer screen - this is 49.6% of all users. Successful payment are made by 94.8% of the number of users who visited Cart screen - this is 47% of the total number of users.\n",
        "\n",
        "Most of the users were lost on the transition between the Main screen and the Offer screen.\n",
        "The proportion of users successfully completes the payment: 46.97%."
      ]
    },
    {
      "cell_type": "markdown",
      "metadata": {
        "id": "efVT9KWqojLW"
      },
      "source": [
        "### Stage 5. Examining the results of the experiment"
      ]
    },
    {
      "cell_type": "markdown",
      "metadata": {
        "id": "pxatF7tYojLW"
      },
      "source": [
        "#### Checking users in each group"
      ]
    },
    {
      "cell_type": "code",
      "metadata": {
        "id": "3BUai4qQojLW",
        "outputId": "a1913e0e-baec-4648-e03e-33710ab30124",
        "colab": {
          "base_uri": "https://localhost:8080/",
          "height": 143
        }
      },
      "source": [
        "users = df_fixed.groupby('exp_id')['user_id'].nunique().reset_index()\n",
        "users"
      ],
      "execution_count": 40,
      "outputs": [
        {
          "output_type": "execute_result",
          "data": {
            "text/plain": [
              "   exp_id  user_id\n",
              "0     246     2484\n",
              "1     247     2513\n",
              "2     248     2537"
            ],
            "text/html": [
              "\n",
              "  <div id=\"df-ba3b455e-f98d-4f08-80ef-e26c03e3ead5\">\n",
              "    <div class=\"colab-df-container\">\n",
              "      <div>\n",
              "<style scoped>\n",
              "    .dataframe tbody tr th:only-of-type {\n",
              "        vertical-align: middle;\n",
              "    }\n",
              "\n",
              "    .dataframe tbody tr th {\n",
              "        vertical-align: top;\n",
              "    }\n",
              "\n",
              "    .dataframe thead th {\n",
              "        text-align: right;\n",
              "    }\n",
              "</style>\n",
              "<table border=\"1\" class=\"dataframe\">\n",
              "  <thead>\n",
              "    <tr style=\"text-align: right;\">\n",
              "      <th></th>\n",
              "      <th>exp_id</th>\n",
              "      <th>user_id</th>\n",
              "    </tr>\n",
              "  </thead>\n",
              "  <tbody>\n",
              "    <tr>\n",
              "      <th>0</th>\n",
              "      <td>246</td>\n",
              "      <td>2484</td>\n",
              "    </tr>\n",
              "    <tr>\n",
              "      <th>1</th>\n",
              "      <td>247</td>\n",
              "      <td>2513</td>\n",
              "    </tr>\n",
              "    <tr>\n",
              "      <th>2</th>\n",
              "      <td>248</td>\n",
              "      <td>2537</td>\n",
              "    </tr>\n",
              "  </tbody>\n",
              "</table>\n",
              "</div>\n",
              "      <button class=\"colab-df-convert\" onclick=\"convertToInteractive('df-ba3b455e-f98d-4f08-80ef-e26c03e3ead5')\"\n",
              "              title=\"Convert this dataframe to an interactive table.\"\n",
              "              style=\"display:none;\">\n",
              "        \n",
              "  <svg xmlns=\"http://www.w3.org/2000/svg\" height=\"24px\"viewBox=\"0 0 24 24\"\n",
              "       width=\"24px\">\n",
              "    <path d=\"M0 0h24v24H0V0z\" fill=\"none\"/>\n",
              "    <path d=\"M18.56 5.44l.94 2.06.94-2.06 2.06-.94-2.06-.94-.94-2.06-.94 2.06-2.06.94zm-11 1L8.5 8.5l.94-2.06 2.06-.94-2.06-.94L8.5 2.5l-.94 2.06-2.06.94zm10 10l.94 2.06.94-2.06 2.06-.94-2.06-.94-.94-2.06-.94 2.06-2.06.94z\"/><path d=\"M17.41 7.96l-1.37-1.37c-.4-.4-.92-.59-1.43-.59-.52 0-1.04.2-1.43.59L10.3 9.45l-7.72 7.72c-.78.78-.78 2.05 0 2.83L4 21.41c.39.39.9.59 1.41.59.51 0 1.02-.2 1.41-.59l7.78-7.78 2.81-2.81c.8-.78.8-2.07 0-2.86zM5.41 20L4 18.59l7.72-7.72 1.47 1.35L5.41 20z\"/>\n",
              "  </svg>\n",
              "      </button>\n",
              "      \n",
              "  <style>\n",
              "    .colab-df-container {\n",
              "      display:flex;\n",
              "      flex-wrap:wrap;\n",
              "      gap: 12px;\n",
              "    }\n",
              "\n",
              "    .colab-df-convert {\n",
              "      background-color: #E8F0FE;\n",
              "      border: none;\n",
              "      border-radius: 50%;\n",
              "      cursor: pointer;\n",
              "      display: none;\n",
              "      fill: #1967D2;\n",
              "      height: 32px;\n",
              "      padding: 0 0 0 0;\n",
              "      width: 32px;\n",
              "    }\n",
              "\n",
              "    .colab-df-convert:hover {\n",
              "      background-color: #E2EBFA;\n",
              "      box-shadow: 0px 1px 2px rgba(60, 64, 67, 0.3), 0px 1px 3px 1px rgba(60, 64, 67, 0.15);\n",
              "      fill: #174EA6;\n",
              "    }\n",
              "\n",
              "    [theme=dark] .colab-df-convert {\n",
              "      background-color: #3B4455;\n",
              "      fill: #D2E3FC;\n",
              "    }\n",
              "\n",
              "    [theme=dark] .colab-df-convert:hover {\n",
              "      background-color: #434B5C;\n",
              "      box-shadow: 0px 1px 3px 1px rgba(0, 0, 0, 0.15);\n",
              "      filter: drop-shadow(0px 1px 2px rgba(0, 0, 0, 0.3));\n",
              "      fill: #FFFFFF;\n",
              "    }\n",
              "  </style>\n",
              "\n",
              "      <script>\n",
              "        const buttonEl =\n",
              "          document.querySelector('#df-ba3b455e-f98d-4f08-80ef-e26c03e3ead5 button.colab-df-convert');\n",
              "        buttonEl.style.display =\n",
              "          google.colab.kernel.accessAllowed ? 'block' : 'none';\n",
              "\n",
              "        async function convertToInteractive(key) {\n",
              "          const element = document.querySelector('#df-ba3b455e-f98d-4f08-80ef-e26c03e3ead5');\n",
              "          const dataTable =\n",
              "            await google.colab.kernel.invokeFunction('convertToInteractive',\n",
              "                                                     [key], {});\n",
              "          if (!dataTable) return;\n",
              "\n",
              "          const docLinkHtml = 'Like what you see? Visit the ' +\n",
              "            '<a target=\"_blank\" href=https://colab.research.google.com/notebooks/data_table.ipynb>data table notebook</a>'\n",
              "            + ' to learn more about interactive tables.';\n",
              "          element.innerHTML = '';\n",
              "          dataTable['output_type'] = 'display_data';\n",
              "          await google.colab.output.renderOutput(dataTable, element);\n",
              "          const docLink = document.createElement('div');\n",
              "          docLink.innerHTML = docLinkHtml;\n",
              "          element.appendChild(docLink);\n",
              "        }\n",
              "      </script>\n",
              "    </div>\n",
              "  </div>\n",
              "  "
            ]
          },
          "metadata": {},
          "execution_count": 40
        }
      ]
    },
    {
      "cell_type": "markdown",
      "metadata": {
        "id": "NH3yo7iJojLX"
      },
      "source": [
        "In the experimental group, we have 2537 users, in the two control groups a little less."
      ]
    },
    {
      "cell_type": "markdown",
      "metadata": {
        "id": "sOOgUKyQojLX"
      },
      "source": [
        "#### A/A test"
      ]
    },
    {
      "cell_type": "markdown",
      "metadata": {
        "id": "Ql7muy_-ojLX"
      },
      "source": [
        "Let's create a pivot table with the number of users for each event in each group"
      ]
    },
    {
      "cell_type": "code",
      "metadata": {
        "id": "3kAZLDgKojLX",
        "outputId": "36c52073-7227-4a95-822d-d9065aa97500",
        "colab": {
          "base_uri": "https://localhost:8080/",
          "height": 425
        }
      },
      "source": [
        "ab_test_table = df_fixed[df_fixed['event_name'].isin(target_events)].groupby(['event_name','exp_id'])['user_id'].nunique().reset_index()\n",
        "ab_test_table"
      ],
      "execution_count": 41,
      "outputs": [
        {
          "output_type": "execute_result",
          "data": {
            "text/plain": [
              "                 event_name  exp_id  user_id\n",
              "0          CartScreenAppear     246     1266\n",
              "1          CartScreenAppear     247     1238\n",
              "2          CartScreenAppear     248     1230\n",
              "3          MainScreenAppear     246     2450\n",
              "4          MainScreenAppear     247     2476\n",
              "5          MainScreenAppear     248     2493\n",
              "6        OffersScreenAppear     246     1542\n",
              "7        OffersScreenAppear     247     1520\n",
              "8        OffersScreenAppear     248     1531\n",
              "9   PaymentScreenSuccessful     246     1200\n",
              "10  PaymentScreenSuccessful     247     1158\n",
              "11  PaymentScreenSuccessful     248     1181"
            ],
            "text/html": [
              "\n",
              "  <div id=\"df-fd927cbd-3363-4cfe-bb9d-a145b87cba86\">\n",
              "    <div class=\"colab-df-container\">\n",
              "      <div>\n",
              "<style scoped>\n",
              "    .dataframe tbody tr th:only-of-type {\n",
              "        vertical-align: middle;\n",
              "    }\n",
              "\n",
              "    .dataframe tbody tr th {\n",
              "        vertical-align: top;\n",
              "    }\n",
              "\n",
              "    .dataframe thead th {\n",
              "        text-align: right;\n",
              "    }\n",
              "</style>\n",
              "<table border=\"1\" class=\"dataframe\">\n",
              "  <thead>\n",
              "    <tr style=\"text-align: right;\">\n",
              "      <th></th>\n",
              "      <th>event_name</th>\n",
              "      <th>exp_id</th>\n",
              "      <th>user_id</th>\n",
              "    </tr>\n",
              "  </thead>\n",
              "  <tbody>\n",
              "    <tr>\n",
              "      <th>0</th>\n",
              "      <td>CartScreenAppear</td>\n",
              "      <td>246</td>\n",
              "      <td>1266</td>\n",
              "    </tr>\n",
              "    <tr>\n",
              "      <th>1</th>\n",
              "      <td>CartScreenAppear</td>\n",
              "      <td>247</td>\n",
              "      <td>1238</td>\n",
              "    </tr>\n",
              "    <tr>\n",
              "      <th>2</th>\n",
              "      <td>CartScreenAppear</td>\n",
              "      <td>248</td>\n",
              "      <td>1230</td>\n",
              "    </tr>\n",
              "    <tr>\n",
              "      <th>3</th>\n",
              "      <td>MainScreenAppear</td>\n",
              "      <td>246</td>\n",
              "      <td>2450</td>\n",
              "    </tr>\n",
              "    <tr>\n",
              "      <th>4</th>\n",
              "      <td>MainScreenAppear</td>\n",
              "      <td>247</td>\n",
              "      <td>2476</td>\n",
              "    </tr>\n",
              "    <tr>\n",
              "      <th>5</th>\n",
              "      <td>MainScreenAppear</td>\n",
              "      <td>248</td>\n",
              "      <td>2493</td>\n",
              "    </tr>\n",
              "    <tr>\n",
              "      <th>6</th>\n",
              "      <td>OffersScreenAppear</td>\n",
              "      <td>246</td>\n",
              "      <td>1542</td>\n",
              "    </tr>\n",
              "    <tr>\n",
              "      <th>7</th>\n",
              "      <td>OffersScreenAppear</td>\n",
              "      <td>247</td>\n",
              "      <td>1520</td>\n",
              "    </tr>\n",
              "    <tr>\n",
              "      <th>8</th>\n",
              "      <td>OffersScreenAppear</td>\n",
              "      <td>248</td>\n",
              "      <td>1531</td>\n",
              "    </tr>\n",
              "    <tr>\n",
              "      <th>9</th>\n",
              "      <td>PaymentScreenSuccessful</td>\n",
              "      <td>246</td>\n",
              "      <td>1200</td>\n",
              "    </tr>\n",
              "    <tr>\n",
              "      <th>10</th>\n",
              "      <td>PaymentScreenSuccessful</td>\n",
              "      <td>247</td>\n",
              "      <td>1158</td>\n",
              "    </tr>\n",
              "    <tr>\n",
              "      <th>11</th>\n",
              "      <td>PaymentScreenSuccessful</td>\n",
              "      <td>248</td>\n",
              "      <td>1181</td>\n",
              "    </tr>\n",
              "  </tbody>\n",
              "</table>\n",
              "</div>\n",
              "      <button class=\"colab-df-convert\" onclick=\"convertToInteractive('df-fd927cbd-3363-4cfe-bb9d-a145b87cba86')\"\n",
              "              title=\"Convert this dataframe to an interactive table.\"\n",
              "              style=\"display:none;\">\n",
              "        \n",
              "  <svg xmlns=\"http://www.w3.org/2000/svg\" height=\"24px\"viewBox=\"0 0 24 24\"\n",
              "       width=\"24px\">\n",
              "    <path d=\"M0 0h24v24H0V0z\" fill=\"none\"/>\n",
              "    <path d=\"M18.56 5.44l.94 2.06.94-2.06 2.06-.94-2.06-.94-.94-2.06-.94 2.06-2.06.94zm-11 1L8.5 8.5l.94-2.06 2.06-.94-2.06-.94L8.5 2.5l-.94 2.06-2.06.94zm10 10l.94 2.06.94-2.06 2.06-.94-2.06-.94-.94-2.06-.94 2.06-2.06.94z\"/><path d=\"M17.41 7.96l-1.37-1.37c-.4-.4-.92-.59-1.43-.59-.52 0-1.04.2-1.43.59L10.3 9.45l-7.72 7.72c-.78.78-.78 2.05 0 2.83L4 21.41c.39.39.9.59 1.41.59.51 0 1.02-.2 1.41-.59l7.78-7.78 2.81-2.81c.8-.78.8-2.07 0-2.86zM5.41 20L4 18.59l7.72-7.72 1.47 1.35L5.41 20z\"/>\n",
              "  </svg>\n",
              "      </button>\n",
              "      \n",
              "  <style>\n",
              "    .colab-df-container {\n",
              "      display:flex;\n",
              "      flex-wrap:wrap;\n",
              "      gap: 12px;\n",
              "    }\n",
              "\n",
              "    .colab-df-convert {\n",
              "      background-color: #E8F0FE;\n",
              "      border: none;\n",
              "      border-radius: 50%;\n",
              "      cursor: pointer;\n",
              "      display: none;\n",
              "      fill: #1967D2;\n",
              "      height: 32px;\n",
              "      padding: 0 0 0 0;\n",
              "      width: 32px;\n",
              "    }\n",
              "\n",
              "    .colab-df-convert:hover {\n",
              "      background-color: #E2EBFA;\n",
              "      box-shadow: 0px 1px 2px rgba(60, 64, 67, 0.3), 0px 1px 3px 1px rgba(60, 64, 67, 0.15);\n",
              "      fill: #174EA6;\n",
              "    }\n",
              "\n",
              "    [theme=dark] .colab-df-convert {\n",
              "      background-color: #3B4455;\n",
              "      fill: #D2E3FC;\n",
              "    }\n",
              "\n",
              "    [theme=dark] .colab-df-convert:hover {\n",
              "      background-color: #434B5C;\n",
              "      box-shadow: 0px 1px 3px 1px rgba(0, 0, 0, 0.15);\n",
              "      filter: drop-shadow(0px 1px 2px rgba(0, 0, 0, 0.3));\n",
              "      fill: #FFFFFF;\n",
              "    }\n",
              "  </style>\n",
              "\n",
              "      <script>\n",
              "        const buttonEl =\n",
              "          document.querySelector('#df-fd927cbd-3363-4cfe-bb9d-a145b87cba86 button.colab-df-convert');\n",
              "        buttonEl.style.display =\n",
              "          google.colab.kernel.accessAllowed ? 'block' : 'none';\n",
              "\n",
              "        async function convertToInteractive(key) {\n",
              "          const element = document.querySelector('#df-fd927cbd-3363-4cfe-bb9d-a145b87cba86');\n",
              "          const dataTable =\n",
              "            await google.colab.kernel.invokeFunction('convertToInteractive',\n",
              "                                                     [key], {});\n",
              "          if (!dataTable) return;\n",
              "\n",
              "          const docLinkHtml = 'Like what you see? Visit the ' +\n",
              "            '<a target=\"_blank\" href=https://colab.research.google.com/notebooks/data_table.ipynb>data table notebook</a>'\n",
              "            + ' to learn more about interactive tables.';\n",
              "          element.innerHTML = '';\n",
              "          dataTable['output_type'] = 'display_data';\n",
              "          await google.colab.output.renderOutput(dataTable, element);\n",
              "          const docLink = document.createElement('div');\n",
              "          docLink.innerHTML = docLinkHtml;\n",
              "          element.appendChild(docLink);\n",
              "        }\n",
              "      </script>\n",
              "    </div>\n",
              "  </div>\n",
              "  "
            ]
          },
          "metadata": {},
          "execution_count": 41
        }
      ]
    },
    {
      "cell_type": "markdown",
      "metadata": {
        "id": "c-ReA8qnojLY"
      },
      "source": [
        "The number of users in each group we have already calculated earlier"
      ]
    },
    {
      "cell_type": "code",
      "metadata": {
        "id": "dF1ejxRBojLY",
        "outputId": "c8e20f2e-d792-4d7c-872b-ca421719189f",
        "colab": {
          "base_uri": "https://localhost:8080/",
          "height": 143
        }
      },
      "source": [
        "users"
      ],
      "execution_count": 42,
      "outputs": [
        {
          "output_type": "execute_result",
          "data": {
            "text/plain": [
              "   exp_id  user_id\n",
              "0     246     2484\n",
              "1     247     2513\n",
              "2     248     2537"
            ],
            "text/html": [
              "\n",
              "  <div id=\"df-254370e3-8506-47da-9657-530a1b1e27af\">\n",
              "    <div class=\"colab-df-container\">\n",
              "      <div>\n",
              "<style scoped>\n",
              "    .dataframe tbody tr th:only-of-type {\n",
              "        vertical-align: middle;\n",
              "    }\n",
              "\n",
              "    .dataframe tbody tr th {\n",
              "        vertical-align: top;\n",
              "    }\n",
              "\n",
              "    .dataframe thead th {\n",
              "        text-align: right;\n",
              "    }\n",
              "</style>\n",
              "<table border=\"1\" class=\"dataframe\">\n",
              "  <thead>\n",
              "    <tr style=\"text-align: right;\">\n",
              "      <th></th>\n",
              "      <th>exp_id</th>\n",
              "      <th>user_id</th>\n",
              "    </tr>\n",
              "  </thead>\n",
              "  <tbody>\n",
              "    <tr>\n",
              "      <th>0</th>\n",
              "      <td>246</td>\n",
              "      <td>2484</td>\n",
              "    </tr>\n",
              "    <tr>\n",
              "      <th>1</th>\n",
              "      <td>247</td>\n",
              "      <td>2513</td>\n",
              "    </tr>\n",
              "    <tr>\n",
              "      <th>2</th>\n",
              "      <td>248</td>\n",
              "      <td>2537</td>\n",
              "    </tr>\n",
              "  </tbody>\n",
              "</table>\n",
              "</div>\n",
              "      <button class=\"colab-df-convert\" onclick=\"convertToInteractive('df-254370e3-8506-47da-9657-530a1b1e27af')\"\n",
              "              title=\"Convert this dataframe to an interactive table.\"\n",
              "              style=\"display:none;\">\n",
              "        \n",
              "  <svg xmlns=\"http://www.w3.org/2000/svg\" height=\"24px\"viewBox=\"0 0 24 24\"\n",
              "       width=\"24px\">\n",
              "    <path d=\"M0 0h24v24H0V0z\" fill=\"none\"/>\n",
              "    <path d=\"M18.56 5.44l.94 2.06.94-2.06 2.06-.94-2.06-.94-.94-2.06-.94 2.06-2.06.94zm-11 1L8.5 8.5l.94-2.06 2.06-.94-2.06-.94L8.5 2.5l-.94 2.06-2.06.94zm10 10l.94 2.06.94-2.06 2.06-.94-2.06-.94-.94-2.06-.94 2.06-2.06.94z\"/><path d=\"M17.41 7.96l-1.37-1.37c-.4-.4-.92-.59-1.43-.59-.52 0-1.04.2-1.43.59L10.3 9.45l-7.72 7.72c-.78.78-.78 2.05 0 2.83L4 21.41c.39.39.9.59 1.41.59.51 0 1.02-.2 1.41-.59l7.78-7.78 2.81-2.81c.8-.78.8-2.07 0-2.86zM5.41 20L4 18.59l7.72-7.72 1.47 1.35L5.41 20z\"/>\n",
              "  </svg>\n",
              "      </button>\n",
              "      \n",
              "  <style>\n",
              "    .colab-df-container {\n",
              "      display:flex;\n",
              "      flex-wrap:wrap;\n",
              "      gap: 12px;\n",
              "    }\n",
              "\n",
              "    .colab-df-convert {\n",
              "      background-color: #E8F0FE;\n",
              "      border: none;\n",
              "      border-radius: 50%;\n",
              "      cursor: pointer;\n",
              "      display: none;\n",
              "      fill: #1967D2;\n",
              "      height: 32px;\n",
              "      padding: 0 0 0 0;\n",
              "      width: 32px;\n",
              "    }\n",
              "\n",
              "    .colab-df-convert:hover {\n",
              "      background-color: #E2EBFA;\n",
              "      box-shadow: 0px 1px 2px rgba(60, 64, 67, 0.3), 0px 1px 3px 1px rgba(60, 64, 67, 0.15);\n",
              "      fill: #174EA6;\n",
              "    }\n",
              "\n",
              "    [theme=dark] .colab-df-convert {\n",
              "      background-color: #3B4455;\n",
              "      fill: #D2E3FC;\n",
              "    }\n",
              "\n",
              "    [theme=dark] .colab-df-convert:hover {\n",
              "      background-color: #434B5C;\n",
              "      box-shadow: 0px 1px 3px 1px rgba(0, 0, 0, 0.15);\n",
              "      filter: drop-shadow(0px 1px 2px rgba(0, 0, 0, 0.3));\n",
              "      fill: #FFFFFF;\n",
              "    }\n",
              "  </style>\n",
              "\n",
              "      <script>\n",
              "        const buttonEl =\n",
              "          document.querySelector('#df-254370e3-8506-47da-9657-530a1b1e27af button.colab-df-convert');\n",
              "        buttonEl.style.display =\n",
              "          google.colab.kernel.accessAllowed ? 'block' : 'none';\n",
              "\n",
              "        async function convertToInteractive(key) {\n",
              "          const element = document.querySelector('#df-254370e3-8506-47da-9657-530a1b1e27af');\n",
              "          const dataTable =\n",
              "            await google.colab.kernel.invokeFunction('convertToInteractive',\n",
              "                                                     [key], {});\n",
              "          if (!dataTable) return;\n",
              "\n",
              "          const docLinkHtml = 'Like what you see? Visit the ' +\n",
              "            '<a target=\"_blank\" href=https://colab.research.google.com/notebooks/data_table.ipynb>data table notebook</a>'\n",
              "            + ' to learn more about interactive tables.';\n",
              "          element.innerHTML = '';\n",
              "          dataTable['output_type'] = 'display_data';\n",
              "          await google.colab.output.renderOutput(dataTable, element);\n",
              "          const docLink = document.createElement('div');\n",
              "          docLink.innerHTML = docLinkHtml;\n",
              "          element.appendChild(docLink);\n",
              "        }\n",
              "      </script>\n",
              "    </div>\n",
              "  </div>\n",
              "  "
            ]
          },
          "metadata": {},
          "execution_count": 42
        }
      ]
    },
    {
      "cell_type": "markdown",
      "metadata": {
        "id": "TsUCRqiTojLY"
      },
      "source": [
        "Let's create a function whose input will be the name of the event and the names of the groups to compare. We will also add the posibility to set a different level of statistical significance.\n",
        "<br>\n",
        "We will use the z test. Null hypothesis: The shares of unique visitors who visited the step of the funnel are the same in the two groups. Alternative hypothesis: there is a significant difference between the shares of unique visitors who visited the step of the funnel."
      ]
    },
    {
      "cell_type": "code",
      "metadata": {
        "id": "QGfMQKBOojLZ"
      },
      "source": [
        "def a_b_test(event, group1, group2, alpha):\n",
        "    \n",
        "    s1 = ab_test_table[(ab_test_table['event_name']==event)&(ab_test_table['exp_id']==group1)]['user_id'].iloc[0]\n",
        "    s2 = ab_test_table[(ab_test_table['event_name']==event)&(ab_test_table['exp_id']==group2)]['user_id'].iloc[0] \n",
        "    t1 = users[users['exp_id']==group1]['user_id'].iloc[0]\n",
        "    t2 = users[users['exp_id']==group2]['user_id'].iloc[0]\n",
        "        \n",
        "    alpha = alpha # significance level\n",
        "    \n",
        "    successes = np.array([s1, s2])\n",
        "    trials = np.array([t1, t2])\n",
        "    \n",
        "    p1 = successes[0]/trials[0] # proportion of successes in the first group\n",
        "    p2 = successes[1]/trials[1] # proportion of successes in the second group\n",
        "    print('share of users who made an event in the group {}: {:.2%}'.format(group1, p1))\n",
        "    print('share of users who made an event in the group {}: {:.2%}'.format(group2, p2))\n",
        "    p_combined = (successes[0] + successes[1]) / (trials[0] + trials[1]) # proportion of successes in the combined dataset\n",
        "    difference = p1 - p2  # difference in proportions in datasets\n",
        "    print('the difference in the shares of users who made the event: {:.2%}'.format(difference))\n",
        "    z_value = difference / mth.sqrt(p_combined * (1 - p_combined) * (1/trials[0] + 1/trials[1])) # calculating statistics in standard deviations of the standard normal distribution\n",
        "    distr = st.norm(0, 1)  \n",
        "    p_value = (1 - distr.cdf(abs(z_value))) * 2 # set the standard normal distribution (mean 0, standard deviation 1)\n",
        "    print('p-valueе: ', p_value)\n",
        "\n",
        "    if p_value < alpha:\n",
        "        print('We reject the null hypothesis: there is a significant difference between the groups')\n",
        "    else:\n",
        "        print('We cannot reject the null hypothesis, there is no statistically significant difference between the groups') "
      ],
      "execution_count": 43,
      "outputs": []
    },
    {
      "cell_type": "markdown",
      "source": [
        "We will calculate the proportion of users who made this event in each of the control groups and check whether the difference between groups is statistically significant."
      ],
      "metadata": {
        "id": "GtAkndBGR5Sl"
      }
    },
    {
      "cell_type": "markdown",
      "metadata": {
        "id": "kKMdTmbtojLa"
      },
      "source": [
        "The most popular event is MainScreenAppear."
      ]
    },
    {
      "cell_type": "code",
      "metadata": {
        "id": "AUykeMX7ojLa",
        "outputId": "d15329f6-7ea0-49dc-f0a0-155eb1e365e5",
        "colab": {
          "base_uri": "https://localhost:8080/",
          "height": 112
        }
      },
      "source": [
        "ab_test_table[(ab_test_table['event_name']=='MainScreenAppear')&(ab_test_table['exp_id']!=248)]"
      ],
      "execution_count": 44,
      "outputs": [
        {
          "output_type": "execute_result",
          "data": {
            "text/plain": [
              "         event_name  exp_id  user_id\n",
              "3  MainScreenAppear     246     2450\n",
              "4  MainScreenAppear     247     2476"
            ],
            "text/html": [
              "\n",
              "  <div id=\"df-156363bf-5efc-4906-8fbd-a4cf4e15aa68\">\n",
              "    <div class=\"colab-df-container\">\n",
              "      <div>\n",
              "<style scoped>\n",
              "    .dataframe tbody tr th:only-of-type {\n",
              "        vertical-align: middle;\n",
              "    }\n",
              "\n",
              "    .dataframe tbody tr th {\n",
              "        vertical-align: top;\n",
              "    }\n",
              "\n",
              "    .dataframe thead th {\n",
              "        text-align: right;\n",
              "    }\n",
              "</style>\n",
              "<table border=\"1\" class=\"dataframe\">\n",
              "  <thead>\n",
              "    <tr style=\"text-align: right;\">\n",
              "      <th></th>\n",
              "      <th>event_name</th>\n",
              "      <th>exp_id</th>\n",
              "      <th>user_id</th>\n",
              "    </tr>\n",
              "  </thead>\n",
              "  <tbody>\n",
              "    <tr>\n",
              "      <th>3</th>\n",
              "      <td>MainScreenAppear</td>\n",
              "      <td>246</td>\n",
              "      <td>2450</td>\n",
              "    </tr>\n",
              "    <tr>\n",
              "      <th>4</th>\n",
              "      <td>MainScreenAppear</td>\n",
              "      <td>247</td>\n",
              "      <td>2476</td>\n",
              "    </tr>\n",
              "  </tbody>\n",
              "</table>\n",
              "</div>\n",
              "      <button class=\"colab-df-convert\" onclick=\"convertToInteractive('df-156363bf-5efc-4906-8fbd-a4cf4e15aa68')\"\n",
              "              title=\"Convert this dataframe to an interactive table.\"\n",
              "              style=\"display:none;\">\n",
              "        \n",
              "  <svg xmlns=\"http://www.w3.org/2000/svg\" height=\"24px\"viewBox=\"0 0 24 24\"\n",
              "       width=\"24px\">\n",
              "    <path d=\"M0 0h24v24H0V0z\" fill=\"none\"/>\n",
              "    <path d=\"M18.56 5.44l.94 2.06.94-2.06 2.06-.94-2.06-.94-.94-2.06-.94 2.06-2.06.94zm-11 1L8.5 8.5l.94-2.06 2.06-.94-2.06-.94L8.5 2.5l-.94 2.06-2.06.94zm10 10l.94 2.06.94-2.06 2.06-.94-2.06-.94-.94-2.06-.94 2.06-2.06.94z\"/><path d=\"M17.41 7.96l-1.37-1.37c-.4-.4-.92-.59-1.43-.59-.52 0-1.04.2-1.43.59L10.3 9.45l-7.72 7.72c-.78.78-.78 2.05 0 2.83L4 21.41c.39.39.9.59 1.41.59.51 0 1.02-.2 1.41-.59l7.78-7.78 2.81-2.81c.8-.78.8-2.07 0-2.86zM5.41 20L4 18.59l7.72-7.72 1.47 1.35L5.41 20z\"/>\n",
              "  </svg>\n",
              "      </button>\n",
              "      \n",
              "  <style>\n",
              "    .colab-df-container {\n",
              "      display:flex;\n",
              "      flex-wrap:wrap;\n",
              "      gap: 12px;\n",
              "    }\n",
              "\n",
              "    .colab-df-convert {\n",
              "      background-color: #E8F0FE;\n",
              "      border: none;\n",
              "      border-radius: 50%;\n",
              "      cursor: pointer;\n",
              "      display: none;\n",
              "      fill: #1967D2;\n",
              "      height: 32px;\n",
              "      padding: 0 0 0 0;\n",
              "      width: 32px;\n",
              "    }\n",
              "\n",
              "    .colab-df-convert:hover {\n",
              "      background-color: #E2EBFA;\n",
              "      box-shadow: 0px 1px 2px rgba(60, 64, 67, 0.3), 0px 1px 3px 1px rgba(60, 64, 67, 0.15);\n",
              "      fill: #174EA6;\n",
              "    }\n",
              "\n",
              "    [theme=dark] .colab-df-convert {\n",
              "      background-color: #3B4455;\n",
              "      fill: #D2E3FC;\n",
              "    }\n",
              "\n",
              "    [theme=dark] .colab-df-convert:hover {\n",
              "      background-color: #434B5C;\n",
              "      box-shadow: 0px 1px 3px 1px rgba(0, 0, 0, 0.15);\n",
              "      filter: drop-shadow(0px 1px 2px rgba(0, 0, 0, 0.3));\n",
              "      fill: #FFFFFF;\n",
              "    }\n",
              "  </style>\n",
              "\n",
              "      <script>\n",
              "        const buttonEl =\n",
              "          document.querySelector('#df-156363bf-5efc-4906-8fbd-a4cf4e15aa68 button.colab-df-convert');\n",
              "        buttonEl.style.display =\n",
              "          google.colab.kernel.accessAllowed ? 'block' : 'none';\n",
              "\n",
              "        async function convertToInteractive(key) {\n",
              "          const element = document.querySelector('#df-156363bf-5efc-4906-8fbd-a4cf4e15aa68');\n",
              "          const dataTable =\n",
              "            await google.colab.kernel.invokeFunction('convertToInteractive',\n",
              "                                                     [key], {});\n",
              "          if (!dataTable) return;\n",
              "\n",
              "          const docLinkHtml = 'Like what you see? Visit the ' +\n",
              "            '<a target=\"_blank\" href=https://colab.research.google.com/notebooks/data_table.ipynb>data table notebook</a>'\n",
              "            + ' to learn more about interactive tables.';\n",
              "          element.innerHTML = '';\n",
              "          dataTable['output_type'] = 'display_data';\n",
              "          await google.colab.output.renderOutput(dataTable, element);\n",
              "          const docLink = document.createElement('div');\n",
              "          docLink.innerHTML = docLinkHtml;\n",
              "          element.appendChild(docLink);\n",
              "        }\n",
              "      </script>\n",
              "    </div>\n",
              "  </div>\n",
              "  "
            ]
          },
          "metadata": {},
          "execution_count": 44
        }
      ]
    },
    {
      "cell_type": "markdown",
      "metadata": {
        "id": "rXy4FmEDojLa"
      },
      "source": [
        "The number of users having this event: 2450 and 2476 respectively."
      ]
    },
    {
      "cell_type": "markdown",
      "metadata": {
        "id": "Z7-dV-VJojLa"
      },
      "source": [
        "We will use a function and check all events in the cycle. Events have already been written in target_events."
      ]
    },
    {
      "cell_type": "code",
      "metadata": {
        "id": "N7lBjcENojLb",
        "outputId": "57967200-2079-427c-8c98-a6fce89837fa",
        "colab": {
          "base_uri": "https://localhost:8080/"
        }
      },
      "source": [
        "group1 = 246\n",
        "group2 = 247\n",
        "alpha = 0.05\n",
        "\n",
        "for i in target_events:\n",
        "    print (i)\n",
        "    a_b_test(i, group1, group2, alpha)\n",
        "    print()"
      ],
      "execution_count": 45,
      "outputs": [
        {
          "output_type": "stream",
          "name": "stdout",
          "text": [
            "MainScreenAppear\n",
            "share of users who made an event in the group 246: 98.63%\n",
            "share of users who made an event in the group 247: 98.53%\n",
            "the difference in the shares of users who made the event: 0.10%\n",
            "p-valueе:  0.7570597232046099\n",
            "We cannot reject the null hypothesis, there is no statistically significant difference between the groups\n",
            "\n",
            "OffersScreenAppear\n",
            "share of users who made an event in the group 246: 62.08%\n",
            "share of users who made an event in the group 247: 60.49%\n",
            "the difference in the shares of users who made the event: 1.59%\n",
            "p-valueе:  0.2480954578522181\n",
            "We cannot reject the null hypothesis, there is no statistically significant difference between the groups\n",
            "\n",
            "CartScreenAppear\n",
            "share of users who made an event in the group 246: 50.97%\n",
            "share of users who made an event in the group 247: 49.26%\n",
            "the difference in the shares of users who made the event: 1.70%\n",
            "p-valueе:  0.22883372237997213\n",
            "We cannot reject the null hypothesis, there is no statistically significant difference between the groups\n",
            "\n",
            "PaymentScreenSuccessful\n",
            "share of users who made an event in the group 246: 48.31%\n",
            "share of users who made an event in the group 247: 46.08%\n",
            "the difference in the shares of users who made the event: 2.23%\n",
            "p-valueе:  0.11456679313141849\n",
            "We cannot reject the null hypothesis, there is no statistically significant difference between the groups\n",
            "\n"
          ]
        }
      ]
    },
    {
      "cell_type": "markdown",
      "metadata": {
        "id": "GuSHwSKUojLb"
      },
      "source": [
        "<b>Results:</b> There are no significant differences in conversion rates (differences between the shares of unique visitors who visited the 4 stages of the funnel) between the control groups. Therefore, the grouping is correct."
      ]
    },
    {
      "cell_type": "markdown",
      "metadata": {
        "id": "wcXMuIvxojLb"
      },
      "source": [
        "#### A/B tests"
      ]
    },
    {
      "cell_type": "markdown",
      "metadata": {
        "id": "1fODtzSuojLc"
      },
      "source": [
        "##### Comparing the results with each of the control groups separately for each event."
      ]
    },
    {
      "cell_type": "markdown",
      "metadata": {
        "id": "9RpK_O3sojLc"
      },
      "source": [
        "Let's use our function. We compare group 248 and group 246. Since we have planned multiple comparisons (experimental group vs control 1; experimental group vs control 2; experimental group vs control 3 (which consists of control 1 and 2) we apply the Bonferroni correction. (If we do not consider the Tutorial event and rely on the fact that comparing groups A1 + A2 and B will not give anything new, then we have 4 * 3 = 12 checks in total."
      ]
    },
    {
      "cell_type": "code",
      "metadata": {
        "id": "wfN3ALwUojLd",
        "outputId": "75e55a47-0083-4516-d740-914605f9b9e2",
        "colab": {
          "base_uri": "https://localhost:8080/"
        }
      },
      "source": [
        "group1 = 248\n",
        "group2 = 246\n",
        "alpha = 0.05/12\n",
        "\n",
        "for i in target_events:\n",
        "    print (i)\n",
        "    a_b_test(i, group1, group2, alpha)\n",
        "    print()"
      ],
      "execution_count": 46,
      "outputs": [
        {
          "output_type": "stream",
          "name": "stdout",
          "text": [
            "MainScreenAppear\n",
            "share of users who made an event in the group 248: 98.27%\n",
            "share of users who made an event in the group 246: 98.63%\n",
            "the difference in the shares of users who made the event: -0.37%\n",
            "p-valueе:  0.2949721933554552\n",
            "We cannot reject the null hypothesis, there is no statistically significant difference between the groups\n",
            "\n",
            "OffersScreenAppear\n",
            "share of users who made an event in the group 248: 60.35%\n",
            "share of users who made an event in the group 246: 62.08%\n",
            "the difference in the shares of users who made the event: -1.73%\n",
            "p-valueе:  0.20836205402738917\n",
            "We cannot reject the null hypothesis, there is no statistically significant difference between the groups\n",
            "\n",
            "CartScreenAppear\n",
            "share of users who made an event in the group 248: 48.48%\n",
            "share of users who made an event in the group 246: 50.97%\n",
            "the difference in the shares of users who made the event: -2.48%\n",
            "p-valueе:  0.07842923237520116\n",
            "We cannot reject the null hypothesis, there is no statistically significant difference between the groups\n",
            "\n",
            "PaymentScreenSuccessful\n",
            "share of users who made an event in the group 248: 46.55%\n",
            "share of users who made an event in the group 246: 48.31%\n",
            "the difference in the shares of users who made the event: -1.76%\n",
            "p-valueе:  0.2122553275697796\n",
            "We cannot reject the null hypothesis, there is no statistically significant difference between the groups\n",
            "\n"
          ]
        }
      ]
    },
    {
      "cell_type": "markdown",
      "metadata": {
        "id": "vWix-lFyojLd"
      },
      "source": [
        "<b>Results:</b> There are no significant differences in the conversion rate (differences between the proportions of unique visitors who visited the 4 stages of the funnel) between groups 248 and 246."
      ]
    },
    {
      "cell_type": "markdown",
      "metadata": {
        "id": "_qoF8JcQojLd"
      },
      "source": [
        "Comparing group 248 with group 247"
      ]
    },
    {
      "cell_type": "code",
      "metadata": {
        "id": "bhXrVjQMojLe",
        "outputId": "da3ada57-fe96-4105-ff79-72cbef2a7851",
        "colab": {
          "base_uri": "https://localhost:8080/"
        }
      },
      "source": [
        "group1 = 248\n",
        "group2 = 247\n",
        "alpha = 0.05/12\n",
        "\n",
        "for i in target_events:\n",
        "    print (i)\n",
        "    a_b_test(i, group1, group2, alpha)\n",
        "    print()"
      ],
      "execution_count": 47,
      "outputs": [
        {
          "output_type": "stream",
          "name": "stdout",
          "text": [
            "MainScreenAppear\n",
            "share of users who made an event in the group 248: 98.27%\n",
            "share of users who made an event in the group 247: 98.53%\n",
            "the difference in the shares of users who made the event: -0.26%\n",
            "p-valueе:  0.4587053616621515\n",
            "We cannot reject the null hypothesis, there is no statistically significant difference between the groups\n",
            "\n",
            "OffersScreenAppear\n",
            "share of users who made an event in the group 248: 60.35%\n",
            "share of users who made an event in the group 247: 60.49%\n",
            "the difference in the shares of users who made the event: -0.14%\n",
            "p-valueе:  0.9197817830592261\n",
            "We cannot reject the null hypothesis, there is no statistically significant difference between the groups\n",
            "\n",
            "CartScreenAppear\n",
            "share of users who made an event in the group 248: 48.48%\n",
            "share of users who made an event in the group 247: 49.26%\n",
            "the difference in the shares of users who made the event: -0.78%\n",
            "p-valueе:  0.5786197879539783\n",
            "We cannot reject the null hypothesis, there is no statistically significant difference between the groups\n",
            "\n",
            "PaymentScreenSuccessful\n",
            "share of users who made an event in the group 248: 46.55%\n",
            "share of users who made an event in the group 247: 46.08%\n",
            "the difference in the shares of users who made the event: 0.47%\n",
            "p-valueе:  0.7373415053803964\n",
            "We cannot reject the null hypothesis, there is no statistically significant difference between the groups\n",
            "\n"
          ]
        }
      ]
    },
    {
      "cell_type": "markdown",
      "metadata": {
        "id": "ZNjnxwIfojLe"
      },
      "source": [
        "<b>Results:</b> There are no significant differences in the conversion rate between 248 and 247 groups."
      ]
    },
    {
      "cell_type": "markdown",
      "metadata": {
        "id": "RR4uZZYzojLe"
      },
      "source": [
        "##### Comparing results with a combined control group."
      ]
    },
    {
      "cell_type": "markdown",
      "metadata": {
        "id": "dYiP5GzEojLe"
      },
      "source": [
        "Let's add the combined group 246-247 to the ab_test_table"
      ]
    },
    {
      "cell_type": "code",
      "metadata": {
        "id": "0qPS6bQLojLf",
        "outputId": "374c2aa5-e3ef-4880-e01e-1e9f2bc73fcf",
        "colab": {
          "base_uri": "https://localhost:8080/",
          "height": 300
        }
      },
      "source": [
        "control_groups = ab_test_table[ab_test_table['exp_id']!=248]\n",
        "control_groups"
      ],
      "execution_count": 48,
      "outputs": [
        {
          "output_type": "execute_result",
          "data": {
            "text/plain": [
              "                 event_name  exp_id  user_id\n",
              "0          CartScreenAppear     246     1266\n",
              "1          CartScreenAppear     247     1238\n",
              "3          MainScreenAppear     246     2450\n",
              "4          MainScreenAppear     247     2476\n",
              "6        OffersScreenAppear     246     1542\n",
              "7        OffersScreenAppear     247     1520\n",
              "9   PaymentScreenSuccessful     246     1200\n",
              "10  PaymentScreenSuccessful     247     1158"
            ],
            "text/html": [
              "\n",
              "  <div id=\"df-c8e84eda-17eb-40ac-8472-71642f3dca95\">\n",
              "    <div class=\"colab-df-container\">\n",
              "      <div>\n",
              "<style scoped>\n",
              "    .dataframe tbody tr th:only-of-type {\n",
              "        vertical-align: middle;\n",
              "    }\n",
              "\n",
              "    .dataframe tbody tr th {\n",
              "        vertical-align: top;\n",
              "    }\n",
              "\n",
              "    .dataframe thead th {\n",
              "        text-align: right;\n",
              "    }\n",
              "</style>\n",
              "<table border=\"1\" class=\"dataframe\">\n",
              "  <thead>\n",
              "    <tr style=\"text-align: right;\">\n",
              "      <th></th>\n",
              "      <th>event_name</th>\n",
              "      <th>exp_id</th>\n",
              "      <th>user_id</th>\n",
              "    </tr>\n",
              "  </thead>\n",
              "  <tbody>\n",
              "    <tr>\n",
              "      <th>0</th>\n",
              "      <td>CartScreenAppear</td>\n",
              "      <td>246</td>\n",
              "      <td>1266</td>\n",
              "    </tr>\n",
              "    <tr>\n",
              "      <th>1</th>\n",
              "      <td>CartScreenAppear</td>\n",
              "      <td>247</td>\n",
              "      <td>1238</td>\n",
              "    </tr>\n",
              "    <tr>\n",
              "      <th>3</th>\n",
              "      <td>MainScreenAppear</td>\n",
              "      <td>246</td>\n",
              "      <td>2450</td>\n",
              "    </tr>\n",
              "    <tr>\n",
              "      <th>4</th>\n",
              "      <td>MainScreenAppear</td>\n",
              "      <td>247</td>\n",
              "      <td>2476</td>\n",
              "    </tr>\n",
              "    <tr>\n",
              "      <th>6</th>\n",
              "      <td>OffersScreenAppear</td>\n",
              "      <td>246</td>\n",
              "      <td>1542</td>\n",
              "    </tr>\n",
              "    <tr>\n",
              "      <th>7</th>\n",
              "      <td>OffersScreenAppear</td>\n",
              "      <td>247</td>\n",
              "      <td>1520</td>\n",
              "    </tr>\n",
              "    <tr>\n",
              "      <th>9</th>\n",
              "      <td>PaymentScreenSuccessful</td>\n",
              "      <td>246</td>\n",
              "      <td>1200</td>\n",
              "    </tr>\n",
              "    <tr>\n",
              "      <th>10</th>\n",
              "      <td>PaymentScreenSuccessful</td>\n",
              "      <td>247</td>\n",
              "      <td>1158</td>\n",
              "    </tr>\n",
              "  </tbody>\n",
              "</table>\n",
              "</div>\n",
              "      <button class=\"colab-df-convert\" onclick=\"convertToInteractive('df-c8e84eda-17eb-40ac-8472-71642f3dca95')\"\n",
              "              title=\"Convert this dataframe to an interactive table.\"\n",
              "              style=\"display:none;\">\n",
              "        \n",
              "  <svg xmlns=\"http://www.w3.org/2000/svg\" height=\"24px\"viewBox=\"0 0 24 24\"\n",
              "       width=\"24px\">\n",
              "    <path d=\"M0 0h24v24H0V0z\" fill=\"none\"/>\n",
              "    <path d=\"M18.56 5.44l.94 2.06.94-2.06 2.06-.94-2.06-.94-.94-2.06-.94 2.06-2.06.94zm-11 1L8.5 8.5l.94-2.06 2.06-.94-2.06-.94L8.5 2.5l-.94 2.06-2.06.94zm10 10l.94 2.06.94-2.06 2.06-.94-2.06-.94-.94-2.06-.94 2.06-2.06.94z\"/><path d=\"M17.41 7.96l-1.37-1.37c-.4-.4-.92-.59-1.43-.59-.52 0-1.04.2-1.43.59L10.3 9.45l-7.72 7.72c-.78.78-.78 2.05 0 2.83L4 21.41c.39.39.9.59 1.41.59.51 0 1.02-.2 1.41-.59l7.78-7.78 2.81-2.81c.8-.78.8-2.07 0-2.86zM5.41 20L4 18.59l7.72-7.72 1.47 1.35L5.41 20z\"/>\n",
              "  </svg>\n",
              "      </button>\n",
              "      \n",
              "  <style>\n",
              "    .colab-df-container {\n",
              "      display:flex;\n",
              "      flex-wrap:wrap;\n",
              "      gap: 12px;\n",
              "    }\n",
              "\n",
              "    .colab-df-convert {\n",
              "      background-color: #E8F0FE;\n",
              "      border: none;\n",
              "      border-radius: 50%;\n",
              "      cursor: pointer;\n",
              "      display: none;\n",
              "      fill: #1967D2;\n",
              "      height: 32px;\n",
              "      padding: 0 0 0 0;\n",
              "      width: 32px;\n",
              "    }\n",
              "\n",
              "    .colab-df-convert:hover {\n",
              "      background-color: #E2EBFA;\n",
              "      box-shadow: 0px 1px 2px rgba(60, 64, 67, 0.3), 0px 1px 3px 1px rgba(60, 64, 67, 0.15);\n",
              "      fill: #174EA6;\n",
              "    }\n",
              "\n",
              "    [theme=dark] .colab-df-convert {\n",
              "      background-color: #3B4455;\n",
              "      fill: #D2E3FC;\n",
              "    }\n",
              "\n",
              "    [theme=dark] .colab-df-convert:hover {\n",
              "      background-color: #434B5C;\n",
              "      box-shadow: 0px 1px 3px 1px rgba(0, 0, 0, 0.15);\n",
              "      filter: drop-shadow(0px 1px 2px rgba(0, 0, 0, 0.3));\n",
              "      fill: #FFFFFF;\n",
              "    }\n",
              "  </style>\n",
              "\n",
              "      <script>\n",
              "        const buttonEl =\n",
              "          document.querySelector('#df-c8e84eda-17eb-40ac-8472-71642f3dca95 button.colab-df-convert');\n",
              "        buttonEl.style.display =\n",
              "          google.colab.kernel.accessAllowed ? 'block' : 'none';\n",
              "\n",
              "        async function convertToInteractive(key) {\n",
              "          const element = document.querySelector('#df-c8e84eda-17eb-40ac-8472-71642f3dca95');\n",
              "          const dataTable =\n",
              "            await google.colab.kernel.invokeFunction('convertToInteractive',\n",
              "                                                     [key], {});\n",
              "          if (!dataTable) return;\n",
              "\n",
              "          const docLinkHtml = 'Like what you see? Visit the ' +\n",
              "            '<a target=\"_blank\" href=https://colab.research.google.com/notebooks/data_table.ipynb>data table notebook</a>'\n",
              "            + ' to learn more about interactive tables.';\n",
              "          element.innerHTML = '';\n",
              "          dataTable['output_type'] = 'display_data';\n",
              "          await google.colab.output.renderOutput(dataTable, element);\n",
              "          const docLink = document.createElement('div');\n",
              "          docLink.innerHTML = docLinkHtml;\n",
              "          element.appendChild(docLink);\n",
              "        }\n",
              "      </script>\n",
              "    </div>\n",
              "  </div>\n",
              "  "
            ]
          },
          "metadata": {},
          "execution_count": 48
        }
      ]
    },
    {
      "cell_type": "code",
      "metadata": {
        "id": "DTPtQAZIojLf",
        "outputId": "61dc7832-e075-40b7-8053-71c2ca1b360d",
        "colab": {
          "base_uri": "https://localhost:8080/"
        }
      },
      "source": [
        "control_groups['exp_id'] = control_groups['exp_id'].astype('str')"
      ],
      "execution_count": 49,
      "outputs": [
        {
          "output_type": "stream",
          "name": "stderr",
          "text": [
            "<ipython-input-49-6fe5bc1516a1>:1: SettingWithCopyWarning:\n",
            "\n",
            "\n",
            "A value is trying to be set on a copy of a slice from a DataFrame.\n",
            "Try using .loc[row_indexer,col_indexer] = value instead\n",
            "\n",
            "See the caveats in the documentation: https://pandas.pydata.org/pandas-docs/stable/user_guide/indexing.html#returning-a-view-versus-a-copy\n",
            "\n"
          ]
        }
      ]
    },
    {
      "cell_type": "code",
      "metadata": {
        "id": "zMNyJLHGojLf",
        "outputId": "e65892fe-e8e4-4266-9bfe-80059500f0cb",
        "colab": {
          "base_uri": "https://localhost:8080/",
          "height": 175
        }
      },
      "source": [
        "control_groups = control_groups.groupby('event_name').agg({'user_id':'sum','exp_id':lambda x: '_'.join(x)}).reset_index()\n",
        "control_groups"
      ],
      "execution_count": 50,
      "outputs": [
        {
          "output_type": "execute_result",
          "data": {
            "text/plain": [
              "                event_name  user_id   exp_id\n",
              "0         CartScreenAppear     2504  246_247\n",
              "1         MainScreenAppear     4926  246_247\n",
              "2       OffersScreenAppear     3062  246_247\n",
              "3  PaymentScreenSuccessful     2358  246_247"
            ],
            "text/html": [
              "\n",
              "  <div id=\"df-20cfa895-fdae-492d-aa56-9909cefc2e72\">\n",
              "    <div class=\"colab-df-container\">\n",
              "      <div>\n",
              "<style scoped>\n",
              "    .dataframe tbody tr th:only-of-type {\n",
              "        vertical-align: middle;\n",
              "    }\n",
              "\n",
              "    .dataframe tbody tr th {\n",
              "        vertical-align: top;\n",
              "    }\n",
              "\n",
              "    .dataframe thead th {\n",
              "        text-align: right;\n",
              "    }\n",
              "</style>\n",
              "<table border=\"1\" class=\"dataframe\">\n",
              "  <thead>\n",
              "    <tr style=\"text-align: right;\">\n",
              "      <th></th>\n",
              "      <th>event_name</th>\n",
              "      <th>user_id</th>\n",
              "      <th>exp_id</th>\n",
              "    </tr>\n",
              "  </thead>\n",
              "  <tbody>\n",
              "    <tr>\n",
              "      <th>0</th>\n",
              "      <td>CartScreenAppear</td>\n",
              "      <td>2504</td>\n",
              "      <td>246_247</td>\n",
              "    </tr>\n",
              "    <tr>\n",
              "      <th>1</th>\n",
              "      <td>MainScreenAppear</td>\n",
              "      <td>4926</td>\n",
              "      <td>246_247</td>\n",
              "    </tr>\n",
              "    <tr>\n",
              "      <th>2</th>\n",
              "      <td>OffersScreenAppear</td>\n",
              "      <td>3062</td>\n",
              "      <td>246_247</td>\n",
              "    </tr>\n",
              "    <tr>\n",
              "      <th>3</th>\n",
              "      <td>PaymentScreenSuccessful</td>\n",
              "      <td>2358</td>\n",
              "      <td>246_247</td>\n",
              "    </tr>\n",
              "  </tbody>\n",
              "</table>\n",
              "</div>\n",
              "      <button class=\"colab-df-convert\" onclick=\"convertToInteractive('df-20cfa895-fdae-492d-aa56-9909cefc2e72')\"\n",
              "              title=\"Convert this dataframe to an interactive table.\"\n",
              "              style=\"display:none;\">\n",
              "        \n",
              "  <svg xmlns=\"http://www.w3.org/2000/svg\" height=\"24px\"viewBox=\"0 0 24 24\"\n",
              "       width=\"24px\">\n",
              "    <path d=\"M0 0h24v24H0V0z\" fill=\"none\"/>\n",
              "    <path d=\"M18.56 5.44l.94 2.06.94-2.06 2.06-.94-2.06-.94-.94-2.06-.94 2.06-2.06.94zm-11 1L8.5 8.5l.94-2.06 2.06-.94-2.06-.94L8.5 2.5l-.94 2.06-2.06.94zm10 10l.94 2.06.94-2.06 2.06-.94-2.06-.94-.94-2.06-.94 2.06-2.06.94z\"/><path d=\"M17.41 7.96l-1.37-1.37c-.4-.4-.92-.59-1.43-.59-.52 0-1.04.2-1.43.59L10.3 9.45l-7.72 7.72c-.78.78-.78 2.05 0 2.83L4 21.41c.39.39.9.59 1.41.59.51 0 1.02-.2 1.41-.59l7.78-7.78 2.81-2.81c.8-.78.8-2.07 0-2.86zM5.41 20L4 18.59l7.72-7.72 1.47 1.35L5.41 20z\"/>\n",
              "  </svg>\n",
              "      </button>\n",
              "      \n",
              "  <style>\n",
              "    .colab-df-container {\n",
              "      display:flex;\n",
              "      flex-wrap:wrap;\n",
              "      gap: 12px;\n",
              "    }\n",
              "\n",
              "    .colab-df-convert {\n",
              "      background-color: #E8F0FE;\n",
              "      border: none;\n",
              "      border-radius: 50%;\n",
              "      cursor: pointer;\n",
              "      display: none;\n",
              "      fill: #1967D2;\n",
              "      height: 32px;\n",
              "      padding: 0 0 0 0;\n",
              "      width: 32px;\n",
              "    }\n",
              "\n",
              "    .colab-df-convert:hover {\n",
              "      background-color: #E2EBFA;\n",
              "      box-shadow: 0px 1px 2px rgba(60, 64, 67, 0.3), 0px 1px 3px 1px rgba(60, 64, 67, 0.15);\n",
              "      fill: #174EA6;\n",
              "    }\n",
              "\n",
              "    [theme=dark] .colab-df-convert {\n",
              "      background-color: #3B4455;\n",
              "      fill: #D2E3FC;\n",
              "    }\n",
              "\n",
              "    [theme=dark] .colab-df-convert:hover {\n",
              "      background-color: #434B5C;\n",
              "      box-shadow: 0px 1px 3px 1px rgba(0, 0, 0, 0.15);\n",
              "      filter: drop-shadow(0px 1px 2px rgba(0, 0, 0, 0.3));\n",
              "      fill: #FFFFFF;\n",
              "    }\n",
              "  </style>\n",
              "\n",
              "      <script>\n",
              "        const buttonEl =\n",
              "          document.querySelector('#df-20cfa895-fdae-492d-aa56-9909cefc2e72 button.colab-df-convert');\n",
              "        buttonEl.style.display =\n",
              "          google.colab.kernel.accessAllowed ? 'block' : 'none';\n",
              "\n",
              "        async function convertToInteractive(key) {\n",
              "          const element = document.querySelector('#df-20cfa895-fdae-492d-aa56-9909cefc2e72');\n",
              "          const dataTable =\n",
              "            await google.colab.kernel.invokeFunction('convertToInteractive',\n",
              "                                                     [key], {});\n",
              "          if (!dataTable) return;\n",
              "\n",
              "          const docLinkHtml = 'Like what you see? Visit the ' +\n",
              "            '<a target=\"_blank\" href=https://colab.research.google.com/notebooks/data_table.ipynb>data table notebook</a>'\n",
              "            + ' to learn more about interactive tables.';\n",
              "          element.innerHTML = '';\n",
              "          dataTable['output_type'] = 'display_data';\n",
              "          await google.colab.output.renderOutput(dataTable, element);\n",
              "          const docLink = document.createElement('div');\n",
              "          docLink.innerHTML = docLinkHtml;\n",
              "          element.appendChild(docLink);\n",
              "        }\n",
              "      </script>\n",
              "    </div>\n",
              "  </div>\n",
              "  "
            ]
          },
          "metadata": {},
          "execution_count": 50
        }
      ]
    },
    {
      "cell_type": "code",
      "metadata": {
        "id": "UAuBfmX9ojLf",
        "outputId": "dd7776d4-bc89-4f60-d7fc-c23b75e0052e",
        "colab": {
          "base_uri": "https://localhost:8080/",
          "height": 551
        }
      },
      "source": [
        "ab_test_table = ab_test_table.append(control_groups, sort=False)\n",
        "ab_test_table"
      ],
      "execution_count": 51,
      "outputs": [
        {
          "output_type": "execute_result",
          "data": {
            "text/plain": [
              "                 event_name   exp_id  user_id\n",
              "0          CartScreenAppear      246     1266\n",
              "1          CartScreenAppear      247     1238\n",
              "2          CartScreenAppear      248     1230\n",
              "3          MainScreenAppear      246     2450\n",
              "4          MainScreenAppear      247     2476\n",
              "5          MainScreenAppear      248     2493\n",
              "6        OffersScreenAppear      246     1542\n",
              "7        OffersScreenAppear      247     1520\n",
              "8        OffersScreenAppear      248     1531\n",
              "9   PaymentScreenSuccessful      246     1200\n",
              "10  PaymentScreenSuccessful      247     1158\n",
              "11  PaymentScreenSuccessful      248     1181\n",
              "0          CartScreenAppear  246_247     2504\n",
              "1          MainScreenAppear  246_247     4926\n",
              "2        OffersScreenAppear  246_247     3062\n",
              "3   PaymentScreenSuccessful  246_247     2358"
            ],
            "text/html": [
              "\n",
              "  <div id=\"df-179b2e1d-4167-430c-9921-5cd3315d138e\">\n",
              "    <div class=\"colab-df-container\">\n",
              "      <div>\n",
              "<style scoped>\n",
              "    .dataframe tbody tr th:only-of-type {\n",
              "        vertical-align: middle;\n",
              "    }\n",
              "\n",
              "    .dataframe tbody tr th {\n",
              "        vertical-align: top;\n",
              "    }\n",
              "\n",
              "    .dataframe thead th {\n",
              "        text-align: right;\n",
              "    }\n",
              "</style>\n",
              "<table border=\"1\" class=\"dataframe\">\n",
              "  <thead>\n",
              "    <tr style=\"text-align: right;\">\n",
              "      <th></th>\n",
              "      <th>event_name</th>\n",
              "      <th>exp_id</th>\n",
              "      <th>user_id</th>\n",
              "    </tr>\n",
              "  </thead>\n",
              "  <tbody>\n",
              "    <tr>\n",
              "      <th>0</th>\n",
              "      <td>CartScreenAppear</td>\n",
              "      <td>246</td>\n",
              "      <td>1266</td>\n",
              "    </tr>\n",
              "    <tr>\n",
              "      <th>1</th>\n",
              "      <td>CartScreenAppear</td>\n",
              "      <td>247</td>\n",
              "      <td>1238</td>\n",
              "    </tr>\n",
              "    <tr>\n",
              "      <th>2</th>\n",
              "      <td>CartScreenAppear</td>\n",
              "      <td>248</td>\n",
              "      <td>1230</td>\n",
              "    </tr>\n",
              "    <tr>\n",
              "      <th>3</th>\n",
              "      <td>MainScreenAppear</td>\n",
              "      <td>246</td>\n",
              "      <td>2450</td>\n",
              "    </tr>\n",
              "    <tr>\n",
              "      <th>4</th>\n",
              "      <td>MainScreenAppear</td>\n",
              "      <td>247</td>\n",
              "      <td>2476</td>\n",
              "    </tr>\n",
              "    <tr>\n",
              "      <th>5</th>\n",
              "      <td>MainScreenAppear</td>\n",
              "      <td>248</td>\n",
              "      <td>2493</td>\n",
              "    </tr>\n",
              "    <tr>\n",
              "      <th>6</th>\n",
              "      <td>OffersScreenAppear</td>\n",
              "      <td>246</td>\n",
              "      <td>1542</td>\n",
              "    </tr>\n",
              "    <tr>\n",
              "      <th>7</th>\n",
              "      <td>OffersScreenAppear</td>\n",
              "      <td>247</td>\n",
              "      <td>1520</td>\n",
              "    </tr>\n",
              "    <tr>\n",
              "      <th>8</th>\n",
              "      <td>OffersScreenAppear</td>\n",
              "      <td>248</td>\n",
              "      <td>1531</td>\n",
              "    </tr>\n",
              "    <tr>\n",
              "      <th>9</th>\n",
              "      <td>PaymentScreenSuccessful</td>\n",
              "      <td>246</td>\n",
              "      <td>1200</td>\n",
              "    </tr>\n",
              "    <tr>\n",
              "      <th>10</th>\n",
              "      <td>PaymentScreenSuccessful</td>\n",
              "      <td>247</td>\n",
              "      <td>1158</td>\n",
              "    </tr>\n",
              "    <tr>\n",
              "      <th>11</th>\n",
              "      <td>PaymentScreenSuccessful</td>\n",
              "      <td>248</td>\n",
              "      <td>1181</td>\n",
              "    </tr>\n",
              "    <tr>\n",
              "      <th>0</th>\n",
              "      <td>CartScreenAppear</td>\n",
              "      <td>246_247</td>\n",
              "      <td>2504</td>\n",
              "    </tr>\n",
              "    <tr>\n",
              "      <th>1</th>\n",
              "      <td>MainScreenAppear</td>\n",
              "      <td>246_247</td>\n",
              "      <td>4926</td>\n",
              "    </tr>\n",
              "    <tr>\n",
              "      <th>2</th>\n",
              "      <td>OffersScreenAppear</td>\n",
              "      <td>246_247</td>\n",
              "      <td>3062</td>\n",
              "    </tr>\n",
              "    <tr>\n",
              "      <th>3</th>\n",
              "      <td>PaymentScreenSuccessful</td>\n",
              "      <td>246_247</td>\n",
              "      <td>2358</td>\n",
              "    </tr>\n",
              "  </tbody>\n",
              "</table>\n",
              "</div>\n",
              "      <button class=\"colab-df-convert\" onclick=\"convertToInteractive('df-179b2e1d-4167-430c-9921-5cd3315d138e')\"\n",
              "              title=\"Convert this dataframe to an interactive table.\"\n",
              "              style=\"display:none;\">\n",
              "        \n",
              "  <svg xmlns=\"http://www.w3.org/2000/svg\" height=\"24px\"viewBox=\"0 0 24 24\"\n",
              "       width=\"24px\">\n",
              "    <path d=\"M0 0h24v24H0V0z\" fill=\"none\"/>\n",
              "    <path d=\"M18.56 5.44l.94 2.06.94-2.06 2.06-.94-2.06-.94-.94-2.06-.94 2.06-2.06.94zm-11 1L8.5 8.5l.94-2.06 2.06-.94-2.06-.94L8.5 2.5l-.94 2.06-2.06.94zm10 10l.94 2.06.94-2.06 2.06-.94-2.06-.94-.94-2.06-.94 2.06-2.06.94z\"/><path d=\"M17.41 7.96l-1.37-1.37c-.4-.4-.92-.59-1.43-.59-.52 0-1.04.2-1.43.59L10.3 9.45l-7.72 7.72c-.78.78-.78 2.05 0 2.83L4 21.41c.39.39.9.59 1.41.59.51 0 1.02-.2 1.41-.59l7.78-7.78 2.81-2.81c.8-.78.8-2.07 0-2.86zM5.41 20L4 18.59l7.72-7.72 1.47 1.35L5.41 20z\"/>\n",
              "  </svg>\n",
              "      </button>\n",
              "      \n",
              "  <style>\n",
              "    .colab-df-container {\n",
              "      display:flex;\n",
              "      flex-wrap:wrap;\n",
              "      gap: 12px;\n",
              "    }\n",
              "\n",
              "    .colab-df-convert {\n",
              "      background-color: #E8F0FE;\n",
              "      border: none;\n",
              "      border-radius: 50%;\n",
              "      cursor: pointer;\n",
              "      display: none;\n",
              "      fill: #1967D2;\n",
              "      height: 32px;\n",
              "      padding: 0 0 0 0;\n",
              "      width: 32px;\n",
              "    }\n",
              "\n",
              "    .colab-df-convert:hover {\n",
              "      background-color: #E2EBFA;\n",
              "      box-shadow: 0px 1px 2px rgba(60, 64, 67, 0.3), 0px 1px 3px 1px rgba(60, 64, 67, 0.15);\n",
              "      fill: #174EA6;\n",
              "    }\n",
              "\n",
              "    [theme=dark] .colab-df-convert {\n",
              "      background-color: #3B4455;\n",
              "      fill: #D2E3FC;\n",
              "    }\n",
              "\n",
              "    [theme=dark] .colab-df-convert:hover {\n",
              "      background-color: #434B5C;\n",
              "      box-shadow: 0px 1px 3px 1px rgba(0, 0, 0, 0.15);\n",
              "      filter: drop-shadow(0px 1px 2px rgba(0, 0, 0, 0.3));\n",
              "      fill: #FFFFFF;\n",
              "    }\n",
              "  </style>\n",
              "\n",
              "      <script>\n",
              "        const buttonEl =\n",
              "          document.querySelector('#df-179b2e1d-4167-430c-9921-5cd3315d138e button.colab-df-convert');\n",
              "        buttonEl.style.display =\n",
              "          google.colab.kernel.accessAllowed ? 'block' : 'none';\n",
              "\n",
              "        async function convertToInteractive(key) {\n",
              "          const element = document.querySelector('#df-179b2e1d-4167-430c-9921-5cd3315d138e');\n",
              "          const dataTable =\n",
              "            await google.colab.kernel.invokeFunction('convertToInteractive',\n",
              "                                                     [key], {});\n",
              "          if (!dataTable) return;\n",
              "\n",
              "          const docLinkHtml = 'Like what you see? Visit the ' +\n",
              "            '<a target=\"_blank\" href=https://colab.research.google.com/notebooks/data_table.ipynb>data table notebook</a>'\n",
              "            + ' to learn more about interactive tables.';\n",
              "          element.innerHTML = '';\n",
              "          dataTable['output_type'] = 'display_data';\n",
              "          await google.colab.output.renderOutput(dataTable, element);\n",
              "          const docLink = document.createElement('div');\n",
              "          docLink.innerHTML = docLinkHtml;\n",
              "          element.appendChild(docLink);\n",
              "        }\n",
              "      </script>\n",
              "    </div>\n",
              "  </div>\n",
              "  "
            ]
          },
          "metadata": {},
          "execution_count": 51
        }
      ]
    },
    {
      "cell_type": "code",
      "metadata": {
        "id": "Rdt5s6jLojLg",
        "outputId": "e60086ef-5572-49cc-ff47-d1f728fe2331",
        "colab": {
          "base_uri": "https://localhost:8080/",
          "height": 175
        }
      },
      "source": [
        "new_row = {'exp_id':'246_247', 'user_id':4997}\n",
        "users = users.append(new_row, ignore_index=True)\n",
        "users"
      ],
      "execution_count": 52,
      "outputs": [
        {
          "output_type": "execute_result",
          "data": {
            "text/plain": [
              "    exp_id  user_id\n",
              "0      246     2484\n",
              "1      247     2513\n",
              "2      248     2537\n",
              "3  246_247     4997"
            ],
            "text/html": [
              "\n",
              "  <div id=\"df-1481fbd9-9871-4180-8080-362e287ea9cc\">\n",
              "    <div class=\"colab-df-container\">\n",
              "      <div>\n",
              "<style scoped>\n",
              "    .dataframe tbody tr th:only-of-type {\n",
              "        vertical-align: middle;\n",
              "    }\n",
              "\n",
              "    .dataframe tbody tr th {\n",
              "        vertical-align: top;\n",
              "    }\n",
              "\n",
              "    .dataframe thead th {\n",
              "        text-align: right;\n",
              "    }\n",
              "</style>\n",
              "<table border=\"1\" class=\"dataframe\">\n",
              "  <thead>\n",
              "    <tr style=\"text-align: right;\">\n",
              "      <th></th>\n",
              "      <th>exp_id</th>\n",
              "      <th>user_id</th>\n",
              "    </tr>\n",
              "  </thead>\n",
              "  <tbody>\n",
              "    <tr>\n",
              "      <th>0</th>\n",
              "      <td>246</td>\n",
              "      <td>2484</td>\n",
              "    </tr>\n",
              "    <tr>\n",
              "      <th>1</th>\n",
              "      <td>247</td>\n",
              "      <td>2513</td>\n",
              "    </tr>\n",
              "    <tr>\n",
              "      <th>2</th>\n",
              "      <td>248</td>\n",
              "      <td>2537</td>\n",
              "    </tr>\n",
              "    <tr>\n",
              "      <th>3</th>\n",
              "      <td>246_247</td>\n",
              "      <td>4997</td>\n",
              "    </tr>\n",
              "  </tbody>\n",
              "</table>\n",
              "</div>\n",
              "      <button class=\"colab-df-convert\" onclick=\"convertToInteractive('df-1481fbd9-9871-4180-8080-362e287ea9cc')\"\n",
              "              title=\"Convert this dataframe to an interactive table.\"\n",
              "              style=\"display:none;\">\n",
              "        \n",
              "  <svg xmlns=\"http://www.w3.org/2000/svg\" height=\"24px\"viewBox=\"0 0 24 24\"\n",
              "       width=\"24px\">\n",
              "    <path d=\"M0 0h24v24H0V0z\" fill=\"none\"/>\n",
              "    <path d=\"M18.56 5.44l.94 2.06.94-2.06 2.06-.94-2.06-.94-.94-2.06-.94 2.06-2.06.94zm-11 1L8.5 8.5l.94-2.06 2.06-.94-2.06-.94L8.5 2.5l-.94 2.06-2.06.94zm10 10l.94 2.06.94-2.06 2.06-.94-2.06-.94-.94-2.06-.94 2.06-2.06.94z\"/><path d=\"M17.41 7.96l-1.37-1.37c-.4-.4-.92-.59-1.43-.59-.52 0-1.04.2-1.43.59L10.3 9.45l-7.72 7.72c-.78.78-.78 2.05 0 2.83L4 21.41c.39.39.9.59 1.41.59.51 0 1.02-.2 1.41-.59l7.78-7.78 2.81-2.81c.8-.78.8-2.07 0-2.86zM5.41 20L4 18.59l7.72-7.72 1.47 1.35L5.41 20z\"/>\n",
              "  </svg>\n",
              "      </button>\n",
              "      \n",
              "  <style>\n",
              "    .colab-df-container {\n",
              "      display:flex;\n",
              "      flex-wrap:wrap;\n",
              "      gap: 12px;\n",
              "    }\n",
              "\n",
              "    .colab-df-convert {\n",
              "      background-color: #E8F0FE;\n",
              "      border: none;\n",
              "      border-radius: 50%;\n",
              "      cursor: pointer;\n",
              "      display: none;\n",
              "      fill: #1967D2;\n",
              "      height: 32px;\n",
              "      padding: 0 0 0 0;\n",
              "      width: 32px;\n",
              "    }\n",
              "\n",
              "    .colab-df-convert:hover {\n",
              "      background-color: #E2EBFA;\n",
              "      box-shadow: 0px 1px 2px rgba(60, 64, 67, 0.3), 0px 1px 3px 1px rgba(60, 64, 67, 0.15);\n",
              "      fill: #174EA6;\n",
              "    }\n",
              "\n",
              "    [theme=dark] .colab-df-convert {\n",
              "      background-color: #3B4455;\n",
              "      fill: #D2E3FC;\n",
              "    }\n",
              "\n",
              "    [theme=dark] .colab-df-convert:hover {\n",
              "      background-color: #434B5C;\n",
              "      box-shadow: 0px 1px 3px 1px rgba(0, 0, 0, 0.15);\n",
              "      filter: drop-shadow(0px 1px 2px rgba(0, 0, 0, 0.3));\n",
              "      fill: #FFFFFF;\n",
              "    }\n",
              "  </style>\n",
              "\n",
              "      <script>\n",
              "        const buttonEl =\n",
              "          document.querySelector('#df-1481fbd9-9871-4180-8080-362e287ea9cc button.colab-df-convert');\n",
              "        buttonEl.style.display =\n",
              "          google.colab.kernel.accessAllowed ? 'block' : 'none';\n",
              "\n",
              "        async function convertToInteractive(key) {\n",
              "          const element = document.querySelector('#df-1481fbd9-9871-4180-8080-362e287ea9cc');\n",
              "          const dataTable =\n",
              "            await google.colab.kernel.invokeFunction('convertToInteractive',\n",
              "                                                     [key], {});\n",
              "          if (!dataTable) return;\n",
              "\n",
              "          const docLinkHtml = 'Like what you see? Visit the ' +\n",
              "            '<a target=\"_blank\" href=https://colab.research.google.com/notebooks/data_table.ipynb>data table notebook</a>'\n",
              "            + ' to learn more about interactive tables.';\n",
              "          element.innerHTML = '';\n",
              "          dataTable['output_type'] = 'display_data';\n",
              "          await google.colab.output.renderOutput(dataTable, element);\n",
              "          const docLink = document.createElement('div');\n",
              "          docLink.innerHTML = docLinkHtml;\n",
              "          element.appendChild(docLink);\n",
              "        }\n",
              "      </script>\n",
              "    </div>\n",
              "  </div>\n",
              "  "
            ]
          },
          "metadata": {},
          "execution_count": 52
        }
      ]
    },
    {
      "cell_type": "markdown",
      "metadata": {
        "id": "S2ZVSmwNojLg"
      },
      "source": [
        "Let's compare 248 and the combined control group"
      ]
    },
    {
      "cell_type": "code",
      "metadata": {
        "id": "LRKSBjwyojLg",
        "outputId": "2554dfd1-d737-4356-982e-e03acaded00c",
        "colab": {
          "base_uri": "https://localhost:8080/"
        }
      },
      "source": [
        "group1 = 248\n",
        "group2 = '246_247'\n",
        "alpha = 0.05/12\n",
        "\n",
        "for i in target_events:\n",
        "    print (i)\n",
        "    a_b_test(i, group1, group2, alpha)\n",
        "    print()"
      ],
      "execution_count": 53,
      "outputs": [
        {
          "output_type": "stream",
          "name": "stdout",
          "text": [
            "MainScreenAppear\n",
            "share of users who made an event in the group 248: 98.27%\n",
            "share of users who made an event in the group 246_247: 98.58%\n",
            "the difference in the shares of users who made the event: -0.31%\n",
            "p-valueе:  0.29424526837179577\n",
            "We cannot reject the null hypothesis, there is no statistically significant difference between the groups\n",
            "\n",
            "OffersScreenAppear\n",
            "share of users who made an event in the group 248: 60.35%\n",
            "share of users who made an event in the group 246_247: 61.28%\n",
            "the difference in the shares of users who made the event: -0.93%\n",
            "p-valueе:  0.43425549655188256\n",
            "We cannot reject the null hypothesis, there is no statistically significant difference between the groups\n",
            "\n",
            "CartScreenAppear\n",
            "share of users who made an event in the group 248: 48.48%\n",
            "share of users who made an event in the group 246_247: 50.11%\n",
            "the difference in the shares of users who made the event: -1.63%\n",
            "p-valueе:  0.18175875284404386\n",
            "We cannot reject the null hypothesis, there is no statistically significant difference between the groups\n",
            "\n",
            "PaymentScreenSuccessful\n",
            "share of users who made an event in the group 248: 46.55%\n",
            "share of users who made an event in the group 246_247: 47.19%\n",
            "the difference in the shares of users who made the event: -0.64%\n",
            "p-valueе:  0.6004294282308704\n",
            "We cannot reject the null hypothesis, there is no statistically significant difference between the groups\n",
            "\n"
          ]
        }
      ]
    },
    {
      "cell_type": "markdown",
      "metadata": {
        "id": "K7WHTFtBojLg"
      },
      "source": [
        "<b>Results:</b> There are no significant differences in conversion rates between the 248 group and the combined control group."
      ]
    },
    {
      "cell_type": "markdown",
      "metadata": {
        "id": "ym-mOhWfojLh"
      },
      "source": [
        "### Conclusion"
      ]
    },
    {
      "cell_type": "markdown",
      "metadata": {
        "id": "KIEGyYcoojLi"
      },
      "source": [
        "- We analyzed the event funnel based on entries in the user event log from 07/25/2019 to 08/07/2019. For further analysis, we chose the period from 08/01/2019 to 08/07/2019, because for earlier dates, the number of records was much less.\n",
        "- The median number of events per user is 20 (average number of events 32 +/- 65). There are probably errors in the log: users with an unrealistically large number of events (because unique users were used in the funnel calculation - this does not affect the analysis results)\n",
        "- Calculation performed for the event funnel: main screen -> offer -> cart -> successful payment. The largest number of users is lost when moving from the main screen to offer screen. 98.5% of users saw the main screen. 61% of users saw the offer screen. 49.6% of all users got into the cart screen. Successful payments are made by 47% of the total number of users.\n",
        "- An AAB test (Bonferroni-adjusted z-test for multiple comparisons) was performed for each of the 4 events to evaluate the differences in conversion before and after the font change. According to the results of the AAB test: the breakdown into groups works correctly (no significant differences were found between the two control groups); There were no statistically significant differences between the experimental (new font) and two control groups. Thus, changing the font does not affect the conversion for these 4 events."
      ]
    }
  ]
}