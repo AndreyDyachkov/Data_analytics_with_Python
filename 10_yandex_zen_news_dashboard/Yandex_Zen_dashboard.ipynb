{
  "nbformat": 4,
  "nbformat_minor": 0,
  "metadata": {
    "kernelspec": {
      "display_name": "Python 3",
      "language": "python",
      "name": "python3"
    },
    "language_info": {
      "codemirror_mode": {
        "name": "ipython",
        "version": 3
      },
      "file_extension": ".py",
      "mimetype": "text/x-python",
      "name": "python",
      "nbconvert_exporter": "python",
      "pygments_lexer": "ipython3",
      "version": "3.7.3"
    },
    "colab": {
      "provenance": [],
      "toc_visible": true,
      "include_colab_link": true
    }
  },
  "cells": [
    {
      "cell_type": "markdown",
      "metadata": {
        "id": "view-in-github",
        "colab_type": "text"
      },
      "source": [
        "<a href=\"https://colab.research.google.com/github/AndreyDyachkov/Data_analytics_with_Python/blob/main/10_yandex_zen_news_dashboard/Yandex_Zen_dashboard.ipynb\" target=\"_parent\"><img src=\"https://colab.research.google.com/assets/colab-badge.svg\" alt=\"Open In Colab\"/></a>"
      ]
    },
    {
      "cell_type": "markdown",
      "metadata": {
        "id": "b_07iSG1nWFU"
      },
      "source": [
        "# Yandex.Zen dashboard"
      ]
    },
    {
      "cell_type": "markdown",
      "metadata": {
        "id": "mxf5WBRtnWFY"
      },
      "source": [
        "<b>Task:</b>\n",
        "Get data from Yandex.Zen pipeline and build a dashboard in Tableau. Answer the questions:\n",
        "1. How many user interactions with cards occur in the system, broken down by card topics?\n",
        "2. How many cards do sources with different topics generate?\n",
        "3. How do the topics of the cards and the topics of the sources compare?\n",
        "\n",
        "<b>Data source:</b> an aggregate table (The dashboard will be based on a pipeline that will take data from a table that stores raw data, transform the data and put it in an aggregate table."
      ]
    },
    {
      "cell_type": "markdown",
      "metadata": {
        "id": "ZevtFS67nWFZ"
      },
      "source": [
        "<b>Plan based on the results of the discussion:</b>\n",
        "<br><b>Business task:</b>analysis of user interaction with Yandex.Zen cards;\n",
        "<br><b>How often is it supposed to use the dashboard:</b> at least once a week;\n",
        "<br><b>Who will be the main user of the dashboard:</b> content analysis managers;\n",
        "<br><b>Composition of data for the dashboard:</b>\n",
        "1. History of events by topic of cards (two graphs: absolute numbers and percentage);\n",
        "2. Breakdown of events by topic of sources;\n",
        "3. Table of correspondence between source topics and cards topics;\n",
        "<br>What parameters should data be grouped by:\n",
        "Date and time;\n",
        "The theme of the card;\n",
        "Source topic;\n",
        "Age group;\n",
        "\n",
        "<br><b>Data:</b>\n",
        "- History of events by card topic - absolute values ​​broken down by minutes;\n",
        "- Breakdown of events by source topic - relative values ​​(%);\n",
        "- Correspondence of the source topics to the cards topics - absolute values;\n",
        "\n",
        "<br><b>Data sources for the dashboard:</b>raw data on user interaction events with cards (log_raw table);\n",
        "Database where the aggregated data will be stored: additional aggregated tables in the Zen database."
      ]
    },
    {
      "cell_type": "markdown",
      "metadata": {
        "id": "El7JaLqanWFa"
      },
      "source": [
        "### Stage 1. Getting data"
      ]
    },
    {
      "cell_type": "markdown",
      "metadata": {
        "id": "NxeHU6MfnWFa"
      },
      "source": [
        "#### Imports and connection to db"
      ]
    },
    {
      "cell_type": "code",
      "metadata": {
        "id": "rrt86ej2nWFa"
      },
      "source": [
        "!pip install psycopg2"
      ],
      "execution_count": null,
      "outputs": []
    },
    {
      "cell_type": "code",
      "metadata": {
        "id": "qBR5uQZOnWFc"
      },
      "source": [
        "import pandas as pd\n",
        "from sqlalchemy import create_engine\n",
        "\n",
        "db_config = {'user': 'praktikum_student', # login\n",
        "            'pwd': 'Sdf4$2;d-d30pp', # password\n",
        "            'host': 'rc1b-wcoijxj3yxfsf3fs.mdb.yandexcloud.net',\n",
        "            'port': 6432, # port\n",
        "            'db': 'data-analyst-zen-project-db'} # db name\n",
        "\n",
        "connection_string = 'postgresql://{}:{}@{}:{}/{}'.format(db_config['user'],\n",
        "                                                db_config['pwd'],\n",
        "                                                db_config['host'],\n",
        "                                                db_config['port'],\n",
        "                                                db_config['db'])\n",
        "\n",
        "engine = create_engine(connection_string)"
      ],
      "execution_count": null,
      "outputs": []
    },
    {
      "cell_type": "markdown",
      "metadata": {
        "id": "CpGcynzpnWFd"
      },
      "source": [
        "#### SQL query"
      ]
    },
    {
      "cell_type": "code",
      "metadata": {
        "id": "JB18VOUunWFe"
      },
      "source": [
        "query = ''' SELECT *\n",
        "            FROM dash_visits\n",
        "        '''"
      ],
      "execution_count": null,
      "outputs": []
    },
    {
      "cell_type": "markdown",
      "metadata": {
        "id": "mPwLgfyDnWFe"
      },
      "source": [
        "#### Writing data into a dataframe"
      ]
    },
    {
      "cell_type": "code",
      "metadata": {
        "id": "m3a7DAPHnWFe"
      },
      "source": [
        "df = pd.io.sql.read_sql(query, con = engine)\n",
        "df.head()"
      ],
      "execution_count": null,
      "outputs": []
    },
    {
      "cell_type": "markdown",
      "metadata": {
        "id": "peAEBHUqnWFf"
      },
      "source": [
        "<b>Data description: </b>\n",
        "We assume the following:\n",
        "- record_id - id;\n",
        "- item_topic - card topic;\n",
        "- source_topic - source topic;\n",
        "- age_segment - age category\n",
        "- dt - date time\n",
        "- visits - number of interactions\n",
        "\n",
        "Let's look at the table with raw data for verification"
      ]
    },
    {
      "cell_type": "code",
      "metadata": {
        "id": "35RdNEZ3nWFf"
      },
      "source": [
        "query2 = ''' SELECT *\n",
        "            FROM log_raw\n",
        "        '''"
      ],
      "execution_count": null,
      "outputs": []
    },
    {
      "cell_type": "code",
      "metadata": {
        "id": "MKhdLZ59nWFg"
      },
      "source": [
        "df_raw = pd.io.sql.read_sql(query2, con = engine)\n",
        "df_raw.head()"
      ],
      "execution_count": null,
      "outputs": []
    },
    {
      "cell_type": "markdown",
      "metadata": {
        "id": "FE_TwMf-nWFg"
      },
      "source": [
        "It seems that everything is correct, all interactions are taken into account in the aggregation table without breaking down by event type (show, click, etc.)"
      ]
    },
    {
      "cell_type": "markdown",
      "metadata": {
        "id": "j3EuSW4vnWFg"
      },
      "source": [
        "#### Checking for missing values, duplicates and wrong data types "
      ]
    },
    {
      "cell_type": "code",
      "metadata": {
        "id": "m6igfThunWFg"
      },
      "source": [
        "df.info()"
      ],
      "execution_count": null,
      "outputs": []
    },
    {
      "cell_type": "code",
      "metadata": {
        "id": "2Wcj33LknWFh"
      },
      "source": [
        "df.duplicated().sum()"
      ],
      "execution_count": null,
      "outputs": []
    },
    {
      "cell_type": "markdown",
      "metadata": {
        "id": "bdD58FlPnWFh"
      },
      "source": [
        "Everything looks good"
      ]
    },
    {
      "cell_type": "markdown",
      "metadata": {
        "id": "dzCLoGCYnWFh"
      },
      "source": [
        "### Stage 2. EDA"
      ]
    },
    {
      "cell_type": "markdown",
      "metadata": {
        "id": "cw-s2XGGnWFh"
      },
      "source": [
        "Descriptive statistics. We can do it in Tableau, as well. In order to avoid possible errors earlier, let's check here."
      ]
    },
    {
      "cell_type": "code",
      "metadata": {
        "id": "pmTtqG07nWFi"
      },
      "source": [
        "df.describe()"
      ],
      "execution_count": null,
      "outputs": []
    },
    {
      "cell_type": "code",
      "metadata": {
        "id": "oI9mqn2BnWFi"
      },
      "source": [
        "df[['item_topic','source_topic','age_segment']].describe()"
      ],
      "execution_count": null,
      "outputs": []
    },
    {
      "cell_type": "code",
      "metadata": {
        "id": "Chu4e4zknWFi"
      },
      "source": [
        "df['dt'].describe(datetime_is_numeric=True)"
      ],
      "execution_count": null,
      "outputs": []
    },
    {
      "cell_type": "markdown",
      "metadata": {
        "id": "JcjImi8SnWFj"
      },
      "source": [
        "The range in the number of visits is large, the mean is much higher than the median - a right-skewed distribution. There are 25 different item_topics and 26 source_topics. Number of segments by age: 6. We have data for about half an hour. Let's look at the list of topics and age segments: for incomplete duplicates and to understand the distribution."
      ]
    },
    {
      "cell_type": "code",
      "metadata": {
        "id": "Z9LlCOtPnWFj"
      },
      "source": [
        "df['item_topic'].value_counts()"
      ],
      "execution_count": null,
      "outputs": []
    },
    {
      "cell_type": "code",
      "metadata": {
        "id": "DcpSmG9LnWFj"
      },
      "source": [
        "df['source_topic'].value_counts()"
      ],
      "execution_count": null,
      "outputs": []
    },
    {
      "cell_type": "code",
      "metadata": {
        "id": "VVvU7cfUnWFk"
      },
      "source": [
        "df['age_segment'].value_counts().sort_index()"
      ],
      "execution_count": null,
      "outputs": []
    },
    {
      "cell_type": "markdown",
      "metadata": {
        "id": "kpwSe4I8nWFk"
      },
      "source": [
        "The number of entries for each topic is more or less equal. By age: the younger the age group, the more entries it has."
      ]
    },
    {
      "cell_type": "markdown",
      "metadata": {
        "id": "wtyuWauZnWFk"
      },
      "source": [
        "### Stage 3. Dataframe to csv"
      ]
    },
    {
      "cell_type": "code",
      "metadata": {
        "id": "A_s2qSt2nWFk"
      },
      "source": [
        "df.to_csv('dash_visits.csv', index=False)"
      ],
      "execution_count": null,
      "outputs": []
    },
    {
      "cell_type": "markdown",
      "metadata": {
        "id": "ZSkxkxVenWFk"
      },
      "source": [
        "### Conclusion"
      ]
    },
    {
      "cell_type": "markdown",
      "metadata": {
        "id": "4DAGnDTanWFl"
      },
      "source": [
        "We connected to the database, downloaded the aggregate table of visits to Yandex_Zen for the period: 2019-09-24 18:28:00 - 2019-09-24 19:0:00. Then we checked the data for errors and wrote it to a csv file for uploading to Tableau public."
      ]
    },
    {
      "cell_type": "markdown",
      "source": [
        "The dashboard: https://public.tableau.com/app/profile/andrewd6063/viz/Y_project_sprint_11/Dashboard3\n"
      ],
      "metadata": {
        "id": "4WeCnAUfd17k"
      }
    },
    {
      "cell_type": "code",
      "source": [],
      "metadata": {
        "id": "1pG_SQuDZsuA"
      },
      "execution_count": null,
      "outputs": []
    }
  ]
}