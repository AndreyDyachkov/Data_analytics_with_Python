{
  "nbformat": 4,
  "nbformat_minor": 0,
  "metadata": {
    "kernelspec": {
      "display_name": "Python 3",
      "language": "python",
      "name": "python3"
    },
    "language_info": {
      "codemirror_mode": {
        "name": "ipython",
        "version": 3
      },
      "file_extension": ".py",
      "mimetype": "text/x-python",
      "name": "python",
      "nbconvert_exporter": "python",
      "pygments_lexer": "ipython3",
      "version": "3.7.8"
    },
    "toc": {
      "base_numbering": 1,
      "nav_menu": {},
      "number_sections": true,
      "sideBar": true,
      "skip_h1_title": false,
      "title_cell": "Table of Contents",
      "title_sidebar": "Contents",
      "toc_cell": false,
      "toc_position": {},
      "toc_section_display": true,
      "toc_window_display": false
    },
    "colab": {
      "name": "1_Data_cleaning (YandexPracticum_eng).ipynb",
      "provenance": [],
      "collapsed_sections": [],
      "toc_visible": true,
      "include_colab_link": true
    }
  },
  "cells": [
    {
      "cell_type": "markdown",
      "metadata": {
        "id": "view-in-github",
        "colab_type": "text"
      },
      "source": [
        "<a href=\"https://colab.research.google.com/github/AndreyDyachkov/Data_analytics_with_Python/blob/main/1_Data_cleaning_(YandexPracticum_eng).ipynb\" target=\"_parent\"><img src=\"https://colab.research.google.com/assets/colab-badge.svg\" alt=\"Open In Colab\"/></a>"
      ]
    },
    {
      "cell_type": "markdown",
      "metadata": {
        "id": "6srjGh3vvqbE"
      },
      "source": [
        "#  Creditworhtness analysis"
      ]
    },
    {
      "cell_type": "markdown",
      "metadata": {
        "id": "v4GYP0UlqpRM"
      },
      "source": [
        "<b>Task:</b> \n",
        "- Clean data \n",
        "- Evaluate whether the marital status or the number of children affects loan repayment.\n",
        "\n",
        "<b>Data description:</b>\n",
        "- children — number of children\n",
        "- days_employed — total work experience in days\n",
        "- dob_years — age\n",
        "- education \n",
        "- education_id \n",
        "- family_status \n",
        "- family_status_id \n",
        "- gender \n",
        "- income_type \n",
        "- debt — (1 - debt, 0 - none)\n",
        "- total_income - monthly income\n",
        "- purpose — purpose for a loan"
      ]
    },
    {
      "cell_type": "markdown",
      "metadata": {
        "id": "TETgEadpvqbF"
      },
      "source": [
        "### Stage 1. Get data"
      ]
    },
    {
      "cell_type": "markdown",
      "metadata": {
        "id": "usZuSBG3tx0W"
      },
      "source": [
        "#### Importing libraries"
      ]
    },
    {
      "cell_type": "code",
      "metadata": {
        "id": "o5iiOeKZt6Fm"
      },
      "source": [
        "import pandas as pd\n",
        "import numpy as np\n",
        "import matplotlib.pyplot as plt"
      ],
      "execution_count": null,
      "outputs": []
    },
    {
      "cell_type": "markdown",
      "metadata": {
        "id": "QFzhJryWt-A-"
      },
      "source": [
        "#### Reading csv file "
      ]
    },
    {
      "cell_type": "code",
      "metadata": {
        "id": "UWCA9Ak-wOwW",
        "colab": {
          "base_uri": "https://localhost:8080/"
        },
        "outputId": "73c632ed-13a2-4ea6-fe80-ba87e6c47aad"
      },
      "source": [
        "from google.colab import drive\n",
        "drive.mount('/content/drive')"
      ],
      "execution_count": null,
      "outputs": [
        {
          "output_type": "stream",
          "name": "stdout",
          "text": [
            "Mounted at /content/drive\n"
          ]
        }
      ]
    },
    {
      "cell_type": "code",
      "metadata": {
        "id": "qQMY8djqvqbG",
        "colab": {
          "base_uri": "https://localhost:8080/",
          "height": 206
        },
        "outputId": "a4958724-5f78-4ec9-e7df-cb015a4156f6"
      },
      "source": [
        "\n",
        "df = pd.read_csv('/content/drive/MyDrive/Colab Notebooks/Y_Praktikum/data/data.csv')\n",
        "df.head()"
      ],
      "execution_count": null,
      "outputs": [
        {
          "output_type": "execute_result",
          "data": {
            "text/html": [
              "<div>\n",
              "<style scoped>\n",
              "    .dataframe tbody tr th:only-of-type {\n",
              "        vertical-align: middle;\n",
              "    }\n",
              "\n",
              "    .dataframe tbody tr th {\n",
              "        vertical-align: top;\n",
              "    }\n",
              "\n",
              "    .dataframe thead th {\n",
              "        text-align: right;\n",
              "    }\n",
              "</style>\n",
              "<table border=\"1\" class=\"dataframe\">\n",
              "  <thead>\n",
              "    <tr style=\"text-align: right;\">\n",
              "      <th></th>\n",
              "      <th>children</th>\n",
              "      <th>days_employed</th>\n",
              "      <th>dob_years</th>\n",
              "      <th>education</th>\n",
              "      <th>education_id</th>\n",
              "      <th>family_status</th>\n",
              "      <th>family_status_id</th>\n",
              "      <th>gender</th>\n",
              "      <th>income_type</th>\n",
              "      <th>debt</th>\n",
              "      <th>total_income</th>\n",
              "      <th>purpose</th>\n",
              "    </tr>\n",
              "  </thead>\n",
              "  <tbody>\n",
              "    <tr>\n",
              "      <th>0</th>\n",
              "      <td>1</td>\n",
              "      <td>-8437.673028</td>\n",
              "      <td>42</td>\n",
              "      <td>высшее</td>\n",
              "      <td>0</td>\n",
              "      <td>женат / замужем</td>\n",
              "      <td>0</td>\n",
              "      <td>F</td>\n",
              "      <td>сотрудник</td>\n",
              "      <td>0</td>\n",
              "      <td>253875.639453</td>\n",
              "      <td>покупка жилья</td>\n",
              "    </tr>\n",
              "    <tr>\n",
              "      <th>1</th>\n",
              "      <td>1</td>\n",
              "      <td>-4024.803754</td>\n",
              "      <td>36</td>\n",
              "      <td>среднее</td>\n",
              "      <td>1</td>\n",
              "      <td>женат / замужем</td>\n",
              "      <td>0</td>\n",
              "      <td>F</td>\n",
              "      <td>сотрудник</td>\n",
              "      <td>0</td>\n",
              "      <td>112080.014102</td>\n",
              "      <td>приобретение автомобиля</td>\n",
              "    </tr>\n",
              "    <tr>\n",
              "      <th>2</th>\n",
              "      <td>0</td>\n",
              "      <td>-5623.422610</td>\n",
              "      <td>33</td>\n",
              "      <td>Среднее</td>\n",
              "      <td>1</td>\n",
              "      <td>женат / замужем</td>\n",
              "      <td>0</td>\n",
              "      <td>M</td>\n",
              "      <td>сотрудник</td>\n",
              "      <td>0</td>\n",
              "      <td>145885.952297</td>\n",
              "      <td>покупка жилья</td>\n",
              "    </tr>\n",
              "    <tr>\n",
              "      <th>3</th>\n",
              "      <td>3</td>\n",
              "      <td>-4124.747207</td>\n",
              "      <td>32</td>\n",
              "      <td>среднее</td>\n",
              "      <td>1</td>\n",
              "      <td>женат / замужем</td>\n",
              "      <td>0</td>\n",
              "      <td>M</td>\n",
              "      <td>сотрудник</td>\n",
              "      <td>0</td>\n",
              "      <td>267628.550329</td>\n",
              "      <td>дополнительное образование</td>\n",
              "    </tr>\n",
              "    <tr>\n",
              "      <th>4</th>\n",
              "      <td>0</td>\n",
              "      <td>340266.072047</td>\n",
              "      <td>53</td>\n",
              "      <td>среднее</td>\n",
              "      <td>1</td>\n",
              "      <td>гражданский брак</td>\n",
              "      <td>1</td>\n",
              "      <td>F</td>\n",
              "      <td>пенсионер</td>\n",
              "      <td>0</td>\n",
              "      <td>158616.077870</td>\n",
              "      <td>сыграть свадьбу</td>\n",
              "    </tr>\n",
              "  </tbody>\n",
              "</table>\n",
              "</div>"
            ],
            "text/plain": [
              "   children  days_employed  ...   total_income                     purpose\n",
              "0         1   -8437.673028  ...  253875.639453               покупка жилья\n",
              "1         1   -4024.803754  ...  112080.014102     приобретение автомобиля\n",
              "2         0   -5623.422610  ...  145885.952297               покупка жилья\n",
              "3         3   -4124.747207  ...  267628.550329  дополнительное образование\n",
              "4         0  340266.072047  ...  158616.077870             сыграть свадьбу\n",
              "\n",
              "[5 rows x 12 columns]"
            ]
          },
          "metadata": {},
          "execution_count": 3
        }
      ]
    },
    {
      "cell_type": "markdown",
      "metadata": {
        "id": "Y1KTdvH1vqbG"
      },
      "source": [
        "#### Searching for missing data, duplicate values. Checking data types."
      ]
    },
    {
      "cell_type": "code",
      "metadata": {
        "colab": {
          "base_uri": "https://localhost:8080/"
        },
        "id": "wkmpX1XTs8Q3",
        "outputId": "9b0cde5d-a0ae-4998-9bad-87377d7c5bf2"
      },
      "source": [
        "df.shape"
      ],
      "execution_count": null,
      "outputs": [
        {
          "output_type": "execute_result",
          "data": {
            "text/plain": [
              "(21525, 12)"
            ]
          },
          "metadata": {},
          "execution_count": 4
        }
      ]
    },
    {
      "cell_type": "code",
      "metadata": {
        "colab": {
          "base_uri": "https://localhost:8080/"
        },
        "id": "eQufN7_JtXX9",
        "outputId": "ec8a8af9-c658-44f2-a033-ca354bdcedaa"
      },
      "source": [
        "df.duplicated().sum()"
      ],
      "execution_count": null,
      "outputs": [
        {
          "output_type": "execute_result",
          "data": {
            "text/plain": [
              "54"
            ]
          },
          "metadata": {},
          "execution_count": 5
        }
      ]
    },
    {
      "cell_type": "code",
      "metadata": {
        "colab": {
          "base_uri": "https://localhost:8080/"
        },
        "id": "8E2h66nkvFI3",
        "outputId": "237c8d35-06e9-47d8-d5fa-c0ffa46699ac"
      },
      "source": [
        "df = df.drop_duplicates().reset_index(drop=True)\n",
        "df.duplicated().sum()"
      ],
      "execution_count": null,
      "outputs": [
        {
          "output_type": "execute_result",
          "data": {
            "text/plain": [
              "0"
            ]
          },
          "metadata": {},
          "execution_count": 6
        }
      ]
    },
    {
      "cell_type": "code",
      "metadata": {
        "id": "eSHfoVn6vqbH",
        "colab": {
          "base_uri": "https://localhost:8080/"
        },
        "outputId": "09f0ad3e-f324-4a1c-d69f-90e499b6e185"
      },
      "source": [
        "df.info()"
      ],
      "execution_count": null,
      "outputs": [
        {
          "output_type": "stream",
          "name": "stdout",
          "text": [
            "<class 'pandas.core.frame.DataFrame'>\n",
            "RangeIndex: 21471 entries, 0 to 21470\n",
            "Data columns (total 12 columns):\n",
            " #   Column            Non-Null Count  Dtype  \n",
            "---  ------            --------------  -----  \n",
            " 0   children          21471 non-null  int64  \n",
            " 1   days_employed     19351 non-null  float64\n",
            " 2   dob_years         21471 non-null  int64  \n",
            " 3   education         21471 non-null  object \n",
            " 4   education_id      21471 non-null  int64  \n",
            " 5   family_status     21471 non-null  object \n",
            " 6   family_status_id  21471 non-null  int64  \n",
            " 7   gender            21471 non-null  object \n",
            " 8   income_type       21471 non-null  object \n",
            " 9   debt              21471 non-null  int64  \n",
            " 10  total_income      19351 non-null  float64\n",
            " 11  purpose           21471 non-null  object \n",
            "dtypes: float64(2), int64(5), object(5)\n",
            "memory usage: 2.0+ MB\n"
          ]
        }
      ]
    },
    {
      "cell_type": "code",
      "metadata": {
        "colab": {
          "base_uri": "https://localhost:8080/"
        },
        "id": "bJQ8v7u5Oi6Z",
        "outputId": "040f1c83-3334-40a0-ded8-34caaf29f1a8"
      },
      "source": [
        "df.isnull().sum().sum()"
      ],
      "execution_count": null,
      "outputs": [
        {
          "output_type": "execute_result",
          "data": {
            "text/plain": [
              "4240"
            ]
          },
          "metadata": {},
          "execution_count": 8
        }
      ]
    },
    {
      "cell_type": "code",
      "metadata": {
        "colab": {
          "base_uri": "https://localhost:8080/"
        },
        "id": "IedqErzIOjHf",
        "outputId": "9660de1b-5c3f-4854-fa89-5488f154c898"
      },
      "source": [
        "df.isnull().sum()"
      ],
      "execution_count": null,
      "outputs": [
        {
          "output_type": "execute_result",
          "data": {
            "text/plain": [
              "children               0\n",
              "days_employed       2120\n",
              "dob_years              0\n",
              "education              0\n",
              "education_id           0\n",
              "family_status          0\n",
              "family_status_id       0\n",
              "gender                 0\n",
              "income_type            0\n",
              "debt                   0\n",
              "total_income        2120\n",
              "purpose                0\n",
              "dtype: int64"
            ]
          },
          "metadata": {},
          "execution_count": 9
        }
      ]
    },
    {
      "cell_type": "code",
      "metadata": {
        "colab": {
          "base_uri": "https://localhost:8080/"
        },
        "id": "8gT6SHaRO8Cq",
        "outputId": "7cc581fa-690e-4ee2-d030-53c22958f436"
      },
      "source": [
        "df.isnull().mean().round(3)"
      ],
      "execution_count": null,
      "outputs": [
        {
          "output_type": "execute_result",
          "data": {
            "text/plain": [
              "children            0.000\n",
              "days_employed       0.099\n",
              "dob_years           0.000\n",
              "education           0.000\n",
              "education_id        0.000\n",
              "family_status       0.000\n",
              "family_status_id    0.000\n",
              "gender              0.000\n",
              "income_type         0.000\n",
              "debt                0.000\n",
              "total_income        0.099\n",
              "purpose             0.000\n",
              "dtype: float64"
            ]
          },
          "metadata": {},
          "execution_count": 10
        }
      ]
    },
    {
      "cell_type": "markdown",
      "metadata": {
        "id": "lORP0FjutE9v"
      },
      "source": [
        "<b>Results:</b> The data frame consists of 12 columns, 21525 rows. Found 54 duplicates. According to the task we deleted duplicates. Two columns miss 9.9% of entries. Data types are not perfect in some columns. We will fix it on the next stage."
      ]
    },
    {
      "cell_type": "markdown",
      "metadata": {
        "id": "mUilYmmrvqbH"
      },
      "source": [
        "#### Getting descriptive statistics for the dataset"
      ]
    },
    {
      "cell_type": "code",
      "metadata": {
        "id": "pP4cu0N7vqbH",
        "colab": {
          "base_uri": "https://localhost:8080/",
          "height": 300
        },
        "outputId": "99ec4e70-f740-4cf1-c63e-607763e66aa6"
      },
      "source": [
        "df.describe()"
      ],
      "execution_count": null,
      "outputs": [
        {
          "output_type": "execute_result",
          "data": {
            "text/html": [
              "<div>\n",
              "<style scoped>\n",
              "    .dataframe tbody tr th:only-of-type {\n",
              "        vertical-align: middle;\n",
              "    }\n",
              "\n",
              "    .dataframe tbody tr th {\n",
              "        vertical-align: top;\n",
              "    }\n",
              "\n",
              "    .dataframe thead th {\n",
              "        text-align: right;\n",
              "    }\n",
              "</style>\n",
              "<table border=\"1\" class=\"dataframe\">\n",
              "  <thead>\n",
              "    <tr style=\"text-align: right;\">\n",
              "      <th></th>\n",
              "      <th>children</th>\n",
              "      <th>days_employed</th>\n",
              "      <th>dob_years</th>\n",
              "      <th>education_id</th>\n",
              "      <th>family_status_id</th>\n",
              "      <th>debt</th>\n",
              "      <th>total_income</th>\n",
              "    </tr>\n",
              "  </thead>\n",
              "  <tbody>\n",
              "    <tr>\n",
              "      <th>count</th>\n",
              "      <td>21471.000000</td>\n",
              "      <td>19351.000000</td>\n",
              "      <td>21471.000000</td>\n",
              "      <td>21471.000000</td>\n",
              "      <td>21471.000000</td>\n",
              "      <td>21471.000000</td>\n",
              "      <td>1.935100e+04</td>\n",
              "    </tr>\n",
              "    <tr>\n",
              "      <th>mean</th>\n",
              "      <td>0.539565</td>\n",
              "      <td>63046.497661</td>\n",
              "      <td>43.279074</td>\n",
              "      <td>0.817195</td>\n",
              "      <td>0.973685</td>\n",
              "      <td>0.081086</td>\n",
              "      <td>1.674223e+05</td>\n",
              "    </tr>\n",
              "    <tr>\n",
              "      <th>std</th>\n",
              "      <td>1.382978</td>\n",
              "      <td>140827.311974</td>\n",
              "      <td>12.574291</td>\n",
              "      <td>0.548508</td>\n",
              "      <td>1.421082</td>\n",
              "      <td>0.272974</td>\n",
              "      <td>1.029716e+05</td>\n",
              "    </tr>\n",
              "    <tr>\n",
              "      <th>min</th>\n",
              "      <td>-1.000000</td>\n",
              "      <td>-18388.949901</td>\n",
              "      <td>0.000000</td>\n",
              "      <td>0.000000</td>\n",
              "      <td>0.000000</td>\n",
              "      <td>0.000000</td>\n",
              "      <td>2.066726e+04</td>\n",
              "    </tr>\n",
              "    <tr>\n",
              "      <th>25%</th>\n",
              "      <td>0.000000</td>\n",
              "      <td>-2747.423625</td>\n",
              "      <td>33.000000</td>\n",
              "      <td>1.000000</td>\n",
              "      <td>0.000000</td>\n",
              "      <td>0.000000</td>\n",
              "      <td>1.030532e+05</td>\n",
              "    </tr>\n",
              "    <tr>\n",
              "      <th>50%</th>\n",
              "      <td>0.000000</td>\n",
              "      <td>-1203.369529</td>\n",
              "      <td>42.000000</td>\n",
              "      <td>1.000000</td>\n",
              "      <td>0.000000</td>\n",
              "      <td>0.000000</td>\n",
              "      <td>1.450179e+05</td>\n",
              "    </tr>\n",
              "    <tr>\n",
              "      <th>75%</th>\n",
              "      <td>1.000000</td>\n",
              "      <td>-291.095954</td>\n",
              "      <td>53.000000</td>\n",
              "      <td>1.000000</td>\n",
              "      <td>1.000000</td>\n",
              "      <td>0.000000</td>\n",
              "      <td>2.034351e+05</td>\n",
              "    </tr>\n",
              "    <tr>\n",
              "      <th>max</th>\n",
              "      <td>20.000000</td>\n",
              "      <td>401755.400475</td>\n",
              "      <td>75.000000</td>\n",
              "      <td>4.000000</td>\n",
              "      <td>4.000000</td>\n",
              "      <td>1.000000</td>\n",
              "      <td>2.265604e+06</td>\n",
              "    </tr>\n",
              "  </tbody>\n",
              "</table>\n",
              "</div>"
            ],
            "text/plain": [
              "           children  days_employed  ...          debt  total_income\n",
              "count  21471.000000   19351.000000  ...  21471.000000  1.935100e+04\n",
              "mean       0.539565   63046.497661  ...      0.081086  1.674223e+05\n",
              "std        1.382978  140827.311974  ...      0.272974  1.029716e+05\n",
              "min       -1.000000  -18388.949901  ...      0.000000  2.066726e+04\n",
              "25%        0.000000   -2747.423625  ...      0.000000  1.030532e+05\n",
              "50%        0.000000   -1203.369529  ...      0.000000  1.450179e+05\n",
              "75%        1.000000    -291.095954  ...      0.000000  2.034351e+05\n",
              "max       20.000000  401755.400475  ...      1.000000  2.265604e+06\n",
              "\n",
              "[8 rows x 7 columns]"
            ]
          },
          "metadata": {},
          "execution_count": 11
        }
      ]
    },
    {
      "cell_type": "code",
      "metadata": {
        "id": "Fd_JCBotvqbI",
        "colab": {
          "base_uri": "https://localhost:8080/",
          "height": 175
        },
        "outputId": "8c9671fd-accf-4a8f-d795-9c0385b16158"
      },
      "source": [
        "df[['education','family_status','gender','income_type','purpose']].describe()"
      ],
      "execution_count": null,
      "outputs": [
        {
          "output_type": "execute_result",
          "data": {
            "text/html": [
              "<div>\n",
              "<style scoped>\n",
              "    .dataframe tbody tr th:only-of-type {\n",
              "        vertical-align: middle;\n",
              "    }\n",
              "\n",
              "    .dataframe tbody tr th {\n",
              "        vertical-align: top;\n",
              "    }\n",
              "\n",
              "    .dataframe thead th {\n",
              "        text-align: right;\n",
              "    }\n",
              "</style>\n",
              "<table border=\"1\" class=\"dataframe\">\n",
              "  <thead>\n",
              "    <tr style=\"text-align: right;\">\n",
              "      <th></th>\n",
              "      <th>education</th>\n",
              "      <th>family_status</th>\n",
              "      <th>gender</th>\n",
              "      <th>income_type</th>\n",
              "      <th>purpose</th>\n",
              "    </tr>\n",
              "  </thead>\n",
              "  <tbody>\n",
              "    <tr>\n",
              "      <th>count</th>\n",
              "      <td>21471</td>\n",
              "      <td>21471</td>\n",
              "      <td>21471</td>\n",
              "      <td>21471</td>\n",
              "      <td>21471</td>\n",
              "    </tr>\n",
              "    <tr>\n",
              "      <th>unique</th>\n",
              "      <td>15</td>\n",
              "      <td>5</td>\n",
              "      <td>3</td>\n",
              "      <td>8</td>\n",
              "      <td>38</td>\n",
              "    </tr>\n",
              "    <tr>\n",
              "      <th>top</th>\n",
              "      <td>среднее</td>\n",
              "      <td>женат / замужем</td>\n",
              "      <td>F</td>\n",
              "      <td>сотрудник</td>\n",
              "      <td>свадьба</td>\n",
              "    </tr>\n",
              "    <tr>\n",
              "      <th>freq</th>\n",
              "      <td>13705</td>\n",
              "      <td>12344</td>\n",
              "      <td>14189</td>\n",
              "      <td>11091</td>\n",
              "      <td>793</td>\n",
              "    </tr>\n",
              "  </tbody>\n",
              "</table>\n",
              "</div>"
            ],
            "text/plain": [
              "       education    family_status gender income_type  purpose\n",
              "count      21471            21471  21471       21471    21471\n",
              "unique        15                5      3           8       38\n",
              "top      среднее  женат / замужем      F   сотрудник  свадьба\n",
              "freq       13705            12344  14189       11091      793"
            ]
          },
          "metadata": {},
          "execution_count": 12
        }
      ]
    },
    {
      "cell_type": "markdown",
      "metadata": {
        "id": "5GgVI3d8vqbI"
      },
      "source": [
        "### Data quality (Stage 1). \n",
        "By columns:\n",
        "- children (the number of children in a family). There are negative values and too high positive values. Median = 0, i.e. more than half of borrowers do not have children.\n",
        "- days_employed (work experience in days). Most values are negative (at least to 75th percentile) and the maximum value is too high (401755/365=1100 years). A float data type can be changed into an integer data type. Around 2000 entries are missing.\n",
        "- dob_years (client's age in years). There are zero values. We can assume normal distribution as the median is almost equal to the mean.\n",
        "- education (string), education_id (integer). The number of unique values is not the same in these columns (15 vs 5). Two columns is excessive. We can remove one of them.\n",
        "- family_status (string), family_status_id (integer). 5 unique values. We can remove one of the columns.\n",
        "- gender.  The column has 3 unique genders which could be a mistake.\n",
        "- income_type. 8 unique values.\n",
        "- debt (payment delinquency in the credit history) - 2 unique values - should be boolean.\n",
        "- total_income (per month). Around 2000 entries are missing, which is similar to the days_employed column. Missing values could describe an unemployed person or be a mistake (can be checked by income_type). Data type float can be changed to integer.\n",
        "- purpose (for the loan). 38 unique purposes which are too many for the analysis. Combining into several categories could be a solution."
      ]
    },
    {
      "cell_type": "markdown",
      "metadata": {
        "id": "BEPJYjOuvqbK"
      },
      "source": [
        "### Stage 2. Data processing"
      ]
    },
    {
      "cell_type": "markdown",
      "metadata": {
        "id": "yfk3XnA7vqbL"
      },
      "source": [
        "#### Column: children. Checking distribution and fixing wrong values"
      ]
    },
    {
      "cell_type": "code",
      "metadata": {
        "colab": {
          "base_uri": "https://localhost:8080/",
          "height": 404
        },
        "id": "_FWdEysoTQKZ",
        "outputId": "f94f48b2-ef9d-4a22-d57e-32bb18f557ea"
      },
      "source": [
        "df['children'].hist(bins=30, figsize=(12,6))\n",
        "plt.title('Number of children')\n",
        "plt.xlabel('Number of children')\n",
        "plt.ylabel('Frequency')\n",
        "plt.show()"
      ],
      "execution_count": null,
      "outputs": [
        {
          "output_type": "display_data",
          "data": {
            "image/png": "[encoded data removed]",
            "text/plain": [
              "<Figure size 864x432 with 1 Axes>"
            ]
          },
          "metadata": {
            "needs_background": "light"
          }
        }
      ]
    },
    {
      "cell_type": "code",
      "metadata": {
        "scrolled": true,
        "id": "c012kq-KvqbM",
        "colab": {
          "base_uri": "https://localhost:8080/"
        },
        "outputId": "5d530567-44d2-4a01-9f76-fa8ea23acd79"
      },
      "source": [
        "df['children'].value_counts()"
      ],
      "execution_count": null,
      "outputs": [
        {
          "output_type": "execute_result",
          "data": {
            "text/plain": [
              " 0     14107\n",
              " 1      4809\n",
              " 2      2052\n",
              " 3       330\n",
              " 20       76\n",
              "-1        47\n",
              " 4        41\n",
              " 5         9\n",
              "Name: children, dtype: int64"
            ]
          },
          "metadata": {},
          "execution_count": 14
        }
      ]
    },
    {
      "cell_type": "code",
      "metadata": {
        "id": "WlRSBLrnvqbP",
        "colab": {
          "base_uri": "https://localhost:8080/"
        },
        "outputId": "533bc420-ba09-4854-a369-b3835f28d04c"
      },
      "source": [
        "df['children'] = df['children'].replace([-1,20],[1,2])\n",
        "df['children'].value_counts()"
      ],
      "execution_count": null,
      "outputs": [
        {
          "output_type": "execute_result",
          "data": {
            "text/plain": [
              "0    14107\n",
              "1     4856\n",
              "2     2128\n",
              "3      330\n",
              "4       41\n",
              "5        9\n",
              "Name: children, dtype: int64"
            ]
          },
          "metadata": {},
          "execution_count": 15
        }
      ]
    },
    {
      "cell_type": "markdown",
      "metadata": {
        "id": "4frJwsgwvqbN"
      },
      "source": [
        "<b>Conclusion:</b> Values 20 and -1 are mistakes. Overall, the percent of mistakes is low ((76+47)/21471 = 0.6%). According to the task we change these misprints to 2 and 1, respectively."
      ]
    },
    {
      "cell_type": "markdown",
      "metadata": {
        "id": "1Y7FgQ2evqbQ"
      },
      "source": [
        "#### Column: dob_years. Check for wrong values"
      ]
    },
    {
      "cell_type": "code",
      "metadata": {
        "colab": {
          "base_uri": "https://localhost:8080/",
          "height": 404
        },
        "id": "foRz7yWdWthV",
        "outputId": "5a7dd9cc-7813-431d-a82e-825f0a8d903e"
      },
      "source": [
        "df['dob_years'].hist(bins=100, figsize=(12,6))\n",
        "plt.title('Age distribution')\n",
        "plt.xlabel('Age')\n",
        "plt.ylabel('Frequency')\n",
        "plt.show()"
      ],
      "execution_count": null,
      "outputs": [
        {
          "output_type": "display_data",
          "data": {
            "image/png": "[encoded data removed]",
            "text/plain": [
              "<Figure size 864x432 with 1 Axes>"
            ]
          },
          "metadata": {
            "needs_background": "light"
          }
        }
      ]
    },
    {
      "cell_type": "code",
      "metadata": {
        "id": "JTg3L9sMvqbQ",
        "colab": {
          "base_uri": "https://localhost:8080/"
        },
        "outputId": "887dbd1b-0719-4d0c-c59e-435b5f3f51ca"
      },
      "source": [
        "df[df['dob_years']==0]['dob_years'].count()"
      ],
      "execution_count": null,
      "outputs": [
        {
          "output_type": "execute_result",
          "data": {
            "text/plain": [
              "101"
            ]
          },
          "metadata": {},
          "execution_count": 17
        }
      ]
    },
    {
      "cell_type": "markdown",
      "metadata": {
        "id": "KMdgWuievqbQ"
      },
      "source": [
        "<b>Conclusion:</b>  0 value is wrong (children do not apply for a loan). The proportion of errors is small (101/21471 = 0.5%). We will change 0 to the average by income_type, as it allows us to choose a more precise age for each group (pensioners, students, etc.)"
      ]
    },
    {
      "cell_type": "code",
      "metadata": {
        "id": "WQs_keAivqbR",
        "colab": {
          "base_uri": "https://localhost:8080/"
        },
        "outputId": "22e212c8-f66d-447f-9438-50e8e507065d"
      },
      "source": [
        "for income_type in df['income_type'].unique():\n",
        "    mean = round(df[df['income_type']==income_type]['dob_years'].mean(),1)\n",
        "    print(income_type, mean)\n",
        "    df.loc[(df['dob_years']==0)&(df['income_type']==income_type),'dob_years'] = mean"
      ],
      "execution_count": null,
      "outputs": [
        {
          "output_type": "stream",
          "name": "stdout",
          "text": [
            "сотрудник 39.8\n",
            "пенсионер 59.1\n",
            "компаньон 39.7\n",
            "госслужащий 40.6\n",
            "безработный 38.0\n",
            "предприниматель 42.5\n",
            "студент 22.0\n",
            "в декрете 39.0\n"
          ]
        }
      ]
    },
    {
      "cell_type": "code",
      "metadata": {
        "id": "NimYcabmvqbR",
        "colab": {
          "base_uri": "https://localhost:8080/"
        },
        "outputId": "524936e8-47f7-4708-c72c-f541fddd0f12"
      },
      "source": [
        "df[df['dob_years']==0]['dob_years'].count()"
      ],
      "execution_count": null,
      "outputs": [
        {
          "output_type": "execute_result",
          "data": {
            "text/plain": [
              "0"
            ]
          },
          "metadata": {},
          "execution_count": 19
        }
      ]
    },
    {
      "cell_type": "markdown",
      "metadata": {
        "id": "K7524z2KvqbR"
      },
      "source": [
        "Alternative code:\n",
        "    \n",
        "`df['dob_years'] = df.groupby('income_type')['dob_years'].transform(lambda x: x.replace(0, int(x.median())))`\n"
      ]
    },
    {
      "cell_type": "markdown",
      "metadata": {
        "id": "a_XCPFmUvqbR"
      },
      "source": [
        "#### Columns: education and education_id. Check for errors"
      ]
    },
    {
      "cell_type": "code",
      "metadata": {
        "id": "8K4AmSh3vqbS",
        "colab": {
          "base_uri": "https://localhost:8080/"
        },
        "outputId": "5d96501b-8abe-41f0-e04f-c0f36559d514"
      },
      "source": [
        "df.groupby(['education_id','education'])['education_id'].count()"
      ],
      "execution_count": null,
      "outputs": [
        {
          "output_type": "execute_result",
          "data": {
            "text/plain": [
              "education_id  education          \n",
              "0             ВЫСШЕЕ                   273\n",
              "              Высшее                   268\n",
              "              высшее                  4710\n",
              "1             СРЕДНЕЕ                  772\n",
              "              Среднее                  711\n",
              "              среднее                13705\n",
              "2             НЕОКОНЧЕННОЕ ВЫСШЕЕ       29\n",
              "              Неоконченное высшее       47\n",
              "              неоконченное высшее      668\n",
              "3             НАЧАЛЬНОЕ                 17\n",
              "              Начальное                 15\n",
              "              начальное                250\n",
              "4             УЧЕНАЯ СТЕПЕНЬ             1\n",
              "              Ученая степень             1\n",
              "              ученая степень             4\n",
              "Name: education_id, dtype: int64"
            ]
          },
          "metadata": {},
          "execution_count": 20
        }
      ]
    },
    {
      "cell_type": "code",
      "metadata": {
        "id": "p5bGrnCRvqbS",
        "colab": {
          "base_uri": "https://localhost:8080/"
        },
        "outputId": "51f6118d-5daf-4030-a0bf-8ad3d17bce19"
      },
      "source": [
        "df['education'] = df['education'].str.lower()\n",
        "df.groupby(['education_id','education'])['education_id'].count()"
      ],
      "execution_count": null,
      "outputs": [
        {
          "output_type": "execute_result",
          "data": {
            "text/plain": [
              "education_id  education          \n",
              "0             высшее                  5251\n",
              "1             среднее                15188\n",
              "2             неоконченное высшее      744\n",
              "3             начальное                282\n",
              "4             ученая степень             6\n",
              "Name: education_id, dtype: int64"
            ]
          },
          "metadata": {},
          "execution_count": 21
        }
      ]
    },
    {
      "cell_type": "code",
      "metadata": {
        "id": "szRlc27ZaJAY"
      },
      "source": [
        "df.drop('education_id', axis=1, inplace=True)"
      ],
      "execution_count": null,
      "outputs": []
    },
    {
      "cell_type": "markdown",
      "metadata": {
        "id": "1ySzKd56vqbS"
      },
      "source": [
        "<b>Conclusion:</b> There are duplicates in the education column. We fixed that by converting strings to lower case.  Also we removed education_id."
      ]
    },
    {
      "cell_type": "markdown",
      "metadata": {
        "id": "tkEn8Ct-vqbT"
      },
      "source": [
        "#### Columns: family_status и family_status_id. Check for errors"
      ]
    },
    {
      "cell_type": "code",
      "metadata": {
        "id": "DqHQnVMJvqbU",
        "colab": {
          "base_uri": "https://localhost:8080/"
        },
        "outputId": "504b1b59-8665-4165-a6c4-b4aea91a6ff2"
      },
      "source": [
        "df.groupby(['family_status_id','family_status'])['family_status_id'].count()"
      ],
      "execution_count": null,
      "outputs": [
        {
          "output_type": "execute_result",
          "data": {
            "text/plain": [
              "family_status_id  family_status        \n",
              "0                 женат / замужем          12344\n",
              "1                 гражданский брак          4163\n",
              "2                 вдовец / вдова             959\n",
              "3                 в разводе                 1195\n",
              "4                 Не женат / не замужем     2810\n",
              "Name: family_status_id, dtype: int64"
            ]
          },
          "metadata": {},
          "execution_count": 23
        }
      ]
    },
    {
      "cell_type": "code",
      "metadata": {
        "id": "OdBEH9ODvqbV",
        "colab": {
          "base_uri": "https://localhost:8080/"
        },
        "outputId": "ee4c6350-f6a9-4db3-c43c-56b416e25d07"
      },
      "source": [
        "df['family_status'] = df['family_status'].str.lower()\n",
        "df.groupby(['family_status_id','family_status'])['family_status_id'].count()"
      ],
      "execution_count": null,
      "outputs": [
        {
          "output_type": "execute_result",
          "data": {
            "text/plain": [
              "family_status_id  family_status        \n",
              "0                 женат / замужем          12344\n",
              "1                 гражданский брак          4163\n",
              "2                 вдовец / вдова             959\n",
              "3                 в разводе                 1195\n",
              "4                 не женат / не замужем     2810\n",
              "Name: family_status_id, dtype: int64"
            ]
          },
          "metadata": {},
          "execution_count": 24
        }
      ]
    },
    {
      "cell_type": "code",
      "metadata": {
        "id": "WOQj74tZ1Igh"
      },
      "source": [
        "df.drop('family_status_id', axis=1, inplace=True)"
      ],
      "execution_count": null,
      "outputs": []
    },
    {
      "cell_type": "markdown",
      "metadata": {
        "id": "9HJa9-qavqbU"
      },
      "source": [
        "<b>Conclusion:</b>  Converted to lower case and deleted family_status_id"
      ]
    },
    {
      "cell_type": "markdown",
      "metadata": {
        "id": "CNkNc4ZBvqbV"
      },
      "source": [
        "#### Column: gender. Check for errors"
      ]
    },
    {
      "cell_type": "code",
      "metadata": {
        "id": "Re7zTfX5vqbV",
        "colab": {
          "base_uri": "https://localhost:8080/"
        },
        "outputId": "ac288e5f-9267-43b6-dd2b-55c728c000fe"
      },
      "source": [
        "df['gender'].value_counts()"
      ],
      "execution_count": null,
      "outputs": [
        {
          "output_type": "execute_result",
          "data": {
            "text/plain": [
              "F      14189\n",
              "M       7281\n",
              "XNA        1\n",
              "Name: gender, dtype: int64"
            ]
          },
          "metadata": {},
          "execution_count": 26
        }
      ]
    },
    {
      "cell_type": "code",
      "metadata": {
        "id": "Q9UoriwZvqbX",
        "colab": {
          "base_uri": "https://localhost:8080/"
        },
        "outputId": "5fbae4cd-feb4-490b-f217-1361f269a832"
      },
      "source": [
        "df['gender'] = df['gender'].replace('XNA','F')\n",
        "df['gender'].value_counts()"
      ],
      "execution_count": null,
      "outputs": [
        {
          "output_type": "execute_result",
          "data": {
            "text/plain": [
              "F    14190\n",
              "M     7281\n",
              "Name: gender, dtype: int64"
            ]
          },
          "metadata": {},
          "execution_count": 27
        }
      ]
    },
    {
      "cell_type": "markdown",
      "metadata": {
        "id": "Ghv5fvBnvqbX"
      },
      "source": [
        "<b>Conclusion:</b>  According to the task, XNA is a misprint. So we changed that value with the most popular gender (female)."
      ]
    },
    {
      "cell_type": "markdown",
      "metadata": {
        "id": "34dQ7j1mvqbX"
      },
      "source": [
        "#### Column: income_type. Check for errors"
      ]
    },
    {
      "cell_type": "code",
      "metadata": {
        "id": "00H7G4QrvqbY",
        "colab": {
          "base_uri": "https://localhost:8080/"
        },
        "outputId": "a0c2f8dc-9105-4f52-9108-e187405faea8"
      },
      "source": [
        "df['income_type'].value_counts()"
      ],
      "execution_count": null,
      "outputs": [
        {
          "output_type": "execute_result",
          "data": {
            "text/plain": [
              "сотрудник          11091\n",
              "компаньон           5080\n",
              "пенсионер           3837\n",
              "госслужащий         1457\n",
              "предприниматель        2\n",
              "безработный            2\n",
              "в декрете              1\n",
              "студент                1\n",
              "Name: income_type, dtype: int64"
            ]
          },
          "metadata": {},
          "execution_count": 28
        }
      ]
    },
    {
      "cell_type": "markdown",
      "metadata": {
        "id": "tWRTDsmkvqbY"
      },
      "source": [
        "<b>Conclusion:</b>  Looks good"
      ]
    },
    {
      "cell_type": "markdown",
      "metadata": {
        "id": "9tMpYYyvvqbY"
      },
      "source": [
        "#### Column: debt"
      ]
    },
    {
      "cell_type": "code",
      "metadata": {
        "id": "vZhJ7-34vqbY",
        "colab": {
          "base_uri": "https://localhost:8080/"
        },
        "outputId": "03b5f650-9447-419d-9b22-b31552b8bed6"
      },
      "source": [
        "df['debt'].value_counts()"
      ],
      "execution_count": null,
      "outputs": [
        {
          "output_type": "execute_result",
          "data": {
            "text/plain": [
              "0    19730\n",
              "1     1741\n",
              "Name: debt, dtype: int64"
            ]
          },
          "metadata": {},
          "execution_count": 29
        }
      ]
    },
    {
      "cell_type": "markdown",
      "metadata": {
        "id": "5A4WuGf8vqbZ"
      },
      "source": [
        "<b>Conclusion:</b>   Looks good"
      ]
    },
    {
      "cell_type": "markdown",
      "metadata": {
        "id": "4DZi8tcFvqbZ"
      },
      "source": [
        "#### Columns: total_income и days_employed. Checking missing values and mistakes"
      ]
    },
    {
      "cell_type": "markdown",
      "metadata": {
        "id": "fp94j8Ezr8Wn"
      },
      "source": [
        "We will check both columns together as missing values in those columns are allegedly connected. Look at the rows with missing values in both columns:"
      ]
    },
    {
      "cell_type": "code",
      "metadata": {
        "id": "KwkPQeFrvqbZ",
        "colab": {
          "base_uri": "https://localhost:8080/",
          "height": 424
        },
        "outputId": "781702ef-2444-4b59-cf93-49166413616a"
      },
      "source": [
        "df[(df['total_income'].isnull())&(df['days_employed'].isnull())]"
      ],
      "execution_count": null,
      "outputs": [
        {
          "output_type": "execute_result",
          "data": {
            "text/html": [
              "<div>\n",
              "<style scoped>\n",
              "    .dataframe tbody tr th:only-of-type {\n",
              "        vertical-align: middle;\n",
              "    }\n",
              "\n",
              "    .dataframe tbody tr th {\n",
              "        vertical-align: top;\n",
              "    }\n",
              "\n",
              "    .dataframe thead th {\n",
              "        text-align: right;\n",
              "    }\n",
              "</style>\n",
              "<table border=\"1\" class=\"dataframe\">\n",
              "  <thead>\n",
              "    <tr style=\"text-align: right;\">\n",
              "      <th></th>\n",
              "      <th>children</th>\n",
              "      <th>days_employed</th>\n",
              "      <th>dob_years</th>\n",
              "      <th>education</th>\n",
              "      <th>family_status</th>\n",
              "      <th>gender</th>\n",
              "      <th>income_type</th>\n",
              "      <th>debt</th>\n",
              "      <th>total_income</th>\n",
              "      <th>purpose</th>\n",
              "    </tr>\n",
              "  </thead>\n",
              "  <tbody>\n",
              "    <tr>\n",
              "      <th>12</th>\n",
              "      <td>0</td>\n",
              "      <td>NaN</td>\n",
              "      <td>65.0</td>\n",
              "      <td>среднее</td>\n",
              "      <td>гражданский брак</td>\n",
              "      <td>M</td>\n",
              "      <td>пенсионер</td>\n",
              "      <td>0</td>\n",
              "      <td>NaN</td>\n",
              "      <td>сыграть свадьбу</td>\n",
              "    </tr>\n",
              "    <tr>\n",
              "      <th>26</th>\n",
              "      <td>0</td>\n",
              "      <td>NaN</td>\n",
              "      <td>41.0</td>\n",
              "      <td>среднее</td>\n",
              "      <td>женат / замужем</td>\n",
              "      <td>M</td>\n",
              "      <td>госслужащий</td>\n",
              "      <td>0</td>\n",
              "      <td>NaN</td>\n",
              "      <td>образование</td>\n",
              "    </tr>\n",
              "    <tr>\n",
              "      <th>29</th>\n",
              "      <td>0</td>\n",
              "      <td>NaN</td>\n",
              "      <td>63.0</td>\n",
              "      <td>среднее</td>\n",
              "      <td>не женат / не замужем</td>\n",
              "      <td>F</td>\n",
              "      <td>пенсионер</td>\n",
              "      <td>0</td>\n",
              "      <td>NaN</td>\n",
              "      <td>строительство жилой недвижимости</td>\n",
              "    </tr>\n",
              "    <tr>\n",
              "      <th>41</th>\n",
              "      <td>0</td>\n",
              "      <td>NaN</td>\n",
              "      <td>50.0</td>\n",
              "      <td>среднее</td>\n",
              "      <td>женат / замужем</td>\n",
              "      <td>F</td>\n",
              "      <td>госслужащий</td>\n",
              "      <td>0</td>\n",
              "      <td>NaN</td>\n",
              "      <td>сделка с подержанным автомобилем</td>\n",
              "    </tr>\n",
              "    <tr>\n",
              "      <th>55</th>\n",
              "      <td>0</td>\n",
              "      <td>NaN</td>\n",
              "      <td>54.0</td>\n",
              "      <td>среднее</td>\n",
              "      <td>гражданский брак</td>\n",
              "      <td>F</td>\n",
              "      <td>пенсионер</td>\n",
              "      <td>1</td>\n",
              "      <td>NaN</td>\n",
              "      <td>сыграть свадьбу</td>\n",
              "    </tr>\n",
              "    <tr>\n",
              "      <th>...</th>\n",
              "      <td>...</td>\n",
              "      <td>...</td>\n",
              "      <td>...</td>\n",
              "      <td>...</td>\n",
              "      <td>...</td>\n",
              "      <td>...</td>\n",
              "      <td>...</td>\n",
              "      <td>...</td>\n",
              "      <td>...</td>\n",
              "      <td>...</td>\n",
              "    </tr>\n",
              "    <tr>\n",
              "      <th>21435</th>\n",
              "      <td>2</td>\n",
              "      <td>NaN</td>\n",
              "      <td>47.0</td>\n",
              "      <td>среднее</td>\n",
              "      <td>женат / замужем</td>\n",
              "      <td>M</td>\n",
              "      <td>компаньон</td>\n",
              "      <td>0</td>\n",
              "      <td>NaN</td>\n",
              "      <td>сделка с автомобилем</td>\n",
              "    </tr>\n",
              "    <tr>\n",
              "      <th>21441</th>\n",
              "      <td>1</td>\n",
              "      <td>NaN</td>\n",
              "      <td>50.0</td>\n",
              "      <td>среднее</td>\n",
              "      <td>гражданский брак</td>\n",
              "      <td>F</td>\n",
              "      <td>сотрудник</td>\n",
              "      <td>0</td>\n",
              "      <td>NaN</td>\n",
              "      <td>свадьба</td>\n",
              "    </tr>\n",
              "    <tr>\n",
              "      <th>21443</th>\n",
              "      <td>0</td>\n",
              "      <td>NaN</td>\n",
              "      <td>48.0</td>\n",
              "      <td>высшее</td>\n",
              "      <td>женат / замужем</td>\n",
              "      <td>F</td>\n",
              "      <td>компаньон</td>\n",
              "      <td>0</td>\n",
              "      <td>NaN</td>\n",
              "      <td>строительство недвижимости</td>\n",
              "    </tr>\n",
              "    <tr>\n",
              "      <th>21448</th>\n",
              "      <td>1</td>\n",
              "      <td>NaN</td>\n",
              "      <td>42.0</td>\n",
              "      <td>среднее</td>\n",
              "      <td>женат / замужем</td>\n",
              "      <td>F</td>\n",
              "      <td>сотрудник</td>\n",
              "      <td>0</td>\n",
              "      <td>NaN</td>\n",
              "      <td>строительство жилой недвижимости</td>\n",
              "    </tr>\n",
              "    <tr>\n",
              "      <th>21456</th>\n",
              "      <td>2</td>\n",
              "      <td>NaN</td>\n",
              "      <td>28.0</td>\n",
              "      <td>среднее</td>\n",
              "      <td>женат / замужем</td>\n",
              "      <td>F</td>\n",
              "      <td>сотрудник</td>\n",
              "      <td>0</td>\n",
              "      <td>NaN</td>\n",
              "      <td>приобретение автомобиля</td>\n",
              "    </tr>\n",
              "  </tbody>\n",
              "</table>\n",
              "<p>2120 rows × 10 columns</p>\n",
              "</div>"
            ],
            "text/plain": [
              "       children  days_employed  ...  total_income                           purpose\n",
              "12            0            NaN  ...           NaN                   сыграть свадьбу\n",
              "26            0            NaN  ...           NaN                       образование\n",
              "29            0            NaN  ...           NaN  строительство жилой недвижимости\n",
              "41            0            NaN  ...           NaN  сделка с подержанным автомобилем\n",
              "55            0            NaN  ...           NaN                   сыграть свадьбу\n",
              "...         ...            ...  ...           ...                               ...\n",
              "21435         2            NaN  ...           NaN              сделка с автомобилем\n",
              "21441         1            NaN  ...           NaN                           свадьба\n",
              "21443         0            NaN  ...           NaN        строительство недвижимости\n",
              "21448         1            NaN  ...           NaN  строительство жилой недвижимости\n",
              "21456         2            NaN  ...           NaN           приобретение автомобиля\n",
              "\n",
              "[2120 rows x 10 columns]"
            ]
          },
          "metadata": {},
          "execution_count": 30
        }
      ]
    },
    {
      "cell_type": "markdown",
      "metadata": {
        "id": "K7oigbo2vqbZ"
      },
      "source": [
        "Empty values in total_income and days_employed are connected. The percentage of missing values: 2120/21471 = 10%. It is quite high to drop those rows. We can replace missing values in total_income with median by income type. So we measure the median in each income type:"
      ]
    },
    {
      "cell_type": "code",
      "metadata": {
        "id": "leB5cX9Fvqbb",
        "colab": {
          "base_uri": "https://localhost:8080/"
        },
        "outputId": "af0d5926-98ca-48b6-a239-c4d32ace9059"
      },
      "source": [
        "group_income = df.groupby('income_type')['total_income'].median()\n",
        "group_income"
      ],
      "execution_count": null,
      "outputs": [
        {
          "output_type": "execute_result",
          "data": {
            "text/plain": [
              "income_type\n",
              "безработный        131339.751676\n",
              "в декрете           53829.130729\n",
              "госслужащий        150447.935283\n",
              "компаньон          172357.950966\n",
              "пенсионер          118514.486412\n",
              "предприниматель    499163.144947\n",
              "сотрудник          142594.396847\n",
              "студент             98201.625314\n",
              "Name: total_income, dtype: float64"
            ]
          },
          "metadata": {},
          "execution_count": 31
        }
      ]
    },
    {
      "cell_type": "markdown",
      "metadata": {
        "id": "8k1CY_L1vqbb"
      },
      "source": [
        "Different income types have different median incomes. Filling mising values with medians by income type: "
      ]
    },
    {
      "cell_type": "code",
      "metadata": {
        "id": "8dnYzeHmvqbb",
        "colab": {
          "base_uri": "https://localhost:8080/"
        },
        "outputId": "2e35fb82-cf38-4044-b772-b5f62bf156a0"
      },
      "source": [
        "for i in group_income.index:\n",
        "    df.loc[(df['income_type'] == i) & (df['total_income'].isnull()), 'total_income'] = group_income[i]\n",
        "\n",
        "df['total_income'].isnull().sum()"
      ],
      "execution_count": null,
      "outputs": [
        {
          "output_type": "execute_result",
          "data": {
            "text/plain": [
              "0"
            ]
          },
          "metadata": {},
          "execution_count": 32
        }
      ]
    },
    {
      "cell_type": "markdown",
      "metadata": {
        "id": "nFPFiFKDsWRX"
      },
      "source": [
        "Alternative code:\n",
        "```\n",
        "med_salary = df.groupby('income_type')['total_income'].transform('median')\n",
        "df['total_income'] = df['total_income'].fillna(med_salary)\n",
        "```\n",
        "\n",
        "\n"
      ]
    },
    {
      "cell_type": "markdown",
      "metadata": {
        "id": "UIkh-ehWvqbb"
      },
      "source": [
        "We will add the years of work experience based on days_employed and check statistics:"
      ]
    },
    {
      "cell_type": "code",
      "metadata": {
        "id": "LviT2CYGvqbc",
        "colab": {
          "base_uri": "https://localhost:8080/"
        },
        "outputId": "b8847979-efdb-4bd7-b20b-ad3552b9fb11"
      },
      "source": [
        "df['years_employed'] = df['days_employed'] / 365\n",
        "df['years_employed'].agg(['mean','median','min','max'])"
      ],
      "execution_count": null,
      "outputs": [
        {
          "output_type": "execute_result",
          "data": {
            "text/plain": [
              "mean       172.730131\n",
              "median      -3.296903\n",
              "min        -50.380685\n",
              "max       1100.699727\n",
              "Name: years_employed, dtype: float64"
            ]
          },
          "metadata": {},
          "execution_count": 33
        }
      ]
    },
    {
      "cell_type": "markdown",
      "metadata": {
        "id": "hKayJ72qvqbc"
      },
      "source": [
        "Most of the values are negative (median is below 0). Wrong positive values increase the mean. The assumption is that in some income types work experience is shown in hours. Checking statistics by income_type:"
      ]
    },
    {
      "cell_type": "code",
      "metadata": {
        "id": "RKuQsWfbvqbe",
        "colab": {
          "base_uri": "https://localhost:8080/",
          "height": 332
        },
        "outputId": "518b0f0e-0773-454f-b9e1-0e935f8ad180"
      },
      "source": [
        "df.groupby('income_type')['years_employed'].agg(['count','mean','median','min','max'])"
      ],
      "execution_count": null,
      "outputs": [
        {
          "output_type": "execute_result",
          "data": {
            "text/html": [
              "<div>\n",
              "<style scoped>\n",
              "    .dataframe tbody tr th:only-of-type {\n",
              "        vertical-align: middle;\n",
              "    }\n",
              "\n",
              "    .dataframe tbody tr th {\n",
              "        vertical-align: top;\n",
              "    }\n",
              "\n",
              "    .dataframe thead th {\n",
              "        text-align: right;\n",
              "    }\n",
              "</style>\n",
              "<table border=\"1\" class=\"dataframe\">\n",
              "  <thead>\n",
              "    <tr style=\"text-align: right;\">\n",
              "      <th></th>\n",
              "      <th>count</th>\n",
              "      <th>mean</th>\n",
              "      <th>median</th>\n",
              "      <th>min</th>\n",
              "      <th>max</th>\n",
              "    </tr>\n",
              "    <tr>\n",
              "      <th>income_type</th>\n",
              "      <th></th>\n",
              "      <th></th>\n",
              "      <th></th>\n",
              "      <th></th>\n",
              "      <th></th>\n",
              "    </tr>\n",
              "  </thead>\n",
              "  <tbody>\n",
              "    <tr>\n",
              "      <th>безработный</th>\n",
              "      <td>2</td>\n",
              "      <td>1003.873021</td>\n",
              "      <td>1003.873021</td>\n",
              "      <td>924.724567</td>\n",
              "      <td>1083.021476</td>\n",
              "    </tr>\n",
              "    <tr>\n",
              "      <th>в декрете</th>\n",
              "      <td>1</td>\n",
              "      <td>-9.032219</td>\n",
              "      <td>-9.032219</td>\n",
              "      <td>-9.032219</td>\n",
              "      <td>-9.032219</td>\n",
              "    </tr>\n",
              "    <tr>\n",
              "      <th>госслужащий</th>\n",
              "      <td>1312</td>\n",
              "      <td>-9.314786</td>\n",
              "      <td>-7.368132</td>\n",
              "      <td>-41.624746</td>\n",
              "      <td>-0.109463</td>\n",
              "    </tr>\n",
              "    <tr>\n",
              "      <th>компаньон</th>\n",
              "      <td>4577</td>\n",
              "      <td>-5.784998</td>\n",
              "      <td>-4.239403</td>\n",
              "      <td>-48.261817</td>\n",
              "      <td>-0.082727</td>\n",
              "    </tr>\n",
              "    <tr>\n",
              "      <th>пенсионер</th>\n",
              "      <td>3443</td>\n",
              "      <td>1000.009565</td>\n",
              "      <td>1000.584401</td>\n",
              "      <td>900.626632</td>\n",
              "      <td>1100.699727</td>\n",
              "    </tr>\n",
              "    <tr>\n",
              "      <th>предприниматель</th>\n",
              "      <td>1</td>\n",
              "      <td>-1.426981</td>\n",
              "      <td>-1.426981</td>\n",
              "      <td>-1.426981</td>\n",
              "      <td>-1.426981</td>\n",
              "    </tr>\n",
              "    <tr>\n",
              "      <th>сотрудник</th>\n",
              "      <td>10014</td>\n",
              "      <td>-6.373970</td>\n",
              "      <td>-4.312884</td>\n",
              "      <td>-50.380685</td>\n",
              "      <td>-0.066141</td>\n",
              "    </tr>\n",
              "    <tr>\n",
              "      <th>студент</th>\n",
              "      <td>1</td>\n",
              "      <td>-1.585621</td>\n",
              "      <td>-1.585621</td>\n",
              "      <td>-1.585621</td>\n",
              "      <td>-1.585621</td>\n",
              "    </tr>\n",
              "  </tbody>\n",
              "</table>\n",
              "</div>"
            ],
            "text/plain": [
              "                 count         mean       median         min          max\n",
              "income_type                                                              \n",
              "безработный          2  1003.873021  1003.873021  924.724567  1083.021476\n",
              "в декрете            1    -9.032219    -9.032219   -9.032219    -9.032219\n",
              "госслужащий       1312    -9.314786    -7.368132  -41.624746    -0.109463\n",
              "компаньон         4577    -5.784998    -4.239403  -48.261817    -0.082727\n",
              "пенсионер         3443  1000.009565  1000.584401  900.626632  1100.699727\n",
              "предприниматель      1    -1.426981    -1.426981   -1.426981    -1.426981\n",
              "сотрудник        10014    -6.373970    -4.312884  -50.380685    -0.066141\n",
              "студент              1    -1.585621    -1.585621   -1.585621    -1.585621"
            ]
          },
          "metadata": {},
          "execution_count": 34
        }
      ]
    },
    {
      "cell_type": "markdown",
      "metadata": {
        "id": "mFFWKcZzvqbe"
      },
      "source": [
        "The unemployed and retired (безработные и пенсионеры) have values which can be divided by 24 to get realistic years."
      ]
    },
    {
      "cell_type": "code",
      "metadata": {
        "id": "nyBRoSWqvqbf"
      },
      "source": [
        "def hours_to_days(row):\n",
        "    if row['income_type'] == 'безработный' or row['income_type'] == 'пенсионер':\n",
        "        return row['years_employed']/24\n",
        "    else:\n",
        "        return row['years_employed']\n",
        "\n",
        "df['years_employed'] = df.apply(hours_to_days,axis=1)"
      ],
      "execution_count": null,
      "outputs": []
    },
    {
      "cell_type": "markdown",
      "metadata": {
        "id": "yC5du54Mvqbf"
      },
      "source": [
        "Converting negative values into positive:"
      ]
    },
    {
      "cell_type": "code",
      "metadata": {
        "id": "6F23bqe4vqbf",
        "colab": {
          "base_uri": "https://localhost:8080/",
          "height": 332
        },
        "outputId": "613d591f-c1fb-418c-c0cc-07893518ccbc"
      },
      "source": [
        "df['years_employed'] = df['years_employed'].apply(abs)\n",
        "\n",
        "df.groupby('income_type')['years_employed'].agg(['count','mean','median','min','max'])"
      ],
      "execution_count": null,
      "outputs": [
        {
          "output_type": "execute_result",
          "data": {
            "text/html": [
              "<div>\n",
              "<style scoped>\n",
              "    .dataframe tbody tr th:only-of-type {\n",
              "        vertical-align: middle;\n",
              "    }\n",
              "\n",
              "    .dataframe tbody tr th {\n",
              "        vertical-align: top;\n",
              "    }\n",
              "\n",
              "    .dataframe thead th {\n",
              "        text-align: right;\n",
              "    }\n",
              "</style>\n",
              "<table border=\"1\" class=\"dataframe\">\n",
              "  <thead>\n",
              "    <tr style=\"text-align: right;\">\n",
              "      <th></th>\n",
              "      <th>count</th>\n",
              "      <th>mean</th>\n",
              "      <th>median</th>\n",
              "      <th>min</th>\n",
              "      <th>max</th>\n",
              "    </tr>\n",
              "    <tr>\n",
              "      <th>income_type</th>\n",
              "      <th></th>\n",
              "      <th></th>\n",
              "      <th></th>\n",
              "      <th></th>\n",
              "      <th></th>\n",
              "    </tr>\n",
              "  </thead>\n",
              "  <tbody>\n",
              "    <tr>\n",
              "      <th>безработный</th>\n",
              "      <td>2</td>\n",
              "      <td>41.828043</td>\n",
              "      <td>41.828043</td>\n",
              "      <td>38.530190</td>\n",
              "      <td>45.125895</td>\n",
              "    </tr>\n",
              "    <tr>\n",
              "      <th>в декрете</th>\n",
              "      <td>1</td>\n",
              "      <td>9.032219</td>\n",
              "      <td>9.032219</td>\n",
              "      <td>9.032219</td>\n",
              "      <td>9.032219</td>\n",
              "    </tr>\n",
              "    <tr>\n",
              "      <th>госслужащий</th>\n",
              "      <td>1312</td>\n",
              "      <td>9.314786</td>\n",
              "      <td>7.368132</td>\n",
              "      <td>0.109463</td>\n",
              "      <td>41.624746</td>\n",
              "    </tr>\n",
              "    <tr>\n",
              "      <th>компаньон</th>\n",
              "      <td>4577</td>\n",
              "      <td>5.784998</td>\n",
              "      <td>4.239403</td>\n",
              "      <td>0.082727</td>\n",
              "      <td>48.261817</td>\n",
              "    </tr>\n",
              "    <tr>\n",
              "      <th>пенсионер</th>\n",
              "      <td>3443</td>\n",
              "      <td>41.667065</td>\n",
              "      <td>41.691017</td>\n",
              "      <td>37.526110</td>\n",
              "      <td>45.862489</td>\n",
              "    </tr>\n",
              "    <tr>\n",
              "      <th>предприниматель</th>\n",
              "      <td>1</td>\n",
              "      <td>1.426981</td>\n",
              "      <td>1.426981</td>\n",
              "      <td>1.426981</td>\n",
              "      <td>1.426981</td>\n",
              "    </tr>\n",
              "    <tr>\n",
              "      <th>сотрудник</th>\n",
              "      <td>10014</td>\n",
              "      <td>6.373970</td>\n",
              "      <td>4.312884</td>\n",
              "      <td>0.066141</td>\n",
              "      <td>50.380685</td>\n",
              "    </tr>\n",
              "    <tr>\n",
              "      <th>студент</th>\n",
              "      <td>1</td>\n",
              "      <td>1.585621</td>\n",
              "      <td>1.585621</td>\n",
              "      <td>1.585621</td>\n",
              "      <td>1.585621</td>\n",
              "    </tr>\n",
              "  </tbody>\n",
              "</table>\n",
              "</div>"
            ],
            "text/plain": [
              "                 count       mean     median        min        max\n",
              "income_type                                                       \n",
              "безработный          2  41.828043  41.828043  38.530190  45.125895\n",
              "в декрете            1   9.032219   9.032219   9.032219   9.032219\n",
              "госслужащий       1312   9.314786   7.368132   0.109463  41.624746\n",
              "компаньон         4577   5.784998   4.239403   0.082727  48.261817\n",
              "пенсионер         3443  41.667065  41.691017  37.526110  45.862489\n",
              "предприниматель      1   1.426981   1.426981   1.426981   1.426981\n",
              "сотрудник        10014   6.373970   4.312884   0.066141  50.380685\n",
              "студент              1   1.585621   1.585621   1.585621   1.585621"
            ]
          },
          "metadata": {},
          "execution_count": 36
        }
      ]
    },
    {
      "cell_type": "markdown",
      "metadata": {
        "id": "H69gE0Zcvqbf"
      },
      "source": [
        "Filling the missing values with median by income_type:"
      ]
    },
    {
      "cell_type": "code",
      "metadata": {
        "id": "z6KMY-0bvqbg",
        "colab": {
          "base_uri": "https://localhost:8080/"
        },
        "outputId": "0929d89a-fd92-44ec-88d7-1daf8836bb96"
      },
      "source": [
        "med_salary = df.groupby('income_type')['years_employed'].transform('median')\n",
        "df['years_employed'] = df['years_employed'].fillna(med_salary)\n",
        "\n",
        "df['years_employed'].isnull().sum()"
      ],
      "execution_count": null,
      "outputs": [
        {
          "output_type": "execute_result",
          "data": {
            "text/plain": [
              "0"
            ]
          },
          "metadata": {},
          "execution_count": 37
        }
      ]
    },
    {
      "cell_type": "markdown",
      "metadata": {
        "id": "3J2qp7aOvqbg"
      },
      "source": [
        "There is no missing data in years_employed. We will remove days_employed as we do not need it."
      ]
    },
    {
      "cell_type": "code",
      "metadata": {
        "id": "zigImuLhvqbg",
        "colab": {
          "base_uri": "https://localhost:8080/"
        },
        "outputId": "05455376-142c-4ce0-8459-fd10593e397b"
      },
      "source": [
        "df = df.drop('days_employed', 1)\n",
        "df.info()"
      ],
      "execution_count": null,
      "outputs": [
        {
          "output_type": "stream",
          "name": "stdout",
          "text": [
            "<class 'pandas.core.frame.DataFrame'>\n",
            "RangeIndex: 21471 entries, 0 to 21470\n",
            "Data columns (total 10 columns):\n",
            " #   Column          Non-Null Count  Dtype  \n",
            "---  ------          --------------  -----  \n",
            " 0   children        21471 non-null  int64  \n",
            " 1   dob_years       21471 non-null  float64\n",
            " 2   education       21471 non-null  object \n",
            " 3   family_status   21471 non-null  object \n",
            " 4   gender          21471 non-null  object \n",
            " 5   income_type     21471 non-null  object \n",
            " 6   debt            21471 non-null  int64  \n",
            " 7   total_income    21471 non-null  float64\n",
            " 8   purpose         21471 non-null  object \n",
            " 9   years_employed  21471 non-null  float64\n",
            "dtypes: float64(3), int64(2), object(5)\n",
            "memory usage: 1.6+ MB\n"
          ]
        }
      ]
    },
    {
      "cell_type": "markdown",
      "metadata": {
        "id": "Yuu2ZtrUvqbg"
      },
      "source": [
        "#### Column purpose. Check for wrong values"
      ]
    },
    {
      "cell_type": "code",
      "metadata": {
        "id": "VGD-_bc-vqbh",
        "colab": {
          "base_uri": "https://localhost:8080/"
        },
        "outputId": "8b98732f-97b2-4946-f3e8-5f9fb03d512d"
      },
      "source": [
        "df['purpose'].value_counts()"
      ],
      "execution_count": null,
      "outputs": [
        {
          "output_type": "execute_result",
          "data": {
            "text/plain": [
              "свадьба                                   793\n",
              "на проведение свадьбы                     773\n",
              "сыграть свадьбу                           769\n",
              "операции с недвижимостью                  675\n",
              "покупка коммерческой недвижимости         662\n",
              "операции с жильем                         652\n",
              "покупка жилья для сдачи                   652\n",
              "операции с коммерческой недвижимостью     650\n",
              "покупка жилья                             646\n",
              "жилье                                     646\n",
              "покупка жилья для семьи                   638\n",
              "строительство собственной недвижимости    635\n",
              "недвижимость                              633\n",
              "операции со своей недвижимостью           627\n",
              "строительство жилой недвижимости          625\n",
              "покупка недвижимости                      621\n",
              "покупка своего жилья                      620\n",
              "строительство недвижимости                619\n",
              "ремонт жилью                              607\n",
              "покупка жилой недвижимости                606\n",
              "на покупку своего автомобиля              505\n",
              "заняться высшим образованием              496\n",
              "автомобиль                                494\n",
              "сделка с подержанным автомобилем          486\n",
              "свой автомобиль                           479\n",
              "на покупку подержанного автомобиля        478\n",
              "автомобили                                478\n",
              "на покупку автомобиля                     472\n",
              "приобретение автомобиля                   461\n",
              "дополнительное образование                460\n",
              "сделка с автомобилем                      455\n",
              "высшее образование                        452\n",
              "получение дополнительного образования     447\n",
              "образование                               447\n",
              "получение образования                     442\n",
              "профильное образование                    436\n",
              "получение высшего образования             426\n",
              "заняться образованием                     408\n",
              "Name: purpose, dtype: int64"
            ]
          },
          "metadata": {},
          "execution_count": 39
        }
      ]
    },
    {
      "cell_type": "markdown",
      "metadata": {
        "id": "TVMkVxmyvqbh"
      },
      "source": [
        "There are duplicates in this column."
      ]
    },
    {
      "cell_type": "markdown",
      "metadata": {
        "id": "7XtmCwfTvqbh"
      },
      "source": [
        "### Missing and wrong values summary\n",
        "\n",
        "> - children - we found wrong values(-1 and 20), changed to 1 and 20 respectively, assuming that there were misprints.\n",
        "> - days_employed - We found out that pensioners and the unemployed have positive values, while the others have negative ones. Work experience in those groups is shown in hours. We converted all values into years (years_employed) and filled missing values with median by income_type.\n",
        "> - dob_years. We changed zero values with mean by income_type. \n",
        "> - education, education_id - we converted string values into lower case and decreased the number of unique values to 5.\n",
        "> - family_status, family_status_id - we converted values into lower case.\n",
        "> - gender - we found a misprint and changed it to the most popular gender (F).\n",
        "> - income_type, debt - look good.\n",
        "> - total_income - we filled missing values with median by income_type.\n",
        "> - purpose - we found duplicates to deal with on the next stage."
      ]
    },
    {
      "cell_type": "markdown",
      "metadata": {
        "id": "uUDLGqoNvqbh"
      },
      "source": [
        "#### Data type change"
      ]
    },
    {
      "cell_type": "markdown",
      "metadata": {
        "id": "3HOPVk6bvqbi"
      },
      "source": [
        "Change float to integer"
      ]
    },
    {
      "cell_type": "code",
      "metadata": {
        "id": "hgzMFJgFvqbi",
        "colab": {
          "base_uri": "https://localhost:8080/"
        },
        "outputId": "c133a3d0-ae87-4eb1-e542-7fe9c791c2be"
      },
      "source": [
        "col_list = ['dob_years','total_income','years_employed']\n",
        "\n",
        "for col in col_list:\n",
        "\n",
        "    df[col] = df[col].astype('int')\n",
        "    \n",
        "df.info()"
      ],
      "execution_count": null,
      "outputs": [
        {
          "output_type": "stream",
          "name": "stdout",
          "text": [
            "<class 'pandas.core.frame.DataFrame'>\n",
            "RangeIndex: 21471 entries, 0 to 21470\n",
            "Data columns (total 10 columns):\n",
            " #   Column          Non-Null Count  Dtype \n",
            "---  ------          --------------  ----- \n",
            " 0   children        21471 non-null  int64 \n",
            " 1   dob_years       21471 non-null  int64 \n",
            " 2   education       21471 non-null  object\n",
            " 3   family_status   21471 non-null  object\n",
            " 4   gender          21471 non-null  object\n",
            " 5   income_type     21471 non-null  object\n",
            " 6   debt            21471 non-null  int64 \n",
            " 7   total_income    21471 non-null  int64 \n",
            " 8   purpose         21471 non-null  object\n",
            " 9   years_employed  21471 non-null  int64 \n",
            "dtypes: int64(5), object(5)\n",
            "memory usage: 1.6+ MB\n"
          ]
        }
      ]
    },
    {
      "cell_type": "markdown",
      "metadata": {
        "id": "xrFlgwZhvqbj"
      },
      "source": [
        "#### Duplicates processing"
      ]
    },
    {
      "cell_type": "markdown",
      "metadata": {
        "id": "2ZfLdn5nvqbj"
      },
      "source": [
        "Check for duplicates"
      ]
    },
    {
      "cell_type": "code",
      "metadata": {
        "id": "6DEK5wBcvqbj",
        "colab": {
          "base_uri": "https://localhost:8080/"
        },
        "outputId": "ca3cc333-02bd-4715-d085-98259879e96f"
      },
      "source": [
        "df.duplicated().sum()"
      ],
      "execution_count": null,
      "outputs": [
        {
          "output_type": "execute_result",
          "data": {
            "text/plain": [
              "17"
            ]
          },
          "metadata": {},
          "execution_count": 41
        }
      ]
    },
    {
      "cell_type": "markdown",
      "metadata": {
        "id": "TbhofHUwvqbk"
      },
      "source": [
        "<b>Conclusion: </b> We found 17 duplicates. According to the task we will remove them:"
      ]
    },
    {
      "cell_type": "code",
      "metadata": {
        "id": "rUssjOqLvqbl"
      },
      "source": [
        "df = df.drop_duplicates().reset_index(drop=True)"
      ],
      "execution_count": null,
      "outputs": []
    },
    {
      "cell_type": "markdown",
      "metadata": {
        "id": "pvv3SwsBvqbo"
      },
      "source": [
        "#### Data categorization"
      ]
    },
    {
      "cell_type": "markdown",
      "metadata": {
        "id": "yrSa6qmrvqbl"
      },
      "source": [
        "Back to purpose:"
      ]
    },
    {
      "cell_type": "code",
      "metadata": {
        "id": "2AUNTx0svqbm",
        "colab": {
          "base_uri": "https://localhost:8080/"
        },
        "outputId": "6565dab7-ec7d-458c-8e1c-324926eacc96"
      },
      "source": [
        "df['purpose'].value_counts()"
      ],
      "execution_count": null,
      "outputs": [
        {
          "output_type": "execute_result",
          "data": {
            "text/plain": [
              "свадьба                                   791\n",
              "на проведение свадьбы                     768\n",
              "сыграть свадьбу                           765\n",
              "операции с недвижимостью                  675\n",
              "покупка коммерческой недвижимости         661\n",
              "операции с жильем                         652\n",
              "покупка жилья для сдачи                   651\n",
              "операции с коммерческой недвижимостью     650\n",
              "покупка жилья                             646\n",
              "жилье                                     646\n",
              "покупка жилья для семьи                   638\n",
              "строительство собственной недвижимости    635\n",
              "недвижимость                              633\n",
              "операции со своей недвижимостью           627\n",
              "строительство жилой недвижимости          624\n",
              "покупка недвижимости                      621\n",
              "покупка своего жилья                      620\n",
              "строительство недвижимости                619\n",
              "ремонт жилью                              607\n",
              "покупка жилой недвижимости                606\n",
              "на покупку своего автомобиля              505\n",
              "заняться высшим образованием              496\n",
              "автомобиль                                494\n",
              "сделка с подержанным автомобилем          486\n",
              "свой автомобиль                           478\n",
              "на покупку подержанного автомобиля        478\n",
              "автомобили                                478\n",
              "на покупку автомобиля                     471\n",
              "приобретение автомобиля                   461\n",
              "дополнительное образование                460\n",
              "сделка с автомобилем                      455\n",
              "высшее образование                        452\n",
              "образование                               447\n",
              "получение дополнительного образования     446\n",
              "получение образования                     442\n",
              "профильное образование                    436\n",
              "получение высшего образования             426\n",
              "заняться образованием                     408\n",
              "Name: purpose, dtype: int64"
            ]
          },
          "metadata": {},
          "execution_count": 43
        }
      ]
    },
    {
      "cell_type": "markdown",
      "metadata": {
        "id": "kxG9Hx5tvqbn"
      },
      "source": [
        "We will define four categories: vehicle, real estate, marriage, and education - and create a column for them."
      ]
    },
    {
      "cell_type": "code",
      "metadata": {
        "id": "7Oe9phOEa8OA"
      },
      "source": [
        "def purpose_cat(row):\n",
        "    if 'авто' in row:\n",
        "      return 'vehicle'\n",
        "    elif 'недвиж' in row or 'жиль' in row:\n",
        "      return 'real estate'\n",
        "    elif 'свадьб' in row:\n",
        "      return 'marriage'\n",
        "    elif 'образов' in row:\n",
        "      return 'education'\n",
        "        \n",
        "df['purpose_cat'] = df['purpose'].apply(purpose_cat)"
      ],
      "execution_count": null,
      "outputs": []
    },
    {
      "cell_type": "code",
      "metadata": {
        "id": "Bf9lHBL5vqbn",
        "colab": {
          "base_uri": "https://localhost:8080/"
        },
        "outputId": "5edf234b-ffcc-46bf-cbe7-cf15f4c6f0dd"
      },
      "source": [
        "df['purpose_cat'].value_counts(dropna=False)"
      ],
      "execution_count": null,
      "outputs": [
        {
          "output_type": "execute_result",
          "data": {
            "text/plain": [
              "real estate    10811\n",
              "vehicle         4306\n",
              "education       4013\n",
              "marriage        2324\n",
              "Name: purpose_cat, dtype: int64"
            ]
          },
          "metadata": {},
          "execution_count": 45
        }
      ]
    },
    {
      "cell_type": "markdown",
      "metadata": {
        "id": "B64yvjShvqbo"
      },
      "source": [
        "Grouping dob_years into categories and checking the number of entries and how it affects debt."
      ]
    },
    {
      "cell_type": "code",
      "metadata": {
        "colab": {
          "base_uri": "https://localhost:8080/",
          "height": 238
        },
        "id": "ATzjCphKelO4",
        "outputId": "286bf4a0-f4b2-4198-b786-e2342bfcba38"
      },
      "source": [
        "df['dob_years_cat'] = pd.qcut(df['dob_years'],5)\n",
        "df.groupby('dob_years_cat')['debt'].agg(['count','mean'])"
      ],
      "execution_count": null,
      "outputs": [
        {
          "output_type": "execute_result",
          "data": {
            "text/html": [
              "<div>\n",
              "<style scoped>\n",
              "    .dataframe tbody tr th:only-of-type {\n",
              "        vertical-align: middle;\n",
              "    }\n",
              "\n",
              "    .dataframe tbody tr th {\n",
              "        vertical-align: top;\n",
              "    }\n",
              "\n",
              "    .dataframe thead th {\n",
              "        text-align: right;\n",
              "    }\n",
              "</style>\n",
              "<table border=\"1\" class=\"dataframe\">\n",
              "  <thead>\n",
              "    <tr style=\"text-align: right;\">\n",
              "      <th></th>\n",
              "      <th>count</th>\n",
              "      <th>mean</th>\n",
              "    </tr>\n",
              "    <tr>\n",
              "      <th>dob_years_cat</th>\n",
              "      <th></th>\n",
              "      <th></th>\n",
              "    </tr>\n",
              "  </thead>\n",
              "  <tbody>\n",
              "    <tr>\n",
              "      <th>(18.999, 32.0]</th>\n",
              "      <td>4785</td>\n",
              "      <td>0.110972</td>\n",
              "    </tr>\n",
              "    <tr>\n",
              "      <th>(32.0, 39.0]</th>\n",
              "      <td>4132</td>\n",
              "      <td>0.091239</td>\n",
              "    </tr>\n",
              "    <tr>\n",
              "      <th>(39.0, 47.0]</th>\n",
              "      <td>4316</td>\n",
              "      <td>0.078545</td>\n",
              "    </tr>\n",
              "    <tr>\n",
              "      <th>(47.0, 56.0]</th>\n",
              "      <td>4348</td>\n",
              "      <td>0.065777</td>\n",
              "    </tr>\n",
              "    <tr>\n",
              "      <th>(56.0, 75.0]</th>\n",
              "      <td>3873</td>\n",
              "      <td>0.053705</td>\n",
              "    </tr>\n",
              "  </tbody>\n",
              "</table>\n",
              "</div>"
            ],
            "text/plain": [
              "                count      mean\n",
              "dob_years_cat                  \n",
              "(18.999, 32.0]   4785  0.110972\n",
              "(32.0, 39.0]     4132  0.091239\n",
              "(39.0, 47.0]     4316  0.078545\n",
              "(47.0, 56.0]     4348  0.065777\n",
              "(56.0, 75.0]     3873  0.053705"
            ]
          },
          "metadata": {},
          "execution_count": 46
        }
      ]
    },
    {
      "cell_type": "code",
      "metadata": {
        "colab": {
          "base_uri": "https://localhost:8080/",
          "height": 404
        },
        "id": "56QmkiK9f6bb",
        "outputId": "cffa0950-38e7-4862-878c-ea382f4a09bd"
      },
      "source": [
        "df.groupby('dob_years_cat')['debt'].mean().plot(grid=True,ylim=0, figsize=(12,6))\n",
        "plt.title('Delinquency rates by age group')\n",
        "plt.xlabel('Age')\n",
        "plt.ylabel('Delinquency rate')\n",
        "plt.show()"
      ],
      "execution_count": null,
      "outputs": [
        {
          "output_type": "display_data",
          "data": {
            "image/png": "[encoded data removed]",
            "text/plain": [
              "<Figure size 864x432 with 1 Axes>"
            ]
          },
          "metadata": {
            "needs_background": "light"
          }
        }
      ]
    },
    {
      "cell_type": "markdown",
      "metadata": {
        "id": "ytoWOFFrvqbp"
      },
      "source": [
        "It seems to be a dependency: the younger a borrower, the higher risk of delinquency."
      ]
    },
    {
      "cell_type": "markdown",
      "metadata": {
        "id": "kSmmZ0jevqbq"
      },
      "source": [
        "Total_income categorization"
      ]
    },
    {
      "cell_type": "code",
      "metadata": {
        "id": "h-kzi9alhu3P"
      },
      "source": [
        "df['total_income_cat'] = pd.cut(df['total_income'],[20000,80000,120000,160000,200000, 400000, np.inf])"
      ],
      "execution_count": null,
      "outputs": []
    },
    {
      "cell_type": "code",
      "metadata": {
        "id": "VZ1NwWcHvqbs",
        "colab": {
          "base_uri": "https://localhost:8080/",
          "height": 269
        },
        "outputId": "9b87e211-89f6-471b-ba9e-60b322028367"
      },
      "source": [
        "df.groupby('total_income_cat')['debt'].agg(['count','mean'])"
      ],
      "execution_count": null,
      "outputs": [
        {
          "output_type": "execute_result",
          "data": {
            "text/html": [
              "<div>\n",
              "<style scoped>\n",
              "    .dataframe tbody tr th:only-of-type {\n",
              "        vertical-align: middle;\n",
              "    }\n",
              "\n",
              "    .dataframe tbody tr th {\n",
              "        vertical-align: top;\n",
              "    }\n",
              "\n",
              "    .dataframe thead th {\n",
              "        text-align: right;\n",
              "    }\n",
              "</style>\n",
              "<table border=\"1\" class=\"dataframe\">\n",
              "  <thead>\n",
              "    <tr style=\"text-align: right;\">\n",
              "      <th></th>\n",
              "      <th>count</th>\n",
              "      <th>mean</th>\n",
              "    </tr>\n",
              "    <tr>\n",
              "      <th>total_income_cat</th>\n",
              "      <th></th>\n",
              "      <th></th>\n",
              "    </tr>\n",
              "  </thead>\n",
              "  <tbody>\n",
              "    <tr>\n",
              "      <th>(20000.0, 80000.0]</th>\n",
              "      <td>2276</td>\n",
              "      <td>0.076450</td>\n",
              "    </tr>\n",
              "    <tr>\n",
              "      <th>(80000.0, 120000.0]</th>\n",
              "      <td>4955</td>\n",
              "      <td>0.083148</td>\n",
              "    </tr>\n",
              "    <tr>\n",
              "      <th>(120000.0, 160000.0]</th>\n",
              "      <td>5503</td>\n",
              "      <td>0.088497</td>\n",
              "    </tr>\n",
              "    <tr>\n",
              "      <th>(160000.0, 200000.0]</th>\n",
              "      <td>3653</td>\n",
              "      <td>0.084862</td>\n",
              "    </tr>\n",
              "    <tr>\n",
              "      <th>(200000.0, 400000.0]</th>\n",
              "      <td>4538</td>\n",
              "      <td>0.072058</td>\n",
              "    </tr>\n",
              "    <tr>\n",
              "      <th>(400000.0, inf]</th>\n",
              "      <td>529</td>\n",
              "      <td>0.058601</td>\n",
              "    </tr>\n",
              "  </tbody>\n",
              "</table>\n",
              "</div>"
            ],
            "text/plain": [
              "                      count      mean\n",
              "total_income_cat                     \n",
              "(20000.0, 80000.0]     2276  0.076450\n",
              "(80000.0, 120000.0]    4955  0.083148\n",
              "(120000.0, 160000.0]   5503  0.088497\n",
              "(160000.0, 200000.0]   3653  0.084862\n",
              "(200000.0, 400000.0]   4538  0.072058\n",
              "(400000.0, inf]         529  0.058601"
            ]
          },
          "metadata": {},
          "execution_count": 49
        }
      ]
    },
    {
      "cell_type": "code",
      "metadata": {
        "colab": {
          "base_uri": "https://localhost:8080/",
          "height": 404
        },
        "id": "-BgtZMELjWSi",
        "outputId": "d1c9dc91-5e3b-4fd9-e292-c6f40550fe0c"
      },
      "source": [
        "df.groupby('total_income_cat')['debt'].mean().plot(grid=True,ylim=0, figsize=(12,6))\n",
        "plt.title('Delinquency rates by income')\n",
        "plt.xlabel('Income')\n",
        "plt.ylabel('Delinquency rate')\n",
        "plt.show()"
      ],
      "execution_count": null,
      "outputs": [
        {
          "output_type": "display_data",
          "data": {
            "image/png": "[encoded data removed]",
            "text/plain": [
              "<Figure size 864x432 with 1 Axes>"
            ]
          },
          "metadata": {
            "needs_background": "light"
          }
        }
      ]
    },
    {
      "cell_type": "markdown",
      "metadata": {
        "id": "1PzDcLqIvqbt"
      },
      "source": [
        "Borrowers with an income range 120 000 - 200 000 are the riskiest clients. There should be a non-linear dependency."
      ]
    },
    {
      "cell_type": "markdown",
      "metadata": {
        "id": "9JT3LC5mvqbu"
      },
      "source": [
        "Years_employed categirization"
      ]
    },
    {
      "cell_type": "code",
      "metadata": {
        "id": "toe2bjtbvqbu"
      },
      "source": [
        "def years_employed_cat(years_employed):\n",
        "    if years_employed == 1:\n",
        "        return '1_1'\n",
        "    if years_employed >= 2 and years_employed <=3:\n",
        "        return '2_2-3'\n",
        "    if years_employed >= 4 and years_employed <=5:\n",
        "        return '3_4-5'\n",
        "    if years_employed >= 6 and years_employed <=10:\n",
        "        return '4_6-10'\n",
        "    if years_employed >= 10 and years_employed <=50:\n",
        "        return '5_10-50'\n",
        "    return '0'\n",
        "\n",
        "df['years_employed_cat'] = df['years_employed'].apply(years_employed_cat)"
      ],
      "execution_count": null,
      "outputs": []
    },
    {
      "cell_type": "code",
      "metadata": {
        "id": "cWhFWWihvqbv",
        "colab": {
          "base_uri": "https://localhost:8080/",
          "height": 269
        },
        "outputId": "dcb26820-bc10-4f43-a242-9f1a9f0c234d"
      },
      "source": [
        "df.groupby('years_employed_cat')['debt'].agg(['count','mean'])"
      ],
      "execution_count": null,
      "outputs": [
        {
          "output_type": "execute_result",
          "data": {
            "text/html": [
              "<div>\n",
              "<style scoped>\n",
              "    .dataframe tbody tr th:only-of-type {\n",
              "        vertical-align: middle;\n",
              "    }\n",
              "\n",
              "    .dataframe tbody tr th {\n",
              "        vertical-align: top;\n",
              "    }\n",
              "\n",
              "    .dataframe thead th {\n",
              "        text-align: right;\n",
              "    }\n",
              "</style>\n",
              "<table border=\"1\" class=\"dataframe\">\n",
              "  <thead>\n",
              "    <tr style=\"text-align: right;\">\n",
              "      <th></th>\n",
              "      <th>count</th>\n",
              "      <th>mean</th>\n",
              "    </tr>\n",
              "    <tr>\n",
              "      <th>years_employed_cat</th>\n",
              "      <th></th>\n",
              "      <th></th>\n",
              "    </tr>\n",
              "  </thead>\n",
              "  <tbody>\n",
              "    <tr>\n",
              "      <th>0</th>\n",
              "      <td>1827</td>\n",
              "      <td>0.105638</td>\n",
              "    </tr>\n",
              "    <tr>\n",
              "      <th>1_1</th>\n",
              "      <td>2024</td>\n",
              "      <td>0.117589</td>\n",
              "    </tr>\n",
              "    <tr>\n",
              "      <th>2_2-3</th>\n",
              "      <td>3438</td>\n",
              "      <td>0.100349</td>\n",
              "    </tr>\n",
              "    <tr>\n",
              "      <th>3_4-5</th>\n",
              "      <td>3945</td>\n",
              "      <td>0.080862</td>\n",
              "    </tr>\n",
              "    <tr>\n",
              "      <th>4_6-10</th>\n",
              "      <td>3695</td>\n",
              "      <td>0.078484</td>\n",
              "    </tr>\n",
              "    <tr>\n",
              "      <th>5_10-50</th>\n",
              "      <td>6525</td>\n",
              "      <td>0.054559</td>\n",
              "    </tr>\n",
              "  </tbody>\n",
              "</table>\n",
              "</div>"
            ],
            "text/plain": [
              "                    count      mean\n",
              "years_employed_cat                 \n",
              "0                    1827  0.105638\n",
              "1_1                  2024  0.117589\n",
              "2_2-3                3438  0.100349\n",
              "3_4-5                3945  0.080862\n",
              "4_6-10               3695  0.078484\n",
              "5_10-50              6525  0.054559"
            ]
          },
          "metadata": {},
          "execution_count": 52
        }
      ]
    },
    {
      "cell_type": "code",
      "metadata": {
        "colab": {
          "base_uri": "https://localhost:8080/",
          "height": 405
        },
        "id": "bP8u1Jfej515",
        "outputId": "2750876d-a280-4dbf-d546-008d7b3a3f91"
      },
      "source": [
        "df.groupby('years_employed_cat')['debt'].mean().plot(grid=True,ylim=0, figsize=(12,6))\n",
        "plt.title('Delinquency rates by work experience')\n",
        "plt.xlabel('Work experience')\n",
        "plt.ylabel('Delinquency rate')\n",
        "plt.show()"
      ],
      "execution_count": null,
      "outputs": [
        {
          "output_type": "display_data",
          "data": {
            "image/png": "[encoded data removed]",
            "text/plain": [
              "<Figure size 864x432 with 1 Axes>"
            ]
          },
          "metadata": {
            "needs_background": "light"
          }
        }
      ]
    },
    {
      "cell_type": "markdown",
      "metadata": {
        "id": "e1ItihKxvqbv"
      },
      "source": [
        "The highest probability of delinquency is for 1 year of work experience, then the risk is decreasing."
      ]
    },
    {
      "cell_type": "markdown",
      "metadata": {
        "id": "h9rXJR-Cvqbv"
      },
      "source": [
        "### Conclusion on categorization\n",
        "We grouped total_income, years_employed, and dob_years into categories. It seems to be a correlation between those variables and the delinquency rate."
      ]
    },
    {
      "cell_type": "markdown",
      "metadata": {
        "id": "GmRZgC0Qvqbv"
      },
      "source": [
        "### Stage 3. Answering questions"
      ]
    },
    {
      "cell_type": "markdown",
      "metadata": {
        "id": "k2ck8VlZvqbw"
      },
      "source": [
        "#### Is there a relationship between the number of children and the repayment of the loan on time?"
      ]
    },
    {
      "cell_type": "markdown",
      "metadata": {
        "id": "LUGcB82bvqbw"
      },
      "source": [
        "Measuring the average number of children for each value of debt:"
      ]
    },
    {
      "cell_type": "code",
      "metadata": {
        "id": "dHxw2L3Ovqbw",
        "colab": {
          "base_uri": "https://localhost:8080/"
        },
        "outputId": "b0612127-7377-4f58-f2bb-f46bc168e1a4"
      },
      "source": [
        "df.groupby('debt')['children'].mean().round(3)"
      ],
      "execution_count": null,
      "outputs": [
        {
          "output_type": "execute_result",
          "data": {
            "text/plain": [
              "debt\n",
              "0    0.475\n",
              "1    0.543\n",
              "Name: children, dtype: float64"
            ]
          },
          "metadata": {},
          "execution_count": 54
        }
      ]
    },
    {
      "cell_type": "markdown",
      "metadata": {
        "id": "gxCDR6IIvqbx"
      },
      "source": [
        "Borrowers who do not pay on time have more children on average. Checking delinquency rate by the number of children:"
      ]
    },
    {
      "cell_type": "code",
      "metadata": {
        "id": "9T3-zKhbvqbx",
        "colab": {
          "base_uri": "https://localhost:8080/"
        },
        "outputId": "a2330c2b-d8c0-49ac-eba0-a25f6bc23a08"
      },
      "source": [
        "df.groupby('children')['debt'].mean().round(3)"
      ],
      "execution_count": null,
      "outputs": [
        {
          "output_type": "execute_result",
          "data": {
            "text/plain": [
              "children\n",
              "0    0.075\n",
              "1    0.092\n",
              "2    0.095\n",
              "3    0.082\n",
              "4    0.098\n",
              "5    0.000\n",
              "Name: debt, dtype: float64"
            ]
          },
          "metadata": {},
          "execution_count": 55
        }
      ]
    },
    {
      "cell_type": "code",
      "metadata": {
        "id": "jqq9mU8Gvqbx",
        "colab": {
          "base_uri": "https://localhost:8080/"
        },
        "outputId": "fe79d04e-f487-4ab4-f9f2-9f65358a604a"
      },
      "source": [
        "df['children'].value_counts()"
      ],
      "execution_count": null,
      "outputs": [
        {
          "output_type": "execute_result",
          "data": {
            "text/plain": [
              "0    14091\n",
              "1     4855\n",
              "2     2128\n",
              "3      330\n",
              "4       41\n",
              "5        9\n",
              "Name: children, dtype: int64"
            ]
          },
          "metadata": {},
          "execution_count": 56
        }
      ]
    },
    {
      "cell_type": "markdown",
      "metadata": {
        "id": "QU7mEQYlvqbx"
      },
      "source": [
        "<b>Conclusion:</b>\n",
        "Children increase the risk of delinquency (there is growth from 7 to 9% between 0 and 1 child). Among borrowers with children, the delinquency rate fluctuates. Families with 3 children are the most reliable borrowers (apart from child-free families)."
      ]
    },
    {
      "cell_type": "markdown",
      "metadata": {
        "id": "0McYFvl9vqby"
      },
      "source": [
        "#### Is there a relationship between marital status and loan repayment on time?"
      ]
    },
    {
      "cell_type": "markdown",
      "metadata": {
        "id": "4zICidSIvqby"
      },
      "source": [
        "We will look at average debt by family_status."
      ]
    },
    {
      "cell_type": "code",
      "metadata": {
        "id": "SUuKV3d-vqby",
        "colab": {
          "base_uri": "https://localhost:8080/"
        },
        "outputId": "8b8ff374-05a7-4f71-82ab-82b7cc17efd0"
      },
      "source": [
        "df.groupby('family_status')['debt'].mean()"
      ],
      "execution_count": null,
      "outputs": [
        {
          "output_type": "execute_result",
          "data": {
            "text/plain": [
              "family_status\n",
              "в разводе                0.071130\n",
              "вдовец / вдова           0.065693\n",
              "гражданский брак         0.093471\n",
              "женат / замужем          0.075452\n",
              "не женат / не замужем    0.097509\n",
              "Name: debt, dtype: float64"
            ]
          },
          "metadata": {},
          "execution_count": 57
        }
      ]
    },
    {
      "cell_type": "code",
      "metadata": {
        "id": "BRIFjrePvqbz",
        "colab": {
          "base_uri": "https://localhost:8080/"
        },
        "outputId": "f74bfcb4-eb4f-40b7-8aca-d25457e26e81"
      },
      "source": [
        "df['family_status'].value_counts()"
      ],
      "execution_count": null,
      "outputs": [
        {
          "output_type": "execute_result",
          "data": {
            "text/plain": [
              "женат / замужем          12339\n",
              "гражданский брак          4151\n",
              "не женат / не замужем     2810\n",
              "в разводе                 1195\n",
              "вдовец / вдова             959\n",
              "Name: family_status, dtype: int64"
            ]
          },
          "metadata": {},
          "execution_count": 58
        }
      ]
    },
    {
      "cell_type": "markdown",
      "metadata": {
        "id": "TZTi_IDavqbz"
      },
      "source": [
        "<b>Conclusion:</b>The highest risk of not paying off on time is among common-law partners and single borrowers. However, there could be an influence of age: married or divorced people are usually older than unmarried borrowers."
      ]
    },
    {
      "cell_type": "markdown",
      "metadata": {
        "id": "vFSBmh1Cvqb0"
      },
      "source": [
        "Checking a relationship between family_status and age, and the delinquency risk in different age groups:"
      ]
    },
    {
      "cell_type": "code",
      "metadata": {
        "id": "Hw2yeWayvqb0",
        "colab": {
          "base_uri": "https://localhost:8080/",
          "height": 238
        },
        "outputId": "cf7a423b-d93e-4afd-8ab1-5899d8f1e8e1"
      },
      "source": [
        "df.groupby('family_status')['dob_years'].agg(['mean','median'])"
      ],
      "execution_count": null,
      "outputs": [
        {
          "output_type": "execute_result",
          "data": {
            "text/html": [
              "<div>\n",
              "<style scoped>\n",
              "    .dataframe tbody tr th:only-of-type {\n",
              "        vertical-align: middle;\n",
              "    }\n",
              "\n",
              "    .dataframe tbody tr th {\n",
              "        vertical-align: top;\n",
              "    }\n",
              "\n",
              "    .dataframe thead th {\n",
              "        text-align: right;\n",
              "    }\n",
              "</style>\n",
              "<table border=\"1\" class=\"dataframe\">\n",
              "  <thead>\n",
              "    <tr style=\"text-align: right;\">\n",
              "      <th></th>\n",
              "      <th>mean</th>\n",
              "      <th>median</th>\n",
              "    </tr>\n",
              "    <tr>\n",
              "      <th>family_status</th>\n",
              "      <th></th>\n",
              "      <th></th>\n",
              "    </tr>\n",
              "  </thead>\n",
              "  <tbody>\n",
              "    <tr>\n",
              "      <th>в разводе</th>\n",
              "      <td>45.879498</td>\n",
              "      <td>46</td>\n",
              "    </tr>\n",
              "    <tr>\n",
              "      <th>вдовец / вдова</th>\n",
              "      <td>56.811262</td>\n",
              "      <td>58</td>\n",
              "    </tr>\n",
              "    <tr>\n",
              "      <th>гражданский брак</th>\n",
              "      <td>42.271983</td>\n",
              "      <td>41</td>\n",
              "    </tr>\n",
              "    <tr>\n",
              "      <th>женат / замужем</th>\n",
              "      <td>43.715131</td>\n",
              "      <td>43</td>\n",
              "    </tr>\n",
              "    <tr>\n",
              "      <th>не женат / не замужем</th>\n",
              "      <td>38.614235</td>\n",
              "      <td>36</td>\n",
              "    </tr>\n",
              "  </tbody>\n",
              "</table>\n",
              "</div>"
            ],
            "text/plain": [
              "                            mean  median\n",
              "family_status                           \n",
              "в разводе              45.879498      46\n",
              "вдовец / вдова         56.811262      58\n",
              "гражданский брак       42.271983      41\n",
              "женат / замужем        43.715131      43\n",
              "не женат / не замужем  38.614235      36"
            ]
          },
          "metadata": {},
          "execution_count": 59
        }
      ]
    },
    {
      "cell_type": "code",
      "metadata": {
        "id": "3351ar0svqb0",
        "colab": {
          "base_uri": "https://localhost:8080/",
          "height": 238
        },
        "outputId": "f1289b24-de46-482c-c603-c4c12bafa7a0"
      },
      "source": [
        "df.groupby('dob_years_cat')['debt'].agg(['mean','median'])"
      ],
      "execution_count": null,
      "outputs": [
        {
          "output_type": "execute_result",
          "data": {
            "text/html": [
              "<div>\n",
              "<style scoped>\n",
              "    .dataframe tbody tr th:only-of-type {\n",
              "        vertical-align: middle;\n",
              "    }\n",
              "\n",
              "    .dataframe tbody tr th {\n",
              "        vertical-align: top;\n",
              "    }\n",
              "\n",
              "    .dataframe thead th {\n",
              "        text-align: right;\n",
              "    }\n",
              "</style>\n",
              "<table border=\"1\" class=\"dataframe\">\n",
              "  <thead>\n",
              "    <tr style=\"text-align: right;\">\n",
              "      <th></th>\n",
              "      <th>mean</th>\n",
              "      <th>median</th>\n",
              "    </tr>\n",
              "    <tr>\n",
              "      <th>dob_years_cat</th>\n",
              "      <th></th>\n",
              "      <th></th>\n",
              "    </tr>\n",
              "  </thead>\n",
              "  <tbody>\n",
              "    <tr>\n",
              "      <th>(18.999, 32.0]</th>\n",
              "      <td>0.110972</td>\n",
              "      <td>0</td>\n",
              "    </tr>\n",
              "    <tr>\n",
              "      <th>(32.0, 39.0]</th>\n",
              "      <td>0.091239</td>\n",
              "      <td>0</td>\n",
              "    </tr>\n",
              "    <tr>\n",
              "      <th>(39.0, 47.0]</th>\n",
              "      <td>0.078545</td>\n",
              "      <td>0</td>\n",
              "    </tr>\n",
              "    <tr>\n",
              "      <th>(47.0, 56.0]</th>\n",
              "      <td>0.065777</td>\n",
              "      <td>0</td>\n",
              "    </tr>\n",
              "    <tr>\n",
              "      <th>(56.0, 75.0]</th>\n",
              "      <td>0.053705</td>\n",
              "      <td>0</td>\n",
              "    </tr>\n",
              "  </tbody>\n",
              "</table>\n",
              "</div>"
            ],
            "text/plain": [
              "                    mean  median\n",
              "dob_years_cat                   \n",
              "(18.999, 32.0]  0.110972       0\n",
              "(32.0, 39.0]    0.091239       0\n",
              "(39.0, 47.0]    0.078545       0\n",
              "(47.0, 56.0]    0.065777       0\n",
              "(56.0, 75.0]    0.053705       0"
            ]
          },
          "metadata": {},
          "execution_count": 60
        }
      ]
    },
    {
      "cell_type": "markdown",
      "metadata": {
        "id": "0d8WoJ4Cvqb0"
      },
      "source": [
        "People who are married, divorced or widowed are older. The older a borrower, the less the risk of not paying back on time. "
      ]
    },
    {
      "cell_type": "markdown",
      "metadata": {
        "id": "RHq1Mo8Qvqb1"
      },
      "source": [
        "#### Is there a relationship between income level and loan repayment on time?"
      ]
    },
    {
      "cell_type": "markdown",
      "metadata": {
        "id": "P30pFHxIvqb2"
      },
      "source": [
        "We will look at mean and median income in both groups and the average delinquency rate by income categories:"
      ]
    },
    {
      "cell_type": "code",
      "metadata": {
        "id": "rqabIsKlvqb2",
        "colab": {
          "base_uri": "https://localhost:8080/",
          "height": 143
        },
        "outputId": "d21caf7b-ed7b-4b89-8f9b-0718ed1b422e"
      },
      "source": [
        "df.groupby('debt')['total_income'].agg(['mean','median'])"
      ],
      "execution_count": null,
      "outputs": [
        {
          "output_type": "execute_result",
          "data": {
            "text/html": [
              "<div>\n",
              "<style scoped>\n",
              "    .dataframe tbody tr th:only-of-type {\n",
              "        vertical-align: middle;\n",
              "    }\n",
              "\n",
              "    .dataframe tbody tr th {\n",
              "        vertical-align: top;\n",
              "    }\n",
              "\n",
              "    .dataframe thead th {\n",
              "        text-align: right;\n",
              "    }\n",
              "</style>\n",
              "<table border=\"1\" class=\"dataframe\">\n",
              "  <thead>\n",
              "    <tr style=\"text-align: right;\">\n",
              "      <th></th>\n",
              "      <th>mean</th>\n",
              "      <th>median</th>\n",
              "    </tr>\n",
              "    <tr>\n",
              "      <th>debt</th>\n",
              "      <th></th>\n",
              "      <th></th>\n",
              "    </tr>\n",
              "  </thead>\n",
              "  <tbody>\n",
              "    <tr>\n",
              "      <th>0</th>\n",
              "      <td>165687.076599</td>\n",
              "      <td>142594</td>\n",
              "    </tr>\n",
              "    <tr>\n",
              "      <th>1</th>\n",
              "      <td>161158.393452</td>\n",
              "      <td>142594</td>\n",
              "    </tr>\n",
              "  </tbody>\n",
              "</table>\n",
              "</div>"
            ],
            "text/plain": [
              "               mean  median\n",
              "debt                       \n",
              "0     165687.076599  142594\n",
              "1     161158.393452  142594"
            ]
          },
          "metadata": {},
          "execution_count": 61
        }
      ]
    },
    {
      "cell_type": "code",
      "metadata": {
        "id": "h2s_XdDKvqb3",
        "colab": {
          "base_uri": "https://localhost:8080/",
          "height": 269
        },
        "outputId": "ed24815e-1767-4e91-8cff-a4d427287006"
      },
      "source": [
        "df.groupby('total_income_cat').agg({'debt': 'mean'})"
      ],
      "execution_count": null,
      "outputs": [
        {
          "output_type": "execute_result",
          "data": {
            "text/html": [
              "<div>\n",
              "<style scoped>\n",
              "    .dataframe tbody tr th:only-of-type {\n",
              "        vertical-align: middle;\n",
              "    }\n",
              "\n",
              "    .dataframe tbody tr th {\n",
              "        vertical-align: top;\n",
              "    }\n",
              "\n",
              "    .dataframe thead th {\n",
              "        text-align: right;\n",
              "    }\n",
              "</style>\n",
              "<table border=\"1\" class=\"dataframe\">\n",
              "  <thead>\n",
              "    <tr style=\"text-align: right;\">\n",
              "      <th></th>\n",
              "      <th>debt</th>\n",
              "    </tr>\n",
              "    <tr>\n",
              "      <th>total_income_cat</th>\n",
              "      <th></th>\n",
              "    </tr>\n",
              "  </thead>\n",
              "  <tbody>\n",
              "    <tr>\n",
              "      <th>(20000.0, 80000.0]</th>\n",
              "      <td>0.076450</td>\n",
              "    </tr>\n",
              "    <tr>\n",
              "      <th>(80000.0, 120000.0]</th>\n",
              "      <td>0.083148</td>\n",
              "    </tr>\n",
              "    <tr>\n",
              "      <th>(120000.0, 160000.0]</th>\n",
              "      <td>0.088497</td>\n",
              "    </tr>\n",
              "    <tr>\n",
              "      <th>(160000.0, 200000.0]</th>\n",
              "      <td>0.084862</td>\n",
              "    </tr>\n",
              "    <tr>\n",
              "      <th>(200000.0, 400000.0]</th>\n",
              "      <td>0.072058</td>\n",
              "    </tr>\n",
              "    <tr>\n",
              "      <th>(400000.0, inf]</th>\n",
              "      <td>0.058601</td>\n",
              "    </tr>\n",
              "  </tbody>\n",
              "</table>\n",
              "</div>"
            ],
            "text/plain": [
              "                          debt\n",
              "total_income_cat              \n",
              "(20000.0, 80000.0]    0.076450\n",
              "(80000.0, 120000.0]   0.083148\n",
              "(120000.0, 160000.0]  0.088497\n",
              "(160000.0, 200000.0]  0.084862\n",
              "(200000.0, 400000.0]  0.072058\n",
              "(400000.0, inf]       0.058601"
            ]
          },
          "metadata": {},
          "execution_count": 62
        }
      ]
    },
    {
      "cell_type": "markdown",
      "metadata": {
        "id": "xa7Dmq0Kvqb3"
      },
      "source": [
        "<b>Conclusion:</b>\n",
        "There is a relationship between the delinquency rate and income: middle and upper-middle levels (120 000 - 160 000) show the highest delinquency rate, while the lowest risk is among high income borrowers."
      ]
    },
    {
      "cell_type": "markdown",
      "metadata": {
        "id": "hewf-Buevqb5"
      },
      "source": [
        "#### How do different purposes of a loan affect its return on time?"
      ]
    },
    {
      "cell_type": "markdown",
      "metadata": {
        "id": "srMDUTNuvqb5"
      },
      "source": [
        "[We will look at mean debt by purpose categories"
      ]
    },
    {
      "cell_type": "code",
      "metadata": {
        "id": "7b7GheH5vqb5",
        "colab": {
          "base_uri": "https://localhost:8080/"
        },
        "outputId": "f7e30e17-c84b-403e-e3d1-9ec54dbdea58"
      },
      "source": [
        "df.groupby('purpose_cat')['debt'].mean()"
      ],
      "execution_count": null,
      "outputs": [
        {
          "output_type": "execute_result",
          "data": {
            "text/plain": [
              "purpose_cat\n",
              "education      0.092200\n",
              "marriage       0.080034\n",
              "real estate    0.072334\n",
              "vehicle        0.093590\n",
              "Name: debt, dtype: float64"
            ]
          },
          "metadata": {},
          "execution_count": 63
        }
      ]
    },
    {
      "cell_type": "markdown",
      "metadata": {
        "id": "g_w1aFONvqb6"
      },
      "source": [
        "<b>Conclusion:</b>\n",
        "The past-due rate is higher for auto and education loans, whereas mortgages and wedding loans show a lower rate of delinquency."
      ]
    },
    {
      "cell_type": "markdown",
      "metadata": {
        "id": "cFNGpr1Pvqb6"
      },
      "source": [
        "### Stage 4. Conclusion"
      ]
    },
    {
      "cell_type": "markdown",
      "metadata": {
        "id": "Zs94E_4bvqb6"
      },
      "source": [
        "We can assume a relationship between the number of children and the delinquency rate, having children increases the risk of delinquency. \n",
        "\n",
        "Marital status also affects the delinquency rate. Unmarried borrowers have the highest risk, while widowed borrowers show the lowest risk. However, it could be influenced by age (unmarried clients are younger, whereas widowed borrowers are older). \n",
        "\n",
        "Income also affects the probability of paying off on time: middle and upper-middle levels show the highest delinquency rate, whereas the borrowers with high income are the most reliable ones.\n",
        "\n",
        "Loan purposes also affect the delinquency rate, marriage loans, and mortgages are paid off on time more frequently than education and auto loans."
      ]
    },
    {
      "cell_type": "code",
      "metadata": {
        "id": "b0qXsYBgXGeE"
      },
      "source": [
        ""
      ],
      "execution_count": null,
      "outputs": []
    }
  ]
}